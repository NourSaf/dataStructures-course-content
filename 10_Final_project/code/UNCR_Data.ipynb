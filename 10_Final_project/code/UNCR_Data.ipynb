{
 "cells": [
  {
   "cell_type": "code",
   "execution_count": 34,
   "metadata": {},
   "outputs": [],
   "source": [
    "import pandas as pd\n",
    "import numpy as np\n",
    "df_apps = pd.read_csv('Assylum_applications_2014-2024.csv')\n",
    "df_desc = pd.read_csv('Assylum_descisions_2014-2024.csv')\n",
    "df_inDisplac = pd.read_csv('internal_displacment_2014-2024.csv')"
   ]
  },
  {
   "cell_type": "code",
   "execution_count": 7,
   "metadata": {},
   "outputs": [
    {
     "data": {
      "text/html": [
       "<div>\n",
       "<style scoped>\n",
       "    .dataframe tbody tr th:only-of-type {\n",
       "        vertical-align: middle;\n",
       "    }\n",
       "\n",
       "    .dataframe tbody tr th {\n",
       "        vertical-align: top;\n",
       "    }\n",
       "\n",
       "    .dataframe thead th {\n",
       "        text-align: right;\n",
       "    }\n",
       "</style>\n",
       "<table border=\"1\" class=\"dataframe\">\n",
       "  <thead>\n",
       "    <tr style=\"text-align: right;\">\n",
       "      <th></th>\n",
       "      <th>Year</th>\n",
       "      <th>Country of origin</th>\n",
       "      <th>Country of asylum</th>\n",
       "      <th>Authority</th>\n",
       "      <th>Application type</th>\n",
       "      <th>Stage of procedure</th>\n",
       "      <th>Cases / Persons</th>\n",
       "      <th>applied</th>\n",
       "    </tr>\n",
       "  </thead>\n",
       "  <tbody>\n",
       "    <tr>\n",
       "      <th>0</th>\n",
       "      <td>2014</td>\n",
       "      <td>Iraq</td>\n",
       "      <td>Indonesia</td>\n",
       "      <td>U</td>\n",
       "      <td>N</td>\n",
       "      <td>FI</td>\n",
       "      <td>P</td>\n",
       "      <td>368</td>\n",
       "    </tr>\n",
       "    <tr>\n",
       "      <th>1</th>\n",
       "      <td>2014</td>\n",
       "      <td>Nigeria</td>\n",
       "      <td>United States of America</td>\n",
       "      <td>G</td>\n",
       "      <td>N</td>\n",
       "      <td>IN</td>\n",
       "      <td>C</td>\n",
       "      <td>331</td>\n",
       "    </tr>\n",
       "    <tr>\n",
       "      <th>2</th>\n",
       "      <td>2014</td>\n",
       "      <td>Palestinian</td>\n",
       "      <td>Algeria</td>\n",
       "      <td>U</td>\n",
       "      <td>N</td>\n",
       "      <td>FI</td>\n",
       "      <td>P</td>\n",
       "      <td>228</td>\n",
       "    </tr>\n",
       "    <tr>\n",
       "      <th>3</th>\n",
       "      <td>2014</td>\n",
       "      <td>China</td>\n",
       "      <td>France</td>\n",
       "      <td>G</td>\n",
       "      <td>N</td>\n",
       "      <td>FI</td>\n",
       "      <td>P</td>\n",
       "      <td>2673</td>\n",
       "    </tr>\n",
       "    <tr>\n",
       "      <th>4</th>\n",
       "      <td>2014</td>\n",
       "      <td>Ukraine</td>\n",
       "      <td>Chile</td>\n",
       "      <td>G</td>\n",
       "      <td>N</td>\n",
       "      <td>FI</td>\n",
       "      <td>P</td>\n",
       "      <td>5</td>\n",
       "    </tr>\n",
       "    <tr>\n",
       "      <th>5</th>\n",
       "      <td>2014</td>\n",
       "      <td>Algeria</td>\n",
       "      <td>Luxembourg</td>\n",
       "      <td>G</td>\n",
       "      <td>N</td>\n",
       "      <td>FI</td>\n",
       "      <td>P</td>\n",
       "      <td>41</td>\n",
       "    </tr>\n",
       "    <tr>\n",
       "      <th>6</th>\n",
       "      <td>2014</td>\n",
       "      <td>South Sudan</td>\n",
       "      <td>Egypt</td>\n",
       "      <td>U</td>\n",
       "      <td>R</td>\n",
       "      <td>RA</td>\n",
       "      <td>P</td>\n",
       "      <td>46</td>\n",
       "    </tr>\n",
       "    <tr>\n",
       "      <th>7</th>\n",
       "      <td>2014</td>\n",
       "      <td>Iraq</td>\n",
       "      <td>Oman</td>\n",
       "      <td>U</td>\n",
       "      <td>N</td>\n",
       "      <td>FI</td>\n",
       "      <td>P</td>\n",
       "      <td>161</td>\n",
       "    </tr>\n",
       "    <tr>\n",
       "      <th>8</th>\n",
       "      <td>2014</td>\n",
       "      <td>Pakistan</td>\n",
       "      <td>France</td>\n",
       "      <td>G</td>\n",
       "      <td>N</td>\n",
       "      <td>FI</td>\n",
       "      <td>P</td>\n",
       "      <td>2136</td>\n",
       "    </tr>\n",
       "    <tr>\n",
       "      <th>9</th>\n",
       "      <td>2014</td>\n",
       "      <td>Palestinian</td>\n",
       "      <td>Mauritania</td>\n",
       "      <td>U</td>\n",
       "      <td>N</td>\n",
       "      <td>FA</td>\n",
       "      <td>P</td>\n",
       "      <td>6</td>\n",
       "    </tr>\n",
       "  </tbody>\n",
       "</table>\n",
       "</div>"
      ],
      "text/plain": [
       "   Year Country of origin         Country of asylum Authority  \\\n",
       "0  2014              Iraq                 Indonesia         U   \n",
       "1  2014           Nigeria  United States of America         G   \n",
       "2  2014       Palestinian                   Algeria         U   \n",
       "3  2014             China                    France         G   \n",
       "4  2014           Ukraine                     Chile         G   \n",
       "5  2014           Algeria                Luxembourg         G   \n",
       "6  2014       South Sudan                     Egypt         U   \n",
       "7  2014              Iraq                      Oman         U   \n",
       "8  2014          Pakistan                    France         G   \n",
       "9  2014       Palestinian                Mauritania         U   \n",
       "\n",
       "  Application type Stage of procedure Cases / Persons  applied  \n",
       "0                N                 FI               P      368  \n",
       "1                N                 IN               C      331  \n",
       "2                N                 FI               P      228  \n",
       "3                N                 FI               P     2673  \n",
       "4                N                 FI               P        5  \n",
       "5                N                 FI               P       41  \n",
       "6                R                 RA               P       46  \n",
       "7                N                 FI               P      161  \n",
       "8                N                 FI               P     2136  \n",
       "9                N                 FA               P        6  "
      ]
     },
     "execution_count": 7,
     "metadata": {},
     "output_type": "execute_result"
    }
   ],
   "source": [
    "df_apps.head(10)"
   ]
  },
  {
   "cell_type": "code",
   "execution_count": 25,
   "metadata": {},
   "outputs": [
    {
     "data": {
      "text/plain": [
       "Country of origin\n",
       "Syrian Arab Rep.                     1352\n",
       "Afghanistan                          1202\n",
       "Nigeria                              1159\n",
       "Pakistan                             1147\n",
       "Dem. Rep. of the Congo               1145\n",
       "                                     ... \n",
       "Marshall Islands                        1\n",
       "Monaco                                  1\n",
       "Bonaire, Saint Eustatius and Saba       1\n",
       "Puerto Rico                             1\n",
       "New Caledonia                           1\n",
       "Name: count, Length: 208, dtype: int64"
      ]
     },
     "execution_count": 25,
     "metadata": {},
     "output_type": "execute_result"
    }
   ],
   "source": [
    "df_apps['Country of origin'].value_counts()"
   ]
  },
  {
   "cell_type": "code",
   "execution_count": 45,
   "metadata": {},
   "outputs": [
    {
     "data": {
      "text/plain": [
       "<pandas.core.groupby.generic.DataFrameGroupBy object at 0x127058fa0>"
      ]
     },
     "execution_count": 45,
     "metadata": {},
     "output_type": "execute_result"
    }
   ],
   "source": [
    "df_apps[['Country of origin','Year']].groupby('Country of origin')"
   ]
  },
  {
   "cell_type": "code",
   "execution_count": null,
   "metadata": {},
   "outputs": [],
   "source": []
  }
 ],
 "metadata": {
  "kernelspec": {
   "display_name": "Python 3 (ipykernel)",
   "language": "python",
   "name": "python3"
  },
  "language_info": {
   "codemirror_mode": {
    "name": "ipython",
    "version": 3
   },
   "file_extension": ".py",
   "mimetype": "text/x-python",
   "name": "python",
   "nbconvert_exporter": "python",
   "pygments_lexer": "ipython3",
   "version": "3.10.12"
  }
 },
 "nbformat": 4,
 "nbformat_minor": 4
}
