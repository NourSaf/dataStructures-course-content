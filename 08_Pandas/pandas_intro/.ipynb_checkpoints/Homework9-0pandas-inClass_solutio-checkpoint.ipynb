{
 "cells": [
  {
   "cell_type": "markdown",
   "metadata": {},
   "source": [
    "# Pandas Intro Exercise\n",
    "\n",
    "Complete this notebook, or get as far as you can.\n",
    "\n",
    "Most of the questions here entail adapting examples from today's intro, for some you may need to google/chatbot a bit."
   ]
  },
  {
   "cell_type": "code",
   "execution_count": 1,
   "metadata": {},
   "outputs": [],
   "source": [
    "import pandas as pd"
   ]
  },
  {
   "cell_type": "markdown",
   "metadata": {},
   "source": [
    "## Book Publishing Data\n",
    "\n",
    "This is a not great data set (you'll see) that I download from github:\n",
    "\n",
    "https://gist.github.com/apietrick24/bfffc6c0d47abf00029790381e89626d\n",
    "\n",
    "Sometimes pandas can be very useful for just evaluating how useful a data set is. As you will see, this is not a trustworthy or useful data set. But there's enough in here to play around with.\n",
    "\n",
    "And it should load in nicely without any encoding necessary."
   ]
  },
  {
   "cell_type": "code",
   "execution_count": 2,
   "metadata": {},
   "outputs": [],
   "source": [
    "df = pd.read_csv(\"bookPublishingData.csv\")"
   ]
  },
  {
   "cell_type": "markdown",
   "metadata": {},
   "source": [
    "#### Take a Look at the Data"
   ]
  },
  {
   "cell_type": "code",
   "execution_count": null,
   "metadata": {},
   "outputs": [],
   "source": [
    "# You can set how many cols and rows it displays\n",
    "pd.set_option('display.max_rows', None)\n",
    "pd.set_option('display.max_columns', None)\n",
    "df"
   ]
  },
  {
   "cell_type": "code",
   "execution_count": 3,
   "metadata": {},
   "outputs": [
    {
     "data": {
      "text/html": [
       "<div>\n",
       "<style scoped>\n",
       "    .dataframe tbody tr th:only-of-type {\n",
       "        vertical-align: middle;\n",
       "    }\n",
       "\n",
       "    .dataframe tbody tr th {\n",
       "        vertical-align: top;\n",
       "    }\n",
       "\n",
       "    .dataframe thead th {\n",
       "        text-align: right;\n",
       "    }\n",
       "</style>\n",
       "<table border=\"1\" class=\"dataframe\">\n",
       "  <thead>\n",
       "    <tr style=\"text-align: right;\">\n",
       "      <th></th>\n",
       "      <th>Publishing_Year</th>\n",
       "      <th>Book_Name</th>\n",
       "      <th>Author</th>\n",
       "      <th>Language_Code</th>\n",
       "      <th>Author_Rating</th>\n",
       "      <th>Book_Average_Rating</th>\n",
       "      <th>Book_Ratings_Count</th>\n",
       "      <th>Genre</th>\n",
       "      <th>Gross_Sales</th>\n",
       "      <th>Publisher_Revenue</th>\n",
       "      <th>Sale_Price</th>\n",
       "      <th>Sale_Rank</th>\n",
       "      <th>Publisher</th>\n",
       "      <th>Units_Sold</th>\n",
       "    </tr>\n",
       "  </thead>\n",
       "  <tbody>\n",
       "    <tr>\n",
       "      <th>0</th>\n",
       "      <td>1975.0</td>\n",
       "      <td>Beowulf</td>\n",
       "      <td>Unknown, Seamus Heaney</td>\n",
       "      <td>en-US</td>\n",
       "      <td>Novice</td>\n",
       "      <td>3.42</td>\n",
       "      <td>155903</td>\n",
       "      <td>genre fiction</td>\n",
       "      <td>34160.0</td>\n",
       "      <td>20496.0</td>\n",
       "      <td>4.88</td>\n",
       "      <td>1</td>\n",
       "      <td>HarperCollins Publishers</td>\n",
       "      <td>7000</td>\n",
       "    </tr>\n",
       "    <tr>\n",
       "      <th>1</th>\n",
       "      <td>1987.0</td>\n",
       "      <td>Batman: Year One</td>\n",
       "      <td>Frank Miller, David Mazzucchelli, Richmond Lew...</td>\n",
       "      <td>eng</td>\n",
       "      <td>Intermediate</td>\n",
       "      <td>4.23</td>\n",
       "      <td>145267</td>\n",
       "      <td>genre fiction</td>\n",
       "      <td>12437.5</td>\n",
       "      <td>7462.5</td>\n",
       "      <td>1.99</td>\n",
       "      <td>2</td>\n",
       "      <td>HarperCollins Publishers</td>\n",
       "      <td>6250</td>\n",
       "    </tr>\n",
       "    <tr>\n",
       "      <th>2</th>\n",
       "      <td>2015.0</td>\n",
       "      <td>Go Set a Watchman</td>\n",
       "      <td>Harper Lee</td>\n",
       "      <td>eng</td>\n",
       "      <td>Novice</td>\n",
       "      <td>3.31</td>\n",
       "      <td>138669</td>\n",
       "      <td>genre fiction</td>\n",
       "      <td>47795.0</td>\n",
       "      <td>28677.0</td>\n",
       "      <td>8.69</td>\n",
       "      <td>3</td>\n",
       "      <td>Amazon Digital Services,  Inc.</td>\n",
       "      <td>5500</td>\n",
       "    </tr>\n",
       "    <tr>\n",
       "      <th>3</th>\n",
       "      <td>2008.0</td>\n",
       "      <td>When You Are Engulfed in Flames</td>\n",
       "      <td>David Sedaris</td>\n",
       "      <td>en-US</td>\n",
       "      <td>Intermediate</td>\n",
       "      <td>4.04</td>\n",
       "      <td>150898</td>\n",
       "      <td>fiction</td>\n",
       "      <td>41250.0</td>\n",
       "      <td>24750.0</td>\n",
       "      <td>7.50</td>\n",
       "      <td>3</td>\n",
       "      <td>Hachette Book Group</td>\n",
       "      <td>5500</td>\n",
       "    </tr>\n",
       "    <tr>\n",
       "      <th>4</th>\n",
       "      <td>2011.0</td>\n",
       "      <td>Daughter of Smoke &amp; Bone</td>\n",
       "      <td>Laini Taylor</td>\n",
       "      <td>eng</td>\n",
       "      <td>Intermediate</td>\n",
       "      <td>4.04</td>\n",
       "      <td>198283</td>\n",
       "      <td>genre fiction</td>\n",
       "      <td>37952.5</td>\n",
       "      <td>22771.5</td>\n",
       "      <td>7.99</td>\n",
       "      <td>4</td>\n",
       "      <td>Penguin Group (USA) LLC</td>\n",
       "      <td>4750</td>\n",
       "    </tr>\n",
       "  </tbody>\n",
       "</table>\n",
       "</div>"
      ],
      "text/plain": [
       "   Publishing_Year                        Book_Name  \\\n",
       "0           1975.0                          Beowulf   \n",
       "1           1987.0                 Batman: Year One   \n",
       "2           2015.0                Go Set a Watchman   \n",
       "3           2008.0  When You Are Engulfed in Flames   \n",
       "4           2011.0         Daughter of Smoke & Bone   \n",
       "\n",
       "                                              Author Language_Code  \\\n",
       "0                             Unknown, Seamus Heaney         en-US   \n",
       "1  Frank Miller, David Mazzucchelli, Richmond Lew...           eng   \n",
       "2                                         Harper Lee           eng   \n",
       "3                                      David Sedaris         en-US   \n",
       "4                                       Laini Taylor           eng   \n",
       "\n",
       "  Author_Rating  Book_Average_Rating  Book_Ratings_Count          Genre  \\\n",
       "0        Novice                 3.42              155903  genre fiction   \n",
       "1  Intermediate                 4.23              145267  genre fiction   \n",
       "2        Novice                 3.31              138669  genre fiction   \n",
       "3  Intermediate                 4.04              150898        fiction   \n",
       "4  Intermediate                 4.04              198283  genre fiction   \n",
       "\n",
       "   Gross_Sales  Publisher_Revenue  Sale_Price  Sale_Rank  \\\n",
       "0      34160.0            20496.0        4.88          1   \n",
       "1      12437.5             7462.5        1.99          2   \n",
       "2      47795.0            28677.0        8.69          3   \n",
       "3      41250.0            24750.0        7.50          3   \n",
       "4      37952.5            22771.5        7.99          4   \n",
       "\n",
       "                        Publisher  Units_Sold  \n",
       "0        HarperCollins Publishers        7000  \n",
       "1        HarperCollins Publishers        6250  \n",
       "2  Amazon Digital Services,  Inc.        5500  \n",
       "3             Hachette Book Group        5500  \n",
       "4         Penguin Group (USA) LLC        4750  "
      ]
     },
     "execution_count": 3,
     "metadata": {},
     "output_type": "execute_result"
    }
   ],
   "source": [
    "#top rows...\n",
    "df.head()"
   ]
  },
  {
   "cell_type": "code",
   "execution_count": 4,
   "metadata": {},
   "outputs": [
    {
     "data": {
      "text/html": [
       "<div>\n",
       "<style scoped>\n",
       "    .dataframe tbody tr th:only-of-type {\n",
       "        vertical-align: middle;\n",
       "    }\n",
       "\n",
       "    .dataframe tbody tr th {\n",
       "        vertical-align: top;\n",
       "    }\n",
       "\n",
       "    .dataframe thead th {\n",
       "        text-align: right;\n",
       "    }\n",
       "</style>\n",
       "<table border=\"1\" class=\"dataframe\">\n",
       "  <thead>\n",
       "    <tr style=\"text-align: right;\">\n",
       "      <th></th>\n",
       "      <th>Publishing_Year</th>\n",
       "      <th>Book_Name</th>\n",
       "      <th>Author</th>\n",
       "      <th>Language_Code</th>\n",
       "      <th>Author_Rating</th>\n",
       "      <th>Book_Average_Rating</th>\n",
       "      <th>Book_Ratings_Count</th>\n",
       "      <th>Genre</th>\n",
       "      <th>Gross_Sales</th>\n",
       "      <th>Publisher_Revenue</th>\n",
       "      <th>Sale_Price</th>\n",
       "      <th>Sale_Rank</th>\n",
       "      <th>Publisher</th>\n",
       "      <th>Units_Sold</th>\n",
       "    </tr>\n",
       "  </thead>\n",
       "  <tbody>\n",
       "    <tr>\n",
       "      <th>0</th>\n",
       "      <td>1975.0</td>\n",
       "      <td>Beowulf</td>\n",
       "      <td>Unknown, Seamus Heaney</td>\n",
       "      <td>en-US</td>\n",
       "      <td>Novice</td>\n",
       "      <td>3.42</td>\n",
       "      <td>155903</td>\n",
       "      <td>genre fiction</td>\n",
       "      <td>34160.00</td>\n",
       "      <td>20496.000</td>\n",
       "      <td>4.88</td>\n",
       "      <td>1</td>\n",
       "      <td>HarperCollins Publishers</td>\n",
       "      <td>7000</td>\n",
       "    </tr>\n",
       "    <tr>\n",
       "      <th>1</th>\n",
       "      <td>1987.0</td>\n",
       "      <td>Batman: Year One</td>\n",
       "      <td>Frank Miller, David Mazzucchelli, Richmond Lew...</td>\n",
       "      <td>eng</td>\n",
       "      <td>Intermediate</td>\n",
       "      <td>4.23</td>\n",
       "      <td>145267</td>\n",
       "      <td>genre fiction</td>\n",
       "      <td>12437.50</td>\n",
       "      <td>7462.500</td>\n",
       "      <td>1.99</td>\n",
       "      <td>2</td>\n",
       "      <td>HarperCollins Publishers</td>\n",
       "      <td>6250</td>\n",
       "    </tr>\n",
       "    <tr>\n",
       "      <th>2</th>\n",
       "      <td>2015.0</td>\n",
       "      <td>Go Set a Watchman</td>\n",
       "      <td>Harper Lee</td>\n",
       "      <td>eng</td>\n",
       "      <td>Novice</td>\n",
       "      <td>3.31</td>\n",
       "      <td>138669</td>\n",
       "      <td>genre fiction</td>\n",
       "      <td>47795.00</td>\n",
       "      <td>28677.000</td>\n",
       "      <td>8.69</td>\n",
       "      <td>3</td>\n",
       "      <td>Amazon Digital Services,  Inc.</td>\n",
       "      <td>5500</td>\n",
       "    </tr>\n",
       "    <tr>\n",
       "      <th>3</th>\n",
       "      <td>2008.0</td>\n",
       "      <td>When You Are Engulfed in Flames</td>\n",
       "      <td>David Sedaris</td>\n",
       "      <td>en-US</td>\n",
       "      <td>Intermediate</td>\n",
       "      <td>4.04</td>\n",
       "      <td>150898</td>\n",
       "      <td>fiction</td>\n",
       "      <td>41250.00</td>\n",
       "      <td>24750.000</td>\n",
       "      <td>7.50</td>\n",
       "      <td>3</td>\n",
       "      <td>Hachette Book Group</td>\n",
       "      <td>5500</td>\n",
       "    </tr>\n",
       "    <tr>\n",
       "      <th>4</th>\n",
       "      <td>2011.0</td>\n",
       "      <td>Daughter of Smoke &amp; Bone</td>\n",
       "      <td>Laini Taylor</td>\n",
       "      <td>eng</td>\n",
       "      <td>Intermediate</td>\n",
       "      <td>4.04</td>\n",
       "      <td>198283</td>\n",
       "      <td>genre fiction</td>\n",
       "      <td>37952.50</td>\n",
       "      <td>22771.500</td>\n",
       "      <td>7.99</td>\n",
       "      <td>4</td>\n",
       "      <td>Penguin Group (USA) LLC</td>\n",
       "      <td>4750</td>\n",
       "    </tr>\n",
       "    <tr>\n",
       "      <th>5</th>\n",
       "      <td>2015.0</td>\n",
       "      <td>Red Queen</td>\n",
       "      <td>Victoria Aveyard</td>\n",
       "      <td>eng</td>\n",
       "      <td>Intermediate</td>\n",
       "      <td>4.08</td>\n",
       "      <td>83354</td>\n",
       "      <td>genre fiction</td>\n",
       "      <td>19960.00</td>\n",
       "      <td>0.000</td>\n",
       "      <td>4.99</td>\n",
       "      <td>5</td>\n",
       "      <td>Amazon Digital Services,  Inc.</td>\n",
       "      <td>4000</td>\n",
       "    </tr>\n",
       "    <tr>\n",
       "      <th>6</th>\n",
       "      <td>2011.0</td>\n",
       "      <td>The Power of Habit</td>\n",
       "      <td>Charles Duhigg</td>\n",
       "      <td>eng</td>\n",
       "      <td>Intermediate</td>\n",
       "      <td>4.03</td>\n",
       "      <td>155977</td>\n",
       "      <td>genre fiction</td>\n",
       "      <td>27491.67</td>\n",
       "      <td>16495.002</td>\n",
       "      <td>6.99</td>\n",
       "      <td>6</td>\n",
       "      <td>HarperCollins Publishers</td>\n",
       "      <td>3933</td>\n",
       "    </tr>\n",
       "    <tr>\n",
       "      <th>7</th>\n",
       "      <td>1994.0</td>\n",
       "      <td>Midnight in the Garden of Good and Evil</td>\n",
       "      <td>John Berendt</td>\n",
       "      <td>eng</td>\n",
       "      <td>Intermediate</td>\n",
       "      <td>3.90</td>\n",
       "      <td>167997</td>\n",
       "      <td>nonfiction</td>\n",
       "      <td>26182.00</td>\n",
       "      <td>15709.200</td>\n",
       "      <td>6.89</td>\n",
       "      <td>8</td>\n",
       "      <td>Hachette Book Group</td>\n",
       "      <td>3800</td>\n",
       "    </tr>\n",
       "    <tr>\n",
       "      <th>8</th>\n",
       "      <td>2012.0</td>\n",
       "      <td>Hopeless</td>\n",
       "      <td>Colleen Hoover</td>\n",
       "      <td>eng</td>\n",
       "      <td>Intermediate</td>\n",
       "      <td>4.34</td>\n",
       "      <td>189938</td>\n",
       "      <td>genre fiction</td>\n",
       "      <td>26093.67</td>\n",
       "      <td>15656.202</td>\n",
       "      <td>6.99</td>\n",
       "      <td>9</td>\n",
       "      <td>HarperCollins Publishers</td>\n",
       "      <td>3733</td>\n",
       "    </tr>\n",
       "    <tr>\n",
       "      <th>9</th>\n",
       "      <td>1905.0</td>\n",
       "      <td>A Little Princess</td>\n",
       "      <td>Frances Hodgson Burnett, Nancy Bond</td>\n",
       "      <td>eng</td>\n",
       "      <td>Intermediate</td>\n",
       "      <td>4.20</td>\n",
       "      <td>199872</td>\n",
       "      <td>genre fiction</td>\n",
       "      <td>23792.34</td>\n",
       "      <td>14275.404</td>\n",
       "      <td>6.49</td>\n",
       "      <td>10</td>\n",
       "      <td>Random House LLC</td>\n",
       "      <td>3666</td>\n",
       "    </tr>\n",
       "  </tbody>\n",
       "</table>\n",
       "</div>"
      ],
      "text/plain": [
       "   Publishing_Year                                Book_Name  \\\n",
       "0           1975.0                                  Beowulf   \n",
       "1           1987.0                         Batman: Year One   \n",
       "2           2015.0                        Go Set a Watchman   \n",
       "3           2008.0          When You Are Engulfed in Flames   \n",
       "4           2011.0                 Daughter of Smoke & Bone   \n",
       "5           2015.0                                Red Queen   \n",
       "6           2011.0                       The Power of Habit   \n",
       "7           1994.0  Midnight in the Garden of Good and Evil   \n",
       "8           2012.0                                 Hopeless   \n",
       "9           1905.0                        A Little Princess   \n",
       "\n",
       "                                              Author Language_Code  \\\n",
       "0                             Unknown, Seamus Heaney         en-US   \n",
       "1  Frank Miller, David Mazzucchelli, Richmond Lew...           eng   \n",
       "2                                         Harper Lee           eng   \n",
       "3                                      David Sedaris         en-US   \n",
       "4                                       Laini Taylor           eng   \n",
       "5                                   Victoria Aveyard           eng   \n",
       "6                                     Charles Duhigg           eng   \n",
       "7                                       John Berendt           eng   \n",
       "8                                     Colleen Hoover           eng   \n",
       "9                Frances Hodgson Burnett, Nancy Bond           eng   \n",
       "\n",
       "  Author_Rating  Book_Average_Rating  Book_Ratings_Count          Genre  \\\n",
       "0        Novice                 3.42              155903  genre fiction   \n",
       "1  Intermediate                 4.23              145267  genre fiction   \n",
       "2        Novice                 3.31              138669  genre fiction   \n",
       "3  Intermediate                 4.04              150898        fiction   \n",
       "4  Intermediate                 4.04              198283  genre fiction   \n",
       "5  Intermediate                 4.08               83354  genre fiction   \n",
       "6  Intermediate                 4.03              155977  genre fiction   \n",
       "7  Intermediate                 3.90              167997     nonfiction   \n",
       "8  Intermediate                 4.34              189938  genre fiction   \n",
       "9  Intermediate                 4.20              199872  genre fiction   \n",
       "\n",
       "   Gross_Sales  Publisher_Revenue  Sale_Price  Sale_Rank  \\\n",
       "0     34160.00          20496.000        4.88          1   \n",
       "1     12437.50           7462.500        1.99          2   \n",
       "2     47795.00          28677.000        8.69          3   \n",
       "3     41250.00          24750.000        7.50          3   \n",
       "4     37952.50          22771.500        7.99          4   \n",
       "5     19960.00              0.000        4.99          5   \n",
       "6     27491.67          16495.002        6.99          6   \n",
       "7     26182.00          15709.200        6.89          8   \n",
       "8     26093.67          15656.202        6.99          9   \n",
       "9     23792.34          14275.404        6.49         10   \n",
       "\n",
       "                        Publisher  Units_Sold  \n",
       "0        HarperCollins Publishers        7000  \n",
       "1        HarperCollins Publishers        6250  \n",
       "2  Amazon Digital Services,  Inc.        5500  \n",
       "3             Hachette Book Group        5500  \n",
       "4         Penguin Group (USA) LLC        4750  \n",
       "5  Amazon Digital Services,  Inc.        4000  \n",
       "6        HarperCollins Publishers        3933  \n",
       "7             Hachette Book Group        3800  \n",
       "8        HarperCollins Publishers        3733  \n",
       "9                Random House LLC        3666  "
      ]
     },
     "execution_count": 4,
     "metadata": {},
     "output_type": "execute_result"
    }
   ],
   "source": [
    "# top 10\n",
    "df.head(10)"
   ]
  },
  {
   "cell_type": "code",
   "execution_count": null,
   "metadata": {},
   "outputs": [],
   "source": [
    "# rows at the end...\n",
    "df.tail(8)"
   ]
  },
  {
   "cell_type": "markdown",
   "metadata": {},
   "source": [
    "#### Explore and Clean\n"
   ]
  },
  {
   "cell_type": "markdown",
   "metadata": {},
   "source": [
    "Those years in the first column are very odd. Let's check their data type."
   ]
  },
  {
   "cell_type": "code",
   "execution_count": null,
   "metadata": {},
   "outputs": [],
   "source": [
    "df.columns.values\n",
    "slected_columns = ['Publishing_Year']\n",
    "df[slected_columns].dtypes"
   ]
  },
  {
   "cell_type": "markdown",
   "metadata": {},
   "source": [
    "Look for missing values in that column"
   ]
  },
  {
   "cell_type": "code",
   "execution_count": 5,
   "metadata": {},
   "outputs": [
    {
     "data": {
      "text/html": [
       "<div>\n",
       "<style scoped>\n",
       "    .dataframe tbody tr th:only-of-type {\n",
       "        vertical-align: middle;\n",
       "    }\n",
       "\n",
       "    .dataframe tbody tr th {\n",
       "        vertical-align: top;\n",
       "    }\n",
       "\n",
       "    .dataframe thead th {\n",
       "        text-align: right;\n",
       "    }\n",
       "</style>\n",
       "<table border=\"1\" class=\"dataframe\">\n",
       "  <thead>\n",
       "    <tr style=\"text-align: right;\">\n",
       "      <th></th>\n",
       "      <th>Publishing_Year</th>\n",
       "      <th>Book_Name</th>\n",
       "      <th>Author</th>\n",
       "      <th>Language_Code</th>\n",
       "      <th>Author_Rating</th>\n",
       "      <th>Book_Average_Rating</th>\n",
       "      <th>Book_Ratings_Count</th>\n",
       "      <th>Genre</th>\n",
       "      <th>Gross_Sales</th>\n",
       "      <th>Publisher_Revenue</th>\n",
       "      <th>Sale_Price</th>\n",
       "      <th>Sale_Rank</th>\n",
       "      <th>Publisher</th>\n",
       "      <th>Units_Sold</th>\n",
       "    </tr>\n",
       "  </thead>\n",
       "  <tbody>\n",
       "    <tr>\n",
       "      <th>445</th>\n",
       "      <td>NaN</td>\n",
       "      <td>NaN</td>\n",
       "      <td>Robert Kapilow, Dr. Seuss</td>\n",
       "      <td>NaN</td>\n",
       "      <td>Famous</td>\n",
       "      <td>4.44</td>\n",
       "      <td>90574</td>\n",
       "      <td>nonfiction</td>\n",
       "      <td>532.22</td>\n",
       "      <td>319.332</td>\n",
       "      <td>2.99</td>\n",
       "      <td>493</td>\n",
       "      <td>Hachette Book Group</td>\n",
       "      <td>4806</td>\n",
       "    </tr>\n",
       "  </tbody>\n",
       "</table>\n",
       "</div>"
      ],
      "text/plain": [
       "     Publishing_Year Book_Name                     Author Language_Code  \\\n",
       "445              NaN       NaN  Robert Kapilow, Dr. Seuss           NaN   \n",
       "\n",
       "    Author_Rating  Book_Average_Rating  Book_Ratings_Count       Genre  \\\n",
       "445        Famous                 4.44               90574  nonfiction   \n",
       "\n",
       "     Gross_Sales  Publisher_Revenue  Sale_Price  Sale_Rank  \\\n",
       "445       532.22            319.332        2.99        493   \n",
       "\n",
       "               Publisher  Units_Sold  \n",
       "445  Hachette Book Group        4806  "
      ]
     },
     "execution_count": 5,
     "metadata": {},
     "output_type": "execute_result"
    }
   ],
   "source": [
    "df[df['Publishing_Year'].isnull()]"
   ]
  },
  {
   "cell_type": "markdown",
   "metadata": {},
   "source": [
    "Remove the row with a missing value!"
   ]
  },
  {
   "cell_type": "code",
   "execution_count": 6,
   "metadata": {},
   "outputs": [
    {
     "data": {
      "text/plain": [
       "Index([445], dtype='int64')"
      ]
     },
     "execution_count": 6,
     "metadata": {},
     "output_type": "execute_result"
    }
   ],
   "source": [
    "i = df[df['Author'] == 'Robert Kapilow, Dr. Seuss'].index\n",
    "i"
   ]
  },
  {
   "cell_type": "code",
   "execution_count": 7,
   "metadata": {},
   "outputs": [],
   "source": [
    "df = df.drop(i)"
   ]
  },
  {
   "cell_type": "markdown",
   "metadata": {},
   "source": [
    "And now change the data type to an integer!"
   ]
  },
  {
   "cell_type": "code",
   "execution_count": 8,
   "metadata": {},
   "outputs": [],
   "source": [
    "df['Publishing_Year'] = df['Publishing_Year'].astype(int)"
   ]
  },
  {
   "cell_type": "markdown",
   "metadata": {},
   "source": [
    "Look at the dataframe to make sure the change worked."
   ]
  },
  {
   "cell_type": "code",
   "execution_count": 11,
   "metadata": {},
   "outputs": [
    {
     "data": {
      "text/plain": [
       "dtype('int64')"
      ]
     },
     "execution_count": 11,
     "metadata": {},
     "output_type": "execute_result"
    }
   ],
   "source": [
    "df.head(5)\n",
    "df['Publishing_Year'].dtypes"
   ]
  },
  {
   "cell_type": "markdown",
   "metadata": {},
   "source": [
    "Let's look at the language code. How many different language codes are there and how many instances of each of them?"
   ]
  },
  {
   "cell_type": "code",
   "execution_count": 16,
   "metadata": {},
   "outputs": [
    {
     "data": {
      "text/plain": [
       "Language_Code\n",
       "eng    1008\n",
       "fre       4\n",
       "spa       2\n",
       "ara       2\n",
       "nl        1\n",
       "Name: count, dtype: int64"
      ]
     },
     "execution_count": 16,
     "metadata": {},
     "output_type": "execute_result"
    }
   ],
   "source": [
    "#df['Language_Code'].value_counts()\n",
    "##You can use only the name of the colm as it is (not a string) if it is only on. \n",
    "df.Language_Code.value_counts()"
   ]
  },
  {
   "cell_type": "markdown",
   "metadata": {},
   "source": [
    "Ummm I don't think the en-US, -GB, -CA seems particularly consistent or useful. \n",
    "\n",
    "Let's change all of those just to `eng`"
   ]
  },
  {
   "cell_type": "code",
   "execution_count": 13,
   "metadata": {},
   "outputs": [],
   "source": [
    "import re\n",
    "#df['Language_Code'] = df['Language_Code'].str.replace('en-US','eng')\n",
    "#df['Language_Code'] = df['Language_Code'].str.replace('en-GB','eng')\n",
    "#df['Language_Code'] = df['Language_Code'].str.replace('en-CA','eng')\n",
    "\n",
    "df['Language_Code'] = df['Language_Code'].str.replace(r'en-.+','eng', regex=True) ##regex=Ture is a flag indicating that there is regex\n"
   ]
  },
  {
   "cell_type": "markdown",
   "metadata": {},
   "source": [
    "Now check that column again for unique values and their counts, to make sure your change worked!"
   ]
  },
  {
   "cell_type": "code",
   "execution_count": 14,
   "metadata": {},
   "outputs": [
    {
     "data": {
      "text/plain": [
       "Language_Code\n",
       "eng    1008\n",
       "fre       4\n",
       "spa       2\n",
       "ara       2\n",
       "nl        1\n",
       "Name: count, dtype: int64"
      ]
     },
     "execution_count": 14,
     "metadata": {},
     "output_type": "execute_result"
    }
   ],
   "source": [
    "df['Language_Code'].value_counts()"
   ]
  },
  {
   "cell_type": "markdown",
   "metadata": {},
   "source": [
    "A cursory look through this dataset reveals that there are a handful of missing titles, which seems pointless.\n",
    "\n",
    "Please show all of the rows that are missing a title."
   ]
  },
  {
   "cell_type": "code",
   "execution_count": null,
   "metadata": {},
   "outputs": [],
   "source": [
    "df.head()\n",
    "df[df['Book_Name'].isnull()]"
   ]
  },
  {
   "cell_type": "markdown",
   "metadata": {},
   "source": [
    "Now, just remove all of those rows.\n",
    "\n",
    "If you search online, you should be able to find a way to remove all of the rows that have missing value for that column."
   ]
  },
  {
   "cell_type": "code",
   "execution_count": null,
   "metadata": {},
   "outputs": [],
   "source": [
    "df = df.dropna(subset=['Book_Name'])\n",
    "df[df['Book_Name'].isnull()]"
   ]
  },
  {
   "cell_type": "markdown",
   "metadata": {},
   "source": [
    "Show all the entries for Books that have \"World\" in the title."
   ]
  },
  {
   "cell_type": "code",
   "execution_count": null,
   "metadata": {},
   "outputs": [],
   "source": [
    "regex = r'\\bWorld\\b'\n",
    "df[df['Book_Name'].str.contains(regex)]"
   ]
  },
  {
   "cell_type": "markdown",
   "metadata": {},
   "source": [
    "Show all the entries for Books that have the word \"Fire\" in the title."
   ]
  },
  {
   "cell_type": "code",
   "execution_count": null,
   "metadata": {},
   "outputs": [],
   "source": [
    "fire = r'\\bFire\\b'\n",
    "df[df['Book_Name'].str.contains(fire)]"
   ]
  },
  {
   "cell_type": "markdown",
   "metadata": {},
   "source": [
    "What are these \"Author_Rating\"s?\n",
    "\n",
    "What are they, and how many of each."
   ]
  },
  {
   "cell_type": "code",
   "execution_count": null,
   "metadata": {},
   "outputs": [],
   "source": [
    "df['Author_Rating'].value_counts()"
   ]
  },
  {
   "cell_type": "markdown",
   "metadata": {},
   "source": [
    "Show all the entries for Novice authors (so we can see how useless this category is...)"
   ]
  },
  {
   "cell_type": "code",
   "execution_count": null,
   "metadata": {},
   "outputs": [],
   "source": [
    "df[df['Author_Rating'] == 'Novice']"
   ]
  },
  {
   "cell_type": "markdown",
   "metadata": {},
   "source": [
    "Find the 10 books with the highest average rating that were published before the year 2000"
   ]
  },
  {
   "cell_type": "code",
   "execution_count": null,
   "metadata": {},
   "outputs": [],
   "source": [
    "highest_avg = df.sort_values(by='Book_Average_Rating',ascending=False).head(10)\n",
    "before_year = df['Publishing_Year'] < 2000\n",
    "df[before_year].sort_values(by='Book_Average_Rating',ascending=False).head(10)"
   ]
  },
  {
   "cell_type": "markdown",
   "metadata": {},
   "source": [
    "Find the 10 non-fiction books with the highest average rating. \n",
    "\n",
    "(and note how useless the genre category is too...)"
   ]
  },
  {
   "cell_type": "code",
   "execution_count": null,
   "metadata": {},
   "outputs": [],
   "source": [
    "#non_fiction\n",
    "non_fiction = df['Genre'] == 'nonfiction'\n",
    "df[non_fiction].sort_values(by='Book_Average_Rating',ascending=False).head(10)"
   ]
  },
  {
   "cell_type": "markdown",
   "metadata": {},
   "source": [
    "Show the 10 fiction books with the highest gross sales."
   ]
  },
  {
   "cell_type": "code",
   "execution_count": null,
   "metadata": {},
   "outputs": [],
   "source": [
    "#genre fiction\t\n",
    "non_fiction = df['Genre'] == 'fiction'\n",
    "df[non_fiction].sort_values(by='Gross_Sales',ascending=False).head(10)"
   ]
  },
  {
   "cell_type": "markdown",
   "metadata": {},
   "source": [
    "If you looked at the results, you would've noticed that the title BLEACH has a bunch of useless characters after it, likely the Japanese characters for that title. Remove the characters and replace it either with BLEACH."
   ]
  },
  {
   "cell_type": "code",
   "execution_count": null,
   "metadata": {},
   "outputs": [],
   "source": [
    "regex_bleach = r'[¼ãƒâ€•ã€€1]'\n",
    "df[df['Book_Name'].str.contains(regex_bleach)]\n",
    "df['Book_Name'] = df['Book_Name'].str.replace('BLEACHâ€•ãƒ–ãƒªãƒ¼ãƒâ€•ã€€1','BLEACH')\n"
   ]
  },
  {
   "cell_type": "markdown",
   "metadata": {},
   "source": [
    "Re-run the the previous quarry to make sure that bleach is fixed."
   ]
  },
  {
   "cell_type": "code",
   "execution_count": null,
   "metadata": {},
   "outputs": [],
   "source": []
  },
  {
   "cell_type": "code",
   "execution_count": null,
   "metadata": {},
   "outputs": [],
   "source": [
    "non_fiction = df['Genre'] == 'fiction'\n",
    "df[non_fiction].sort_values(by='Gross_Sales',ascending=False).head(10)"
   ]
  },
  {
   "cell_type": "markdown",
   "metadata": {},
   "source": [
    "What 10 authors have the most books in this dataset?"
   ]
  },
  {
   "cell_type": "code",
   "execution_count": null,
   "metadata": {},
   "outputs": [],
   "source": [
    "top_authors = df['Author'].value_counts().head(10)\n",
    "top_authors"
   ]
  },
  {
   "cell_type": "markdown",
   "metadata": {},
   "source": [
    "What are the max, min, and mean of Units Sold"
   ]
  },
  {
   "cell_type": "code",
   "execution_count": null,
   "metadata": {},
   "outputs": [],
   "source": [
    "units_stats = df['Units_Sold'].describe()\n",
    "units_stats\n",
    "##Searched for how to show only min, max and mean and found the agg() function \n",
    "units_stats_specific = df['Units_Sold'].agg(['min', 'max', 'mean'])\n",
    "print(units_stats,'\\n',units_stats_specific)"
   ]
  },
  {
   "cell_type": "markdown",
   "metadata": {},
   "source": [
    "Show the titles with the 10 most units sold, but only show the columns that have:\n",
    "\n",
    "Author name, book title, genre, units sold."
   ]
  },
  {
   "cell_type": "code",
   "execution_count": null,
   "metadata": {},
   "outputs": [],
   "source": [
    "colms = df[['Author','Book_Name','Units_Sold','Genre']]\n",
    "most_units_titles = colms.sort_values(by='Units_Sold', ascending=False).head(10)\n",
    "most_units_titles"
   ]
  },
  {
   "cell_type": "markdown",
   "metadata": {},
   "source": [
    "What are the total units sold for each genre?"
   ]
  },
  {
   "cell_type": "code",
   "execution_count": null,
   "metadata": {
    "scrolled": true
   },
   "outputs": [],
   "source": [
    "colms_g_u = df[['Genre','Units_Sold']]\n",
    "total_units_g = colms_g_u.groupby('Genre').sum()\n",
    "total_units_g"
   ]
  },
  {
   "cell_type": "markdown",
   "metadata": {},
   "source": [
    "Which 15 authors have sold the most units?"
   ]
  },
  {
   "cell_type": "code",
   "execution_count": null,
   "metadata": {},
   "outputs": [],
   "source": [
    "colms_a_u = df[['Author','Units_Sold']]\n",
    "total_units_a = colms_a_u.groupby('Author').sum().sort_values(by='Units_Sold', ascending=False).head(15)\n",
    "total_units_a"
   ]
  },
  {
   "cell_type": "markdown",
   "metadata": {},
   "source": [
    "Finally, show which authors have sold the most units along with the number of books.\n",
    "\n",
    "I didn't demo how to do this (hint grouping with two aggregates...)\n",
    "\n",
    "See if you can look it up and figure it out..."
   ]
  },
  {
   "cell_type": "code",
   "execution_count": null,
   "metadata": {},
   "outputs": [],
   "source": [
    "colms_a_u = df[['Author','Units_Sold', 'Book_Name']]\n",
    "total_units_a = colms_a_u.groupby('Author').agg(Books_count=('Book_Name', 'count'),Units_sold_sum=('Units_Sold', 'sum')).sort_values(by='Units_sold_sum', ascending=False).head(15)\n",
    "print(total_units_a)"
   ]
  },
  {
   "cell_type": "code",
   "execution_count": null,
   "metadata": {},
   "outputs": [],
   "source": [
    "colms_a_u = df[['Author','Units_Sold', 'Book_Name']]\n",
    "df_group = colms_a_u.groupby('Author').agg(Books_count=('Book_Name', 'count'),Units_sold_sum=('Units_Sold', 'sum')).sort_values(by='Units_sold_sum', ascending=False).head(15).reset_index()\n",
    "df_group\n"
   ]
  },
  {
   "cell_type": "code",
   "execution_count": null,
   "metadata": {},
   "outputs": [],
   "source": [
    "forplot = df_group.sort_values(by='Units_sold_sum',ascending=False).head(20)\n",
    "df_group.sort_values(by='Units_sold_sum').plot(\n",
    "        x='Author',\n",
    "        y='Books_count',\n",
    "        #y = 'Units_sold_sum',\n",
    "        kind='barh'\n",
    "    ) "
   ]
  },
  {
   "cell_type": "code",
   "execution_count": null,
   "metadata": {},
   "outputs": [],
   "source": []
  },
  {
   "cell_type": "code",
   "execution_count": null,
   "metadata": {},
   "outputs": [],
   "source": []
  }
 ],
 "metadata": {
  "kernelspec": {
   "display_name": "Python 3 (ipykernel)",
   "language": "python",
   "name": "python3"
  },
  "language_info": {
   "codemirror_mode": {
    "name": "ipython",
    "version": 3
   },
   "file_extension": ".py",
   "mimetype": "text/x-python",
   "name": "python",
   "nbconvert_exporter": "python",
   "pygments_lexer": "ipython3",
   "version": "3.10.12"
  }
 },
 "nbformat": 4,
 "nbformat_minor": 4
}
