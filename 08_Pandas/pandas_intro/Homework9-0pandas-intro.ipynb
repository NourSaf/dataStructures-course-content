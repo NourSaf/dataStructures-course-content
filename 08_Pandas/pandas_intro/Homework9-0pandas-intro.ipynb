{
 "cells": [
  {
   "cell_type": "markdown",
   "metadata": {},
   "source": [
    "# Pandas Intro Exercise\n",
    "\n",
    "Complete this notebook, or get as far as you can.\n",
    "\n",
    "Most of the questions here entail adapting examples from today's intro, for some you may need to google/chatbot a bit."
   ]
  },
  {
   "cell_type": "code",
   "execution_count": null,
   "metadata": {},
   "outputs": [],
   "source": [
    "import pandas as pd\n"
   ]
  },
  {
   "cell_type": "markdown",
   "metadata": {},
   "source": [
    "## Book Publishing Data\n",
    "\n",
    "This is a not great data set (you'll see) that I download from github:\n",
    "\n",
    "https://gist.github.com/apietrick24/bfffc6c0d47abf00029790381e89626d\n",
    "\n",
    "Sometimes pandas can be very useful for just evaluating how useful a data set is. As you will see, this is not a trustworthy or useful data set. But there's enough in here to play around with.\n",
    "\n",
    "And it should load in nicely without any encoding necessary."
   ]
  },
  {
   "cell_type": "code",
   "execution_count": null,
   "metadata": {},
   "outputs": [],
   "source": [
    "\n",
    "df = pd.read_csv(\"bookPublishingData.csv\")"
   ]
  },
  {
   "cell_type": "markdown",
   "metadata": {},
   "source": [
    "#### Take a Look at the Data"
   ]
  },
  {
   "cell_type": "code",
   "execution_count": null,
   "metadata": {},
   "outputs": [],
   "source": [
    "# You can set how many cols and rows it displays\n",
    "pd.set_option('display.max_rows', None)\n",
    "pd.set_option('display.max_columns', None)\n",
    "df"
   ]
  },
  {
   "cell_type": "code",
   "execution_count": null,
   "metadata": {},
   "outputs": [],
   "source": [
    "#top rows...\n",
    "df.head()"
   ]
  },
  {
   "cell_type": "code",
   "execution_count": null,
   "metadata": {},
   "outputs": [],
   "source": [
    "# top 10\n",
    "df.head(10)"
   ]
  },
  {
   "cell_type": "code",
   "execution_count": null,
   "metadata": {},
   "outputs": [],
   "source": [
    "# rows at the end...\n",
    "df.tail(8)"
   ]
  },
  {
   "cell_type": "markdown",
   "metadata": {},
   "source": [
    "#### Explore and Clean\n"
   ]
  },
  {
   "cell_type": "markdown",
   "metadata": {},
   "source": [
    "Those years in the first column are very odd. Let's check their data type."
   ]
  },
  {
   "cell_type": "code",
   "execution_count": null,
   "metadata": {},
   "outputs": [],
   "source": [
    "df.columns.values\n",
    "slected_columns = ['Publishing_Year']\n",
    "df[slected_columns].dtypes"
   ]
  },
  {
   "cell_type": "markdown",
   "metadata": {},
   "source": [
    "Look for missing values in that column"
   ]
  },
  {
   "cell_type": "code",
   "execution_count": null,
   "metadata": {},
   "outputs": [],
   "source": [
    "df[df['Publishing_Year'].isnull()]"
   ]
  },
  {
   "cell_type": "markdown",
   "metadata": {},
   "source": [
    "Remove the row with a missing value!"
   ]
  },
  {
   "cell_type": "code",
   "execution_count": null,
   "metadata": {},
   "outputs": [],
   "source": [
    "i = df[df['Author'] == 'Robert Kapilow, Dr. Seuss'].index\n",
    "i"
   ]
  },
  {
   "cell_type": "code",
   "execution_count": null,
   "metadata": {},
   "outputs": [],
   "source": [
    "df = df.drop(i)"
   ]
  },
  {
   "cell_type": "markdown",
   "metadata": {},
   "source": [
    "And now change the data type to an integer!"
   ]
  },
  {
   "cell_type": "code",
   "execution_count": null,
   "metadata": {},
   "outputs": [],
   "source": [
    "df['Publishing_Year'] = df['Publishing_Year'].astype(int)"
   ]
  },
  {
   "cell_type": "markdown",
   "metadata": {},
   "source": [
    "Look at the dataframe to make sure the change worked."
   ]
  },
  {
   "cell_type": "code",
   "execution_count": null,
   "metadata": {},
   "outputs": [],
   "source": [
    "df.head(5)\n",
    "df['Publishing_Year'].dtypes"
   ]
  },
  {
   "cell_type": "markdown",
   "metadata": {},
   "source": [
    "Let's look at the language code. How many different language codes are there and how many instances of each of them?"
   ]
  },
  {
   "cell_type": "code",
   "execution_count": null,
   "metadata": {},
   "outputs": [],
   "source": [
    "df['Language_Code'].value_counts()"
   ]
  },
  {
   "cell_type": "markdown",
   "metadata": {},
   "source": [
    "Ummm I don't think the en-US, -GB, -CA seems particularly consistent or useful. \n",
    "\n",
    "Let's change all of those just to `eng`"
   ]
  },
  {
   "cell_type": "code",
   "execution_count": null,
   "metadata": {},
   "outputs": [],
   "source": [
    "import re\n",
    "df['Language_Code'] = df['Language_Code'].str.replace('en-US','eng')\n",
    "df['Language_Code'] = df['Language_Code'].str.replace('en-GB','eng')\n",
    "df['Language_Code'] = df['Language_Code'].str.replace('en-CA','eng')\n"
   ]
  },
  {
   "cell_type": "markdown",
   "metadata": {},
   "source": [
    "Now check that column again for unique values and their counts, to make sure your change worked!"
   ]
  },
  {
   "cell_type": "code",
   "execution_count": null,
   "metadata": {},
   "outputs": [],
   "source": [
    "df['Language_Code'].value_counts()"
   ]
  },
  {
   "cell_type": "markdown",
   "metadata": {},
   "source": [
    "A cursory look through this dataset reveals that there are a handful of missing titles, which seems pointless.\n",
    "\n",
    "Please show all of the rows that are missing a title."
   ]
  },
  {
   "cell_type": "code",
   "execution_count": null,
   "metadata": {},
   "outputs": [],
   "source": [
    "df.head()\n",
    "df[df['Book_Name'].isnull()]"
   ]
  },
  {
   "cell_type": "markdown",
   "metadata": {},
   "source": [
    "Now, just remove all of those rows.\n",
    "\n",
    "If you search online, you should be able to find a way to remove all of the rows that have missing value for that column."
   ]
  },
  {
   "cell_type": "code",
   "execution_count": null,
   "metadata": {},
   "outputs": [],
   "source": [
    "df = df.dropna(subset=['Book_Name'])\n",
    "df[df['Book_Name'].isnull()]"
   ]
  },
  {
   "cell_type": "markdown",
   "metadata": {},
   "source": [
    "Show all the entries for Books that have \"World\" in the title."
   ]
  },
  {
   "cell_type": "code",
   "execution_count": null,
   "metadata": {},
   "outputs": [],
   "source": [
    "regex = r'\\bWorld\\b'\n",
    "df[df['Book_Name'].str.contains(regex)]"
   ]
  },
  {
   "cell_type": "markdown",
   "metadata": {},
   "source": [
    "Show all the entries for Books that have the word \"Fire\" in the title."
   ]
  },
  {
   "cell_type": "code",
   "execution_count": null,
   "metadata": {},
   "outputs": [],
   "source": [
    "fire = r'\\bFire\\b'\n",
    "df[df['Book_Name'].str.contains(fire)]"
   ]
  },
  {
   "cell_type": "markdown",
   "metadata": {},
   "source": [
    "What are these \"Author_Rating\"s?\n",
    "\n",
    "What are they, and how many of each."
   ]
  },
  {
   "cell_type": "code",
   "execution_count": null,
   "metadata": {},
   "outputs": [],
   "source": [
    "df['Author_Rating'].value_counts()"
   ]
  },
  {
   "cell_type": "markdown",
   "metadata": {},
   "source": [
    "Show all the entries for Novice authors (so we can see how useless this category is...)"
   ]
  },
  {
   "cell_type": "code",
   "execution_count": null,
   "metadata": {},
   "outputs": [],
   "source": [
    "df[df['Author_Rating'] == 'Novice']"
   ]
  },
  {
   "cell_type": "markdown",
   "metadata": {},
   "source": [
    "Find the 10 books with the highest average rating that were published before the year 2000"
   ]
  },
  {
   "cell_type": "code",
   "execution_count": null,
   "metadata": {},
   "outputs": [],
   "source": [
    "highest_avg = df.sort_values(by='Book_Average_Rating',ascending=False).head(10)\n",
    "before_year = df['Publishing_Year'] < 2000\n",
    "df[before_year].sort_values(by='Book_Average_Rating',ascending=False).head(10)"
   ]
  },
  {
   "cell_type": "markdown",
   "metadata": {},
   "source": [
    "Find the 10 non-fiction books with the highest average rating. \n",
    "\n",
    "(and note how useless the genre category is too...)"
   ]
  },
  {
   "cell_type": "code",
   "execution_count": null,
   "metadata": {},
   "outputs": [],
   "source": [
    "#non_fiction\n",
    "non_fiction = df['Genre'] == 'nonfiction'\n",
    "df[non_fiction].sort_values(by='Book_Average_Rating',ascending=False).head(10)"
   ]
  },
  {
   "cell_type": "markdown",
   "metadata": {},
   "source": [
    "Show the 10 fiction books with the highest gross sales."
   ]
  },
  {
   "cell_type": "code",
   "execution_count": null,
   "metadata": {},
   "outputs": [],
   "source": [
    "#genre fiction\t\n",
    "non_fiction = df['Genre'] == 'fiction'\n",
    "df[non_fiction].sort_values(by='Gross_Sales',ascending=False).head(10)"
   ]
  },
  {
   "cell_type": "markdown",
   "metadata": {},
   "source": [
    "If you looked at the results, you would've noticed that the title BLEACH has a bunch of useless characters after it, likely the Japanese characters for that title. Remove the characters and replace it either with BLEACH."
   ]
  },
  {
   "cell_type": "code",
   "execution_count": null,
   "metadata": {},
   "outputs": [],
   "source": [
    "regex_bleach = r'[¼ãƒâ€•ã€€1]'\n",
    "df[df['Book_Name'].str.contains(regex_bleach)]\n",
    "df['Book_Name'] = df['Book_Name'].str.replace('BLEACHâ€•ãƒ–ãƒªãƒ¼ãƒâ€•ã€€1','BLEACH')\n"
   ]
  },
  {
   "cell_type": "markdown",
   "metadata": {},
   "source": [
    "Re-run the the previous quarry to make sure that bleach is fixed."
   ]
  },
  {
   "cell_type": "code",
   "execution_count": null,
   "metadata": {},
   "outputs": [],
   "source": []
  },
  {
   "cell_type": "code",
   "execution_count": null,
   "metadata": {},
   "outputs": [],
   "source": [
    "non_fiction = df['Genre'] == 'fiction'\n",
    "df[non_fiction].sort_values(by='Gross_Sales',ascending=False).head(10)"
   ]
  },
  {
   "cell_type": "markdown",
   "metadata": {},
   "source": [
    "What 10 authors have the most books in this dataset?"
   ]
  },
  {
   "cell_type": "code",
   "execution_count": null,
   "metadata": {},
   "outputs": [],
   "source": [
    "top_authors = df['Author'].value_counts().head(10)\n",
    "top_authors"
   ]
  },
  {
   "cell_type": "markdown",
   "metadata": {},
   "source": [
    "What are the max, min, and mean of Units Sold"
   ]
  },
  {
   "cell_type": "code",
   "execution_count": null,
   "metadata": {},
   "outputs": [],
   "source": [
    "units_stats = df['Units_Sold'].describe()\n",
    "units_stats\n",
    "##Searched for how to show only min, max and mean and found the agg() function \n",
    "units_stats_specific = df['Units_Sold'].agg(['min', 'max', 'mean'])\n",
    "print(units_stats,'\\n',units_stats_specific)"
   ]
  },
  {
   "cell_type": "markdown",
   "metadata": {},
   "source": [
    "Show the titles with the 10 most units sold, but only show the columns that have:\n",
    "\n",
    "Author name, book title, genre, units sold."
   ]
  },
  {
   "cell_type": "code",
   "execution_count": null,
   "metadata": {},
   "outputs": [],
   "source": [
    "colms = df[['Author','Book_Name','Units_Sold','Genre']]\n",
    "most_units_titles = colms.sort_values(by='Units_Sold', ascending=False).head(10)\n",
    "most_units_titles"
   ]
  },
  {
   "cell_type": "markdown",
   "metadata": {},
   "source": [
    "What are the total units sold for each genre?"
   ]
  },
  {
   "cell_type": "code",
   "execution_count": null,
   "metadata": {
    "scrolled": true
   },
   "outputs": [],
   "source": [
    "colms_g_u = df[['Genre','Units_Sold']]\n",
    "total_units_g = colms_g_u.groupby('Genre').sum()\n",
    "total_units_g"
   ]
  },
  {
   "cell_type": "markdown",
   "metadata": {},
   "source": [
    "Which 15 authors have sold the most units?"
   ]
  },
  {
   "cell_type": "code",
   "execution_count": null,
   "metadata": {},
   "outputs": [],
   "source": [
    "colms_a_u = df[['Author','Units_Sold']]\n",
    "total_units_a = colms_a_u.groupby('Author').sum().sort_values(by='Units_Sold', ascending=False).head(15)\n",
    "total_units_a"
   ]
  },
  {
   "cell_type": "markdown",
   "metadata": {},
   "source": [
    "Finally, show which authors have sold the most units along with the number of books.\n",
    "\n",
    "I didn't demo how to do this (hint grouping with two aggregates...)\n",
    "\n",
    "See if you can look it up and figure it out..."
   ]
  },
  {
   "cell_type": "code",
   "execution_count": null,
   "metadata": {},
   "outputs": [],
   "source": [
    "colms_a_u = df[['Author','Units_Sold', 'Book_Name']]\n",
    "total_units_a = colms_a_u.groupby('Author').agg(Books_count=('Book_Name', 'count'),Units_sold_sum=('Units_Sold', 'sum')).sort_values(by='Units_sold_sum', ascending=False).head(15)\n",
    "print(total_units_a)"
   ]
  },
  {
   "cell_type": "code",
   "execution_count": null,
   "metadata": {},
   "outputs": [],
   "source": [
    "colms_a_u = df[['Author','Units_Sold', 'Book_Name']]\n",
    "df_group = colms_a_u.groupby('Author').agg(Books_count=('Book_Name', 'count'),Units_sold_sum=('Units_Sold', 'sum')).sort_values(by='Units_sold_sum', ascending=False).head(15).reset_index()\n",
    "df_group\n"
   ]
  },
  {
   "cell_type": "code",
   "execution_count": 21,
   "metadata": {},
   "outputs": [
    {
     "data": {
      "text/plain": [
       "<Axes: ylabel='Author'>"
      ]
     },
     "execution_count": 21,
     "metadata": {},
     "output_type": "execute_result"
    },
    {
     "data": {
      "image/png": "[encoded data removed]",
      "text/plain": [
       "<Figure size 640x480 with 1 Axes>"
      ]
     },
     "metadata": {},
     "output_type": "display_data"
    }
   ],
   "source": [
    "forplot = df_group.sort_values(by='Units_sold_sum',ascending=False).head(20)\n",
    "df_group.sort_values(by='Units_sold_sum').plot(\n",
    "        x='Author',\n",
    "        y='Books_count',\n",
    "        #y = 'Units_sold_sum',\n",
    "        kind='barh'\n",
    "    ) "
   ]
  },
  {
   "cell_type": "code",
   "execution_count": null,
   "metadata": {},
   "outputs": [],
   "source": []
  },
  {
   "cell_type": "code",
   "execution_count": null,
   "metadata": {},
   "outputs": [],
   "source": []
  }
 ],
 "metadata": {
  "kernelspec": {
   "display_name": "Python 3 (ipykernel)",
   "language": "python",
   "name": "python3"
  },
  "language_info": {
   "codemirror_mode": {
    "name": "ipython",
    "version": 3
   },
   "file_extension": ".py",
   "mimetype": "text/x-python",
   "name": "python",
   "nbconvert_exporter": "python",
   "pygments_lexer": "ipython3",
   "version": "3.10.12"
  }
 },
 "nbformat": 4,
 "nbformat_minor": 4
}
