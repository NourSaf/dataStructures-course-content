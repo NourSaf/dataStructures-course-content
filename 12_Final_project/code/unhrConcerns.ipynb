{
 "cells": [
  {
   "cell_type": "code",
   "execution_count": null,
   "metadata": {},
   "outputs": [
    {
     "name": "stdout",
     "output_type": "stream",
     "text": [
      "hi\n"
     ]
    }
   ],
   "source": [
    "#import requests and beautifulSoup\n",
    "import requests\n",
    "from bs4 import BeautifulSoup"
   ]
  },
  {
   "cell_type": "code",
   "execution_count": null,
   "metadata": {},
   "outputs": [],
   "source": [
    "url = \"https://uhri.ohchr.org/en/search-human-rights-recommendations?mechanisms=c33cacab-3cce-4f17-85e7-d1498db6b1aa&mechanismsOpened=c33cacab-3cce-4f17-85e7-d1498db6b1aa\"\n",
    "html = requests.get(url).content\n",
    "doc = BeautifulSoup(html,'html.parser')"
   ]
  },
  {
   "cell_type": "code",
   "execution_count": 44,
   "metadata": {},
   "outputs": [
    {
     "name": "stdout",
     "output_type": "stream",
     "text": [
      "Element not found\n"
     ]
    }
   ],
   "source": [
    "annotation_type = doc.find('div', class_='result-section-column-1')\n",
    "\n",
    "if annotation_type:\n",
    "    print(annotation_type.text)\n",
    "else:\n",
    "    print(\"Element not found\")"
   ]
  },
  {
   "cell_type": "code",
   "execution_count": 47,
   "metadata": {},
   "outputs": [
    {
     "name": "stdout",
     "output_type": "stream",
     "text": [
      "Pending follow-up issues from the previous reporting cycle\n",
      "7.In its concluding observations on the combined third to fifthperiodic reports of the State party, the Committee requested the State party to provide information on its implementation of the Committee’s recommendations on the outcome of investigations by the Prosecutor’s Office and the National Police Agency in relation to the death of Baek Nam‑Gi, on the outcome of any proceedings in relation to the Sewol Ferry accident, on the closing of remaining “substitute cells” and on the establishment of the office of the military ombudsman. In the light of the replies submitted by the State party on 9 December 2016, the information contained in the State party’s sixth periodic report and the additional information provided by the delegation during the dialogue, the Committee is of the view that these recommendations, as set out in paragraphs14 (d)and (e), 26 and 36 (b) of the previous concluding observations, have been implemented.\n",
      "Concerned persons/groups\n",
      "Law enforcement / police & prison officials\n",
      "Military personnel\n",
      "Country\n",
      "Republic of Korea\n",
      "Human Rights Themes\n",
      "Cooperation & Follow up with Treaty Bodies\n",
      "National Human Rights Institution (NHRI)\n",
      "Type\n",
      "Concerns/Observations\n"
     ]
    }
   ],
   "source": [
    "from selenium import webdriver\n",
    "from selenium.webdriver.common.by import By\n",
    "from selenium.webdriver.support.ui import WebDriverWait\n",
    "from selenium.webdriver.support import expected_conditions as EC\n",
    "\n",
    "# Initialize the webdriver (replace with your webdriver path)\n",
    "driver = webdriver.Chrome()\n",
    "\n",
    "# Load the website\n",
    "driver.get(\"https://uhri.ohchr.org/en/search-human-rights-recommendations?mechanisms=c33cacab-3cce-4f17-85e7-d1498db6b1aa&mechanismsOpened=c33cacab-3cce-4f17-85e7-d1498db6b1aa\") \n",
    "\n",
    "# Wait for the dynamically loaded content to appear\n",
    "element = WebDriverWait(driver, 10).until(\n",
    "    EC.presence_of_element_located((By.CSS_SELECTOR, \".result-section-column-1\"))\n",
    ")\n",
    "\n",
    "# Extract the data you need\n",
    "data = element.text\n",
    "print(data)\n",
    "# Close the browser\n",
    "driver.quit()"
   ]
  },
  {
   "cell_type": "code",
   "execution_count": null,
   "metadata": {},
   "outputs": [],
   "source": []
  }
 ],
 "metadata": {
  "kernelspec": {
   "display_name": "Python 3",
   "language": "python",
   "name": "python3"
  },
  "language_info": {
   "codemirror_mode": {
    "name": "ipython",
    "version": 3
   },
   "file_extension": ".py",
   "mimetype": "text/x-python",
   "name": "python",
   "nbconvert_exporter": "python",
   "pygments_lexer": "ipython3",
   "version": "3.10.12"
  }
 },
 "nbformat": 4,
 "nbformat_minor": 2
}
