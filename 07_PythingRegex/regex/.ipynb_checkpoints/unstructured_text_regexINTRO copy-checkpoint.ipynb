{
 "cells": [
  {
   "cell_type": "markdown",
   "metadata": {},
   "source": [
    "## INVESTIGATING UNSTRUCTURED TEXT\n",
    "As we've seen, even the sometimes messy and unpredictable Markup language of HTML can give us clues to how data may be structured. But language as a system (as we saw in Borges) also comes with its own structures. Python provides numerous methods for navigating through basic linguistic patterns. Let's begin with repetition itself:"
   ]
  },
  {
   "cell_type": "code",
   "execution_count": 1,
   "metadata": {},
   "outputs": [
    {
     "data": {
      "text/plain": [
       "\"Tomorrow, and tomorrow, and tomorrow,\\nCreeps in this petty pace from day to day,\\nTo the last syllable of recorded time;\\nAnd all our yesterdays have lighted fools\\nThe way to dusty death. Out, out, brief candle!\\nLife's but a walking shadow, a poor player,\\nThat struts and frets his hour upon the stage,\\nAnd then is heard no more. It is a tale\\nTold by an idiot, full of sound and fury,\\nSignifying nothing.\""
      ]
     },
     "execution_count": 1,
     "metadata": {},
     "output_type": "execute_result"
    }
   ],
   "source": [
    "speech = '''Tomorrow, and tomorrow, and tomorrow,\n",
    "Creeps in this petty pace from day to day,\n",
    "To the last syllable of recorded time;\n",
    "And all our yesterdays have lighted fools\n",
    "The way to dusty death. Out, out, brief candle!\n",
    "Life's but a walking shadow, a poor player,\n",
    "That struts and frets his hour upon the stage,\n",
    "And then is heard no more. It is a tale\n",
    "Told by an idiot, full of sound and fury,\n",
    "Signifying nothing.'''\n",
    "\n",
    "speech"
   ]
  },
  {
   "cell_type": "markdown",
   "metadata": {},
   "source": [
    "There're various ways to investigate Macbeth's famous, very short, speech. We begin by searching for the obvious, searching through the whole speech.\n",
    "\n",
    "Here we are using Python's string methods. Note that a string is treated as a list of characters. The first character of the speach, \"T\" is in the [0] position."
   ]
  },
  {
   "cell_type": "code",
   "execution_count": 2,
   "metadata": {},
   "outputs": [
    {
     "data": {
      "text/plain": [
       "'T'"
      ]
     },
     "execution_count": 2,
     "metadata": {},
     "output_type": "execute_result"
    }
   ],
   "source": [
    "speech[0]"
   ]
  },
  {
   "cell_type": "code",
   "execution_count": 3,
   "metadata": {},
   "outputs": [
    {
     "data": {
      "text/plain": [
       "True"
      ]
     },
     "execution_count": 3,
     "metadata": {},
     "output_type": "execute_result"
    }
   ],
   "source": [
    "'tomorrow' in speech"
   ]
  },
  {
   "cell_type": "code",
   "execution_count": 4,
   "metadata": {},
   "outputs": [
    {
     "data": {
      "text/plain": [
       "202"
      ]
     },
     "execution_count": 4,
     "metadata": {},
     "output_type": "execute_result"
    }
   ],
   "source": [
    "speech.find('candle')"
   ]
  },
  {
   "cell_type": "code",
   "execution_count": 5,
   "metadata": {},
   "outputs": [
    {
     "data": {
      "text/plain": [
       "402"
      ]
     },
     "execution_count": 5,
     "metadata": {},
     "output_type": "execute_result"
    }
   ],
   "source": [
    "speech[190:202+len('candle')]\n",
    "speech[14:22]\n",
    "len(speech)"
   ]
  },
  {
   "cell_type": "code",
   "execution_count": 6,
   "metadata": {},
   "outputs": [
    {
     "data": {
      "text/plain": [
       "2"
      ]
     },
     "execution_count": 6,
     "metadata": {},
     "output_type": "execute_result"
    }
   ],
   "source": [
    "speech.count('and')\n",
    "speech.count('tomorrow')"
   ]
  },
  {
   "cell_type": "code",
   "execution_count": 7,
   "metadata": {},
   "outputs": [
    {
     "data": {
      "text/plain": [
       "352"
      ]
     },
     "execution_count": 7,
     "metadata": {},
     "output_type": "execute_result"
    }
   ],
   "source": [
    "speech.lower().count('tomorrow')\n",
    "speech.lower().find('idiot')"
   ]
  },
  {
   "cell_type": "code",
   "execution_count": 8,
   "metadata": {},
   "outputs": [
    {
     "data": {
      "text/plain": [
       "2"
      ]
     },
     "execution_count": 8,
     "metadata": {},
     "output_type": "execute_result"
    }
   ],
   "source": [
    "\n",
    "speech.count('And')"
   ]
  },
  {
   "cell_type": "code",
   "execution_count": 9,
   "metadata": {},
   "outputs": [
    {
     "data": {
      "text/plain": [
       "4"
      ]
     },
     "execution_count": 9,
     "metadata": {},
     "output_type": "execute_result"
    }
   ],
   "source": [
    "speech.count('\\nT')"
   ]
  },
  {
   "cell_type": "code",
   "execution_count": 10,
   "metadata": {},
   "outputs": [
    {
     "data": {
      "text/plain": [
       "402"
      ]
     },
     "execution_count": 10,
     "metadata": {},
     "output_type": "execute_result"
    }
   ],
   "source": [
    "speech.lower().count('and')\n",
    "len(speech)"
   ]
  },
  {
   "cell_type": "markdown",
   "metadata": {},
   "source": [
    "Of course, there is already a structure to the speech that we are ignoring--it has lines. Let's get out those lines and put them into a list."
   ]
  },
  {
   "cell_type": "code",
   "execution_count": 11,
   "metadata": {},
   "outputs": [
    {
     "data": {
      "text/plain": [
       "['Tomorrow, and tomorrow, and tomorrow,',\n",
       " 'Creeps in this petty pace from day to day,',\n",
       " 'To the last syllable of recorded time;',\n",
       " 'And all our yesterdays have lighted fools',\n",
       " 'The way to dusty death. Out, out, brief candle!',\n",
       " \"Life's but a walking shadow, a poor player,\",\n",
       " 'That struts and frets his hour upon the stage,',\n",
       " 'And then is heard no more. It is a tale',\n",
       " 'Told by an idiot, full of sound and fury,',\n",
       " 'Signifying nothing.']"
      ]
     },
     "execution_count": 11,
     "metadata": {},
     "output_type": "execute_result"
    }
   ],
   "source": [
    "#lines = speech.split('\\n')\n",
    "#spliting by lines is so common these is a method for it\n",
    "#but I prefer the above\n",
    "lines = speech.splitlines() \n",
    "lines"
   ]
  },
  {
   "cell_type": "code",
   "execution_count": 12,
   "metadata": {},
   "outputs": [
    {
     "data": {
      "text/plain": [
       "'Tomorrow, and tomorrow, and tomorrow,'"
      ]
     },
     "execution_count": 12,
     "metadata": {},
     "output_type": "execute_result"
    }
   ],
   "source": [
    "firstline = lines[0]\n",
    "firstline"
   ]
  },
  {
   "cell_type": "markdown",
   "metadata": {},
   "source": [
    "Python has a handful of built-in ways to search a line. Here are just a few."
   ]
  },
  {
   "cell_type": "code",
   "execution_count": 13,
   "metadata": {},
   "outputs": [
    {
     "data": {
      "text/plain": [
       "'Tomorrow, and yesterday, and yesterday,'"
      ]
     },
     "execution_count": 13,
     "metadata": {},
     "output_type": "execute_result"
    }
   ],
   "source": [
    "yest = firstline.replace('tomorrow','yesterday',)\n",
    "yest"
   ]
  },
  {
   "cell_type": "code",
   "execution_count": 14,
   "metadata": {},
   "outputs": [
    {
     "data": {
      "text/plain": [
       "True"
      ]
     },
     "execution_count": 14,
     "metadata": {},
     "output_type": "execute_result"
    }
   ],
   "source": [
    "firstline.startswith('Tomorrow')"
   ]
  },
  {
   "cell_type": "code",
   "execution_count": 15,
   "metadata": {},
   "outputs": [
    {
     "data": {
      "text/plain": [
       "True"
      ]
     },
     "execution_count": 15,
     "metadata": {},
     "output_type": "execute_result"
    }
   ],
   "source": [
    "firstline.endswith('tomorrow,')"
   ]
  },
  {
   "cell_type": "markdown",
   "metadata": {},
   "source": [
    "## List comprehensions\n",
    "What if we want to search through every line. The obvious way is using a `for` loop."
   ]
  },
  {
   "cell_type": "code",
   "execution_count": 16,
   "metadata": {},
   "outputs": [
    {
     "data": {
      "text/plain": [
       "['Tomorrow, ', 'To the las', 'The way to', 'That strut', 'Told by an']"
      ]
     },
     "execution_count": 16,
     "metadata": {},
     "output_type": "execute_result"
    }
   ],
   "source": [
    "helpful_list = []\n",
    "for line in lines:\n",
    "    if line.startswith('T'):\n",
    "        helpful_list.append(line[0:10])\n",
    "helpful_list"
   ]
  },
  {
   "cell_type": "markdown",
   "metadata": {},
   "source": [
    "That is a very simple loop, so simple that Python has a solution for a looping through a list using a one-line statement, called a **list comprehension**"
   ]
  },
  {
   "cell_type": "code",
   "execution_count": 17,
   "metadata": {},
   "outputs": [
    {
     "data": {
      "text/plain": [
       "['Tomorrow, ', 'To the las', 'The way to', 'That strut', 'Told by an']"
      ]
     },
     "execution_count": 17,
     "metadata": {},
     "output_type": "execute_result"
    }
   ],
   "source": [
    "helpufl_list = [line[0:10] for line in lines if line.startswith('T')]\n",
    "helpful_list"
   ]
  },
  {
   "cell_type": "markdown",
   "metadata": {},
   "source": [
    "Whaaaat? Let's break down how a list comprehension works:\n",
    "\n",
    "**helpful_list** = [line[0:10] for line in lines if line.startswith('T')]\n",
    "\n",
    "*A variable:* that is the variable that's going to hold the final output of this loop.\n",
    "\n",
    "helpful_list = **\\[**line[0:10] for line in lines if line.startswith('T')**\\]**\n",
    "\n",
    "*Returns a list:* The **\\[ \\]** indicate that what is being returned is actually a list.\n",
    "\n",
    "helpful_list= [**line[0:10]** for line in lines if line.startswith('T')]\n",
    "\n",
    "*What gets placed in the list:* This first part inside the brackets is what is actually going to be entered in the list (if it passes the test at the end.)\n",
    "\n",
    "helpful_list= [line[0:10] **for line in lines** if line.startswith('T')]\n",
    "\n",
    "*The loop:* This defines the loop. We are looking through lines, and each element inside that list we are going to call line.\n",
    "\n",
    "helpful_list= [line[0:10] for line in lines **if line.startswith('T')**]\n",
    "\n",
    "*The test for each line:* Finally, this is the if statement that tests for something for each element in the list (lines). Only if it passes the test (if line starts with a \"T\") does that first part of the list comprehension (line[0:10]) get placed in the resulting list."
   ]
  },
  {
   "cell_type": "markdown",
   "metadata": {},
   "source": [
    "Remember this, when we start using more robust ways of searching line by line (sentence by sentence, etc) these will come in handy. But before we jump to those special searching methods, let's have a little detour on sorting."
   ]
  },
  {
   "cell_type": "markdown",
   "metadata": {},
   "source": [
    "## Sorting!\n",
    "Say we want to investigate the lines in the speech, and order them from longest line to shortest line. Well we know how to get the length of each line using loop, but how can we measure them to reorder our list?"
   ]
  },
  {
   "cell_type": "code",
   "execution_count": 18,
   "metadata": {},
   "outputs": [
    {
     "name": "stdout",
     "output_type": "stream",
     "text": [
      "37\n",
      "42\n",
      "38\n",
      "41\n",
      "47\n",
      "43\n",
      "46\n",
      "39\n",
      "41\n",
      "19\n"
     ]
    }
   ],
   "source": [
    "for line in lines:\n",
    "    print(len(line))"
   ]
  },
  {
   "cell_type": "markdown",
   "metadata": {},
   "source": [
    "We could write a function that pairs these numbers with each line, and then sorts through everything--but sort functions are notoriously challenging to write. And Python has a built in sorting function."
   ]
  },
  {
   "cell_type": "code",
   "execution_count": 19,
   "metadata": {},
   "outputs": [
    {
     "data": {
      "text/plain": [
       "['And all our yesterdays have lighted fools',\n",
       " 'And then is heard no more. It is a tale',\n",
       " 'Creeps in this petty pace from day to day,',\n",
       " \"Life's but a walking shadow, a poor player,\",\n",
       " 'Signifying nothing.',\n",
       " 'That struts and frets his hour upon the stage,',\n",
       " 'The way to dusty death. Out, out, brief candle!',\n",
       " 'To the last syllable of recorded time;',\n",
       " 'Told by an idiot, full of sound and fury,',\n",
       " 'Tomorrow, and tomorrow, and tomorrow,']"
      ]
     },
     "execution_count": 19,
     "metadata": {},
     "output_type": "execute_result"
    }
   ],
   "source": [
    "sortlines = lines.copy()\n",
    "sortlines.sort()\n",
    "sortlines"
   ]
  },
  {
   "cell_type": "markdown",
   "metadata": {},
   "source": [
    "But not only that, Python has a built in mini-function called a `lambda` function that you can nest inside at sorting function. lambda functions are a bit advance for where we are now, so don't lose any time and brain power on them, it's just go to know they exist."
   ]
  },
  {
   "cell_type": "code",
   "execution_count": 20,
   "metadata": {},
   "outputs": [
    {
     "data": {
      "text/plain": [
       "['Tomorrow, and tomorrow, and tomorrow,',\n",
       " 'To the last syllable of recorded time;',\n",
       " 'And then is heard no more. It is a tale',\n",
       " 'That struts and frets his hour upon the stage,',\n",
       " \"Life's but a walking shadow, a poor player,\",\n",
       " 'Signifying nothing.',\n",
       " 'Told by an idiot, full of sound and fury,',\n",
       " 'And all our yesterdays have lighted fools',\n",
       " 'Creeps in this petty pace from day to day,',\n",
       " 'The way to dusty death. Out, out, brief candle!']"
      ]
     },
     "execution_count": 20,
     "metadata": {},
     "output_type": "execute_result"
    }
   ],
   "source": [
    "sortlines = lines.copy()\n",
    "sortlines.sort(key=lambda x: len(x), reverse=True)\n",
    "# what is this one down here doing?\n",
    "sortlines.sort(key=lambda x: x.split()[-1], reverse=True)\n",
    "#the line above is using each key to split each line and take the last word then returing a sorted list of lines in a reversed alphabatical order.\n",
    "sortlines"
   ]
  },
  {
   "cell_type": "markdown",
   "metadata": {},
   "source": [
    "## Regular Expressions\n",
    "The more you work with unstructured text, the greater desire you will have for the power that regular expressions give you. Regular expressions are a mini-language to themselves (often sharing similarities across different programming languages). They allow you to search for a variety of patterns within text. The most obvious patterns you might find are telephone numbers, ZIP Codes, email addresses (social security numbers and credit card numbers for the more malicious)--and many regular expressions have been written to capture these with varying levels accuracy. Today, however, our focus will be on exploring text.\n",
    "\n",
    "First import the built-in regular expression library `re`"
   ]
  },
  {
   "cell_type": "code",
   "execution_count": 21,
   "metadata": {},
   "outputs": [],
   "source": [
    "import re"
   ]
  },
  {
   "cell_type": "markdown",
   "metadata": {},
   "source": [
    "There are five main regular expression methods that we will work with:\n",
    "\n",
    "**match()** & **search()**: these methods tell you whether or not they found a match, and where that match was located--although match() only searches at the very beginning of the line--so it is rarely useful.\n",
    "\n",
    "**split()** & **sub()**: these two work just like split() & replace(), but they search for patterns and return a list or a substitute string respectively.\n",
    "\n",
    "**findall()**: just as the name sounds, this method returns a list of matching patterns that were found throughout the entire string."
   ]
  },
  {
   "cell_type": "code",
   "execution_count": 22,
   "metadata": {},
   "outputs": [
    {
     "name": "stdout",
     "output_type": "stream",
     "text": [
      "Yes!\n"
     ]
    }
   ],
   "source": [
    "\n",
    "#found = \n",
    "if (re.search(\"omorrow\",firstline,re.IGNORECASE)):\n",
    "    print(\"Yes!\")\n",
    "else:\n",
    "    print('No!')\n",
    "#found\n",
    "# found = re.search(\"morrow\",firstline,re.IGNORECASE)\n",
    "#found.start()\n",
    "#found\n"
   ]
  },
  {
   "cell_type": "code",
   "execution_count": 23,
   "metadata": {},
   "outputs": [
    {
     "name": "stdout",
     "output_type": "stream",
     "text": [
      "['Tomorrow, ', ' tomorrow, ', ' tomorrow,'] yesterday, and yesterday, and yesterday,\n"
     ]
    }
   ],
   "source": [
    "newlist = re.split(\"and\",firstline,flags=re.IGNORECASE)\n",
    "newstring = re.sub(\"tomorrow\",\"yesterday\",firstline,flags=re.IGNORECASE)\n",
    "print(newlist,newstring)"
   ]
  },
  {
   "cell_type": "code",
   "execution_count": 24,
   "metadata": {},
   "outputs": [
    {
     "data": {
      "text/plain": [
       "3"
      ]
     },
     "execution_count": 24,
     "metadata": {},
     "output_type": "execute_result"
    }
   ],
   "source": [
    "words = re.findall(\"to\",firstline,re.IGNORECASE)\n",
    "len(words)"
   ]
  },
  {
   "cell_type": "markdown",
   "metadata": {},
   "source": [
    "## Special characters\n",
    "While the search methods above are more useful than what's built into Python, it is the pattern seeking commands that--once you get used to them--do the most powerful work.\n",
    "\n",
    "Here's a list  of the most common pattern seeking characters:\n",
    "\n",
    "| special character | what it does |\n",
    "|--------|---------|\n",
    "| `.` | Match any character except newline |\n",
    "| `^` | match the beginning of string |\n",
    "| `$` | match the end of string, including `\\n` |\n",
    "| `*` | match 0 or more repetitions |\n",
    "| `+` | match 1 or more repetitions  |\n",
    "| `?` | match 0 or 1 repetitions  |\n",
    "| `{m}` | m specifies the number of repetitions  |\n",
    "| `{m,n}` | m and n specifies a range of repetitions  |\n",
    "| `{m,}` | m specifies the minimum number of repetitions  |\n"
   ]
  },
  {
   "cell_type": "code",
   "execution_count": 25,
   "metadata": {},
   "outputs": [
    {
     "data": {
      "text/plain": [
       "['the last ',\n",
       " 'llable of',\n",
       " 'nd all our',\n",
       " 'ave light',\n",
       " 'a walking',\n",
       " 'or player',\n",
       " ', full of ']"
      ]
     },
     "execution_count": 25,
     "metadata": {},
     "output_type": "execute_result"
    }
   ],
   "source": [
    "all_ll = re.findall(\"....l+.{4}\",speech)\n",
    "#re.search(\"^tomorrow\",firstline)\n",
    "#re.search(\"tomorrow\\.$\",firstline)\n",
    "all_ll\n"
   ]
  },
  {
   "cell_type": "code",
   "execution_count": 26,
   "metadata": {},
   "outputs": [
    {
     "data": {
      "text/plain": [
       "['Told by an idiot, full of sound and fury,']"
      ]
     },
     "execution_count": 26,
     "metadata": {},
     "output_type": "execute_result"
    }
   ],
   "source": [
    "#a list comprehension again!\n",
    "#Note that match() would produce the same thing\n",
    "#\\b is a word boundary, super important and magicial, see below!\n",
    "[line for line in lines if re.search(r\"\\bidiot\\b\",line)]"
   ]
  },
  {
   "cell_type": "code",
   "execution_count": 27,
   "metadata": {},
   "outputs": [
    {
     "data": {
      "text/plain": [
       "['Tomorrow, and tomorrow, and tomorrow,',\n",
       " \"Life's but a walking shadow, a poor player,\",\n",
       " 'That struts and frets his hour upon the stage,']"
      ]
     },
     "execution_count": 27,
     "metadata": {},
     "output_type": "execute_result"
    }
   ],
   "source": [
    "#what is this searching for...\n",
    "[line for line in lines if re.search(\"[erw],$\",line)]"
   ]
  },
  {
   "cell_type": "code",
   "execution_count": 28,
   "metadata": {},
   "outputs": [
    {
     "data": {
      "text/plain": [
       "['morrow', 'morrow', 'morrow', 'more.']"
      ]
     },
     "execution_count": 28,
     "metadata": {},
     "output_type": "execute_result"
    }
   ],
   "source": [
    "th_plus = re.findall(\"mor+..\",speech)\n",
    "th_plus"
   ]
  },
  {
   "cell_type": "code",
   "execution_count": 29,
   "metadata": {},
   "outputs": [
    {
     "data": {
      "text/plain": [
       "['Jon', 'John', 'Jonn', 'Joan']"
      ]
     },
     "execution_count": 29,
     "metadata": {},
     "output_type": "execute_result"
    }
   ],
   "source": [
    "names = \"Jon, John, Jonn, Johhhn, Joan\"\n",
    "find_names = re.findall(r\"Jo.{0,2}n\\b\",names)\n",
    "find_names"
   ]
  },
  {
   "cell_type": "code",
   "execution_count": 30,
   "metadata": {},
   "outputs": [
    {
     "data": {
      "text/plain": [
       "['e las',\n",
       " 'syllab',\n",
       " ' all o',\n",
       " 'e lig',\n",
       " 'ndle!',\n",
       " 'walki',\n",
       " ' play',\n",
       " 'Told ',\n",
       " 'full o']"
      ]
     },
     "execution_count": 30,
     "metadata": {},
     "output_type": "execute_result"
    }
   ],
   "source": [
    "# see what happens if you replace the + with a *\n",
    "l_plus = re.findall(\"..l+..\",speech)\n",
    "l_plus"
   ]
  },
  {
   "cell_type": "code",
   "execution_count": 31,
   "metadata": {},
   "outputs": [
    {
     "data": {
      "text/plain": [
       "['To',\n",
       " 'mor',\n",
       " 'ro',\n",
       " 'to',\n",
       " 'mor',\n",
       " 'ro',\n",
       " 'to',\n",
       " 'mor',\n",
       " 'ro',\n",
       " 'ro',\n",
       " 'to',\n",
       " 'To',\n",
       " ' o',\n",
       " 'cor',\n",
       " ' o',\n",
       " 'fo',\n",
       " 'to',\n",
       " ' o',\n",
       " 'do',\n",
       " 'po',\n",
       " 'ho',\n",
       " 'po',\n",
       " 'no',\n",
       " 'mor',\n",
       " 'To',\n",
       " 'io',\n",
       " ' o',\n",
       " 'so',\n",
       " 'no']"
      ]
     },
     "execution_count": 31,
     "metadata": {},
     "output_type": "execute_result"
    }
   ],
   "source": [
    "# ? means one occurance or zero.\n",
    "l_plus = re.findall(\".or?\",speech)\n",
    "l_plus"
   ]
  },
  {
   "cell_type": "code",
   "execution_count": 32,
   "metadata": {},
   "outputs": [
    {
     "data": {
      "text/plain": [
       "[' fools', ' poor ']"
      ]
     },
     "execution_count": 32,
     "metadata": {},
     "output_type": "execute_result"
    }
   ],
   "source": [
    "o_2 = re.findall(\"..o{2}..\",speech)\n",
    "o_2"
   ]
  },
  {
   "cell_type": "markdown",
   "metadata": {},
   "source": [
    "## Sets and Groups\n",
    "**Sets**, which include `[]` in shortcuts like `\\w`, allow you to search for certain types of characters. **Groups**, which are demarcated by `()` allow you to specify important sub-patterns that you can access individually.\n",
    "\n",
    "| enclosures | what it does |\n",
    "|--------|---------|\n",
    "| `[]` | A defined set of characters to search for |\n",
    "| `()` | A group of characters to search for, can be accessed individually in the results. |\n",
    "\n",
    "\n",
    "| Examples of sets | what it does |\n",
    "|--------|---------|\n",
    "| `[aeiou]` | Find any vowel |\n",
    "| `[Tt]` | Find a lowercase or uppercase t |\n",
    "| `[0-9]` | Find any number, there is a shortcut for this |\n",
    "| `[^0-9]` | Find anything that's not number, there is a shortcut for this |\n",
    "| `[13579]` | Find any odd numer |\n",
    "| `[A-Za-z]` | Find any letter, there is a shortcut for this too |\n",
    "| `[+.*]` | Find those actual characters, special characters are canceled in sets (not including shortcuts: see below) |\n",
    "\n",
    "\n",
    "| Shortcut | what it does |\n",
    "|--------|---------|\n",
    "| `\\b` | Word boundary: spaces, commas, punctuation, end of line, anything that comes at the beginning or end of a word |\n",
    "| `\\B` | Not a word-boundary |\n",
    "| `\\d` | numbers [0-9] |\n",
    "| `\\D` | not numbers |\n",
    "| `\\s` | whitespace characters: space, tab... |\n",
    "| `\\S` | not space |\n",
    "| `\\w` | letters |\n",
    "| `\\W` | not letters |\n"
   ]
  },
  {
   "cell_type": "code",
   "execution_count": null,
   "metadata": {},
   "outputs": [],
   "source": []
  },
  {
   "cell_type": "code",
   "execution_count": 33,
   "metadata": {},
   "outputs": [
    {
     "data": {
      "text/plain": [
       "['sylla', 'shado', 'strut', 'stage', 'sound', 'Signi']"
      ]
     },
     "execution_count": 33,
     "metadata": {},
     "output_type": "execute_result"
    }
   ],
   "source": [
    "words = re.findall(r\"\\b[Ss]\\w{4}\",speech)\n",
    "words"
   ]
  },
  {
   "cell_type": "code",
   "execution_count": 34,
   "metadata": {},
   "outputs": [
    {
     "data": {
      "text/plain": [
       "['death.', 'more.', 'nothing.']"
      ]
     },
     "execution_count": 34,
     "metadata": {},
     "output_type": "execute_result"
    }
   ],
   "source": [
    "#you can use a set to search for a special character\n",
    "#this is searching for the last word in a sentence\n",
    "words = re.findall(r\"\\b\\w+[.]\",speech)\n",
    "words\n",
    "#you can also use \\ get a special character\n",
    "#words = re.findall(r\"\\b\\w+\\.\",speech)\n",
    "#words"
   ]
  },
  {
   "cell_type": "code",
   "execution_count": 35,
   "metadata": {},
   "outputs": [
    {
     "data": {
      "text/plain": [
       "['Tomorrow',\n",
       " 'tomorrow',\n",
       " 'tomorrow',\n",
       " 'this',\n",
       " 'tty',\n",
       " 'to',\n",
       " 'To',\n",
       " 'the',\n",
       " 'time',\n",
       " 'terdays',\n",
       " 'ted',\n",
       " 'The',\n",
       " 'to',\n",
       " 'ty',\n",
       " 'th',\n",
       " 'That',\n",
       " 'truts',\n",
       " 'ts',\n",
       " 'the',\n",
       " 'tage',\n",
       " 'then',\n",
       " 'tale',\n",
       " 'Told',\n",
       " 'thing']"
      ]
     },
     "execution_count": 35,
     "metadata": {},
     "output_type": "execute_result"
    }
   ],
   "source": [
    "words = re.findall(r\"[tT]\\w+\",speech)\n",
    "words"
   ]
  },
  {
   "cell_type": "markdown",
   "metadata": {},
   "source": [
    "Looking for phrases and grouping them"
   ]
  },
  {
   "cell_type": "code",
   "execution_count": 36,
   "metadata": {},
   "outputs": [
    {
     "data": {
      "text/plain": [
       "['in this petty',\n",
       " 'to day,\\nTo',\n",
       " 'of recorded time',\n",
       " 'to dusty death',\n",
       " 'is heard no',\n",
       " 'It is a',\n",
       " 'by an idiot',\n",
       " 'of sound and']"
      ]
     },
     "execution_count": 36,
     "metadata": {},
     "output_type": "execute_result"
    }
   ],
   "source": [
    "# three-word phrases that begin with two-letter words\n",
    "phrases = re.findall(r\"\\b\\w{2}\\W+\\w+\\W+\\w+\",speech)\n",
    "#overlapping using look back ?=, this is advanced...\n",
    "#phrases = re.findall(r\"(?=(\\b\\w{2}\\W+\\w+\\W+\\w+))\",speech) \n",
    "phrases"
   ]
  },
  {
   "cell_type": "markdown",
   "metadata": {},
   "source": [
    "GROUPS ( ) ALLOW YOU TO SEPARATE DIFFERENT TEXT ELEMENTS INTO TUPLES"
   ]
  },
  {
   "cell_type": "code",
   "execution_count": 37,
   "metadata": {},
   "outputs": [
    {
     "data": {
      "text/plain": [
       "[('in', 'this', 'petty'),\n",
       " ('to', 'day', 'To'),\n",
       " ('of', 'recorded', 'time'),\n",
       " ('to', 'dusty', 'death'),\n",
       " ('is', 'heard', 'no'),\n",
       " ('It', 'is', 'a'),\n",
       " ('by', 'an', 'idiot'),\n",
       " ('of', 'sound', 'and')]"
      ]
     },
     "execution_count": 37,
     "metadata": {},
     "output_type": "execute_result"
    }
   ],
   "source": [
    "phrases = re.findall(r\"(\\b\\w{2})\\W+(\\w+)\\W+(\\w+)\",speech)\n",
    "#phrases = re.findall(r\"(?=(\\b\\w{2})\\W+(\\w+)\\W+(\\w+))\",speech)\n",
    "phrases"
   ]
  },
  {
   "cell_type": "markdown",
   "metadata": {},
   "source": [
    "Searching a longer poem"
   ]
  },
  {
   "cell_type": "code",
   "execution_count": 47,
   "metadata": {},
   "outputs": [],
   "source": [
    "# Import text\n",
    "f = open('wasteland.txt', encoding='utf-8')\n",
    "wasteland = f.read()"
   ]
  },
  {
   "cell_type": "code",
   "execution_count": 48,
   "metadata": {},
   "outputs": [],
   "source": [
    "#make a list of lines\n",
    "poemlines = wasteland.split('\\n')\n",
    "#strip every line to get rid of leading/ending whitespace\n",
    "poemlines = [line.strip() for line in poemlines]"
   ]
  },
  {
   "cell_type": "code",
   "execution_count": 40,
   "metadata": {},
   "outputs": [
    {
     "data": {
      "text/plain": [
       "['What are the roots that clutch, what branches grow',\n",
       " '“I never know what you are thinking. Think.”',\n",
       " 'He’ll want to know what you done with that money he gave you',\n",
       " 'Datta: what have we given?']"
      ]
     },
     "execution_count": 40,
     "metadata": {},
     "output_type": "execute_result"
    }
   ],
   "source": [
    "[line for line in poemlines if re.search(r\"what\", line)]"
   ]
  },
  {
   "cell_type": "markdown",
   "metadata": {},
   "source": [
    "SOME MUCH MORE COMMON USES OF REGEX!!!"
   ]
  },
  {
   "cell_type": "code",
   "execution_count": 51,
   "metadata": {},
   "outputs": [
    {
     "name": "stdout",
     "output_type": "stream",
     "text": [
      "Yes!\n"
     ]
    }
   ],
   "source": [
    "#proper email systax: (simplified, this is looking for .edu address with numbers, letters, _, or -)\n",
    "import re\n",
    "email = \"thirj525@newschool.edu\"\n",
    "if (re.match(r\"[-_\\w\\d]+@[-_\\w\\d]+[.]edu$\",email,re.IGNORECASE)):\n",
    "    print(\"Yes!\")\n",
    "else:\n",
    "    print('No!')"
   ]
  },
  {
   "cell_type": "code",
   "execution_count": 52,
   "metadata": {},
   "outputs": [
    {
     "name": "stdout",
     "output_type": "stream",
     "text": [
      "Yes!\n"
     ]
    }
   ],
   "source": [
    "#proper phone number syntax: SO FUN!!!\n",
    "\n",
    "phone = \"(888) 929-9000\"\n",
    "# phone = \"888-929-9000\"\n",
    "# phone = \"8889299000\"\n",
    "# phone = \"888929900033\"\n",
    "if (re.match(r\"[(]*\\d{3}[) -]*\\d{3}[-]*\\d{4}$\",phone,re.IGNORECASE)):\n",
    "    print(\"Yes!\")\n",
    "else:\n",
    "    print('No!')"
   ]
  },
  {
   "cell_type": "markdown",
   "metadata": {},
   "source": [
    "THE GUARDIAN!!!\n",
    "Using REGEX GROUPS to consistently structure of the list in a much more straightforward and accurate way!!"
   ]
  },
  {
   "cell_type": "code",
   "execution_count": 53,
   "metadata": {},
   "outputs": [],
   "source": [
    "import requests\n",
    "from bs4 import BeautifulSoup\n",
    "my_url = \"https://www.theguardian.com/books/2017/dec/31/the-100-best-nonfiction-books-of-all-time-the-full-list\"\n",
    "raw_html = requests.get(my_url).content\n",
    "soup_doc = BeautifulSoup(raw_html, \"html.parser\")"
   ]
  },
  {
   "cell_type": "code",
   "execution_count": 67,
   "metadata": {},
   "outputs": [
    {
     "name": "stdout",
     "output_type": "stream",
     "text": [
      "1. The Sixth Extinction by Elizabeth Kolbert (2014) \n",
      "  An engrossing account of the looming catastrophe caused by ecology’s “neighbours from hell” – mankind.\n",
      "[('100', ' King James Bible: The Authorised Version ', '1611', 'It is impossible to imagine the English-speaking world celebrated in this series without the King James Bible, which is as universal and influential as Shakespeare.')]\n",
      "2. The Year of Magical Thinking by Joan Didion (2005)This steely and devastating examination of the author’s grief following the sudden death of her husband changed the nature of writing about bereavement.\n",
      "[('100', ' King James Bible: The Authorised Version ', '1611', 'It is impossible to imagine the English-speaking world celebrated in this series without the King James Bible, which is as universal and influential as Shakespeare.')]\n",
      "3. No Logo by Naomi Klein (1999)\n",
      "  Naomi Klein’s timely anti-branding bible combined a fresh approach to corporate hegemony with potent reportage from the dark side of capitalism.\n",
      "[('100', ' King James Bible: The Authorised Version ', '1611', 'It is impossible to imagine the English-speaking world celebrated in this series without the King James Bible, which is as universal and influential as Shakespeare.')]\n",
      "4. Birthday Letters by Ted Hughes (1998)\n",
      "  These passionate, audacious poems addressed to Hughes’s late wife, Sylvia Plath, contribute to the couple’s mythology and are a landmark in English poetry.\n",
      "[('100', ' King James Bible: The Authorised Version ', '1611', 'It is impossible to imagine the English-speaking world celebrated in this series without the King James Bible, which is as universal and influential as Shakespeare.')]\n",
      "5. Dreams from My Father by Barack Obama (1995)\n",
      "  This remarkably candid memoir revealed not only a literary talent, but a force that would change the face of US politics for ever.\n",
      "[('100', ' King James Bible: The Authorised Version ', '1611', 'It is impossible to imagine the English-speaking world celebrated in this series without the King James Bible, which is as universal and influential as Shakespeare.')]\n",
      "6. A Brief History of Time by Stephen Hawking (1988)\n",
      "  The theoretical physicist’s mega-selling account of the origins of the universe is a masterpiece of scientific inquiry that has influenced the minds of a generation.\n",
      "[('100', ' King James Bible: The Authorised Version ', '1611', 'It is impossible to imagine the English-speaking world celebrated in this series without the King James Bible, which is as universal and influential as Shakespeare.')]\n",
      "7. The Right Stuff by Tom Wolfe (1979)\n",
      "  Tom Wolfe raised reportage to dazzling new levels in his quest to discover what makes a man fly to the moon.\n",
      "[('100', ' King James Bible: The Authorised Version ', '1611', 'It is impossible to imagine the English-speaking world celebrated in this series without the King James Bible, which is as universal and influential as Shakespeare.')]\n",
      "8. Orientalism by Edward Said (1978)\n",
      "  This polemical masterpiece challenging western attitudes to the east is as topical today as it was on publication.\n",
      "[('100', ' King James Bible: The Authorised Version ', '1611', 'It is impossible to imagine the English-speaking world celebrated in this series without the King James Bible, which is as universal and influential as Shakespeare.')]\n",
      "9. Dispatches by Michael Herr (1977)\n",
      "  A compelling sense of urgency and a unique voice make Herr’s Vietnam memoir the definitive account of war in our time.\n",
      "[('100', ' King James Bible: The Authorised Version ', '1611', 'It is impossible to imagine the English-speaking world celebrated in this series without the King James Bible, which is as universal and influential as Shakespeare.')]\n",
      "10. The Selfish Gene by Richard Dawkins (1976)\n",
      "  An intoxicating renewal of evolutionary theory that coined the idea of the meme and paved the way for Professor Dawkins’s later, more polemical works.\n",
      "[('100', ' King James Bible: The Authorised Version ', '1611', 'It is impossible to imagine the English-speaking world celebrated in this series without the King James Bible, which is as universal and influential as Shakespeare.')]\n",
      "11. North by Seamus Heaney (1975)\n",
      "  This raw, tender, unguarded collection transcends politics, reflecting Heaney’s desire to move “like a double agent among the big concepts”.\n",
      "[('100', ' King James Bible: The Authorised Version ', '1611', 'It is impossible to imagine the English-speaking world celebrated in this series without the King James Bible, which is as universal and influential as Shakespeare.')]\n",
      "12. Awakenings by Oliver Sacks (1973)Sacks’s moving account of how, as a doctor in the late 1960s, he revived patients who had been neurologically “frozen” by sleeping sickness reverberates to this day.\n",
      "[('100', ' King James Bible: The Authorised Version ', '1611', 'It is impossible to imagine the English-speaking world celebrated in this series without the King James Bible, which is as universal and influential as Shakespeare.')]\n",
      "13. The Female Eunuch by Germaine Greer (1970)\n",
      "  The Australian feminist’s famous polemic remains a masterpiece of passionate free expression in which she challenges a woman’s role in society.\n",
      "[('100', ' King James Bible: The Authorised Version ', '1611', 'It is impossible to imagine the English-speaking world celebrated in this series without the King James Bible, which is as universal and influential as Shakespeare.')]\n",
      "14. Awopbopaloobop Alopbamboom by Nik Cohn (1969)\n",
      "  This passionate account of how rock’n’roll changed the world was written with the wild energy of its subject matter.\n",
      "[('100', ' King James Bible: The Authorised Version ', '1611', 'It is impossible to imagine the English-speaking world celebrated in this series without the King James Bible, which is as universal and influential as Shakespeare.')]\n",
      "15. The Double Helix by James D Watson (1968)\n",
      "  An astonishingly personal and accessible account of how Cambridge scientists Watson and Francis Crick unlocked the secrets of DNA and transformed our understanding of life.\n",
      "[('100', ' King James Bible: The Authorised Version ', '1611', 'It is impossible to imagine the English-speaking world celebrated in this series without the King James Bible, which is as universal and influential as Shakespeare.')]\n",
      "16. Against Interpretation by Susan Sontag (1966)\n",
      "  The American novelist’s early essays provide the quintessential commentary on the 1960s.\n",
      "[('100', ' King James Bible: The Authorised Version ', '1611', 'It is impossible to imagine the English-speaking world celebrated in this series without the King James Bible, which is as universal and influential as Shakespeare.')]\n",
      "17. Ariel by Sylvia Plath (1965)\n",
      "  The groundbreaking collection, revolving around the poet’s fascination with her own death, established Plath as one of the last century’s most original and gifted poets.\n",
      "[('100', ' King James Bible: The Authorised Version ', '1611', 'It is impossible to imagine the English-speaking world celebrated in this series without the King James Bible, which is as universal and influential as Shakespeare.')]\n",
      "18. The Feminine Mystique by Betty Friedan (1963)\n",
      "  The book that ignited second-wave feminism captured the frustration of a generation of middle-class American housewives by daring to ask: “Is this all?”\n",
      "[('100', ' King James Bible: The Authorised Version ', '1611', 'It is impossible to imagine the English-speaking world celebrated in this series without the King James Bible, which is as universal and influential as Shakespeare.')]\n",
      "19. The Making of the English Working Class by EP Thompson (1963)This influential, painstakingly compiled masterpiece reads as an anatomy of pre-industrial Britain – and a description of the lost experience of the common man.\n",
      "[('100', ' King James Bible: The Authorised Version ', '1611', 'It is impossible to imagine the English-speaking world celebrated in this series without the King James Bible, which is as universal and influential as Shakespeare.')]\n",
      "20. Silent Spring by Rachel Carson (1962)\n",
      "  This classic of American advocacy sparked a nationwide outcry against the use of pesticides, inspired legislation that would endeavour to control pollution, and launched the modern environmental movement in the US.\n",
      "[('100', ' King James Bible: The Authorised Version ', '1611', 'It is impossible to imagine the English-speaking world celebrated in this series without the King James Bible, which is as universal and influential as Shakespeare.')]\n",
      "21. The Structure of Scientific Revolutions by Thomas S Kuhn (1962)\n",
      "  The American physicist and philosopher of science coined the phrase “paradigm shift” in a book that is seen as a milestone in scientific theory.\n",
      "[('100', ' King James Bible: The Authorised Version ', '1611', 'It is impossible to imagine the English-speaking world celebrated in this series without the King James Bible, which is as universal and influential as Shakespeare.')]\n",
      "22. A Grief Observed by CS Lewis (1961)\n",
      "  This powerful study of loss asks: “Where is God?” and explores the feeling of solitude and sense of betrayal that even non-believers will recognise.\n",
      "[('100', ' King James Bible: The Authorised Version ', '1611', 'It is impossible to imagine the English-speaking world celebrated in this series without the King James Bible, which is as universal and influential as Shakespeare.')]\n",
      "23. The Elements of Style by William Strunk and EB White (1959)\n",
      "  Dorothy Parker and Stephen King have both urged aspiring writers towards this crisp guide to the English language where brevity is key.\n",
      "[('100', ' King James Bible: The Authorised Version ', '1611', 'It is impossible to imagine the English-speaking world celebrated in this series without the King James Bible, which is as universal and influential as Shakespeare.')]\n",
      "24. The Affluent Society by John Kenneth Galbraith (1958)\n",
      "  An optimistic bestseller, in which JFK’s favoured economist promotes investment in both the public and private sectors.\n",
      "[('100', ' King James Bible: The Authorised Version ', '1611', 'It is impossible to imagine the English-speaking world celebrated in this series without the King James Bible, which is as universal and influential as Shakespeare.')]\n",
      "25. The Uses of Literacy: Aspects of Working-Class Life by Richard Hoggart (1957) This influential cultural study of postwar Britain offers pertinent truths on mass communication and the interaction between ordinary people and the elites.\n",
      "[('100', ' King James Bible: The Authorised Version ', '1611', 'It is impossible to imagine the English-speaking world celebrated in this series without the King James Bible, which is as universal and influential as Shakespeare.')]\n",
      "26. Notes of a Native Son by James Baldwin (1955)\n",
      "  Baldwin’s landmark collection of essays explores, in telling language, what it means to be a black man in modern America.\n",
      "[('100', ' King James Bible: The Authorised Version ', '1611', 'It is impossible to imagine the English-speaking world celebrated in this series without the King James Bible, which is as universal and influential as Shakespeare.')]\n",
      "27. The Nude: A Study of Ideal Art by Kenneth Clark (1956)Clark’s survey of the nude from the Greeks to Picasso foreshadows the critic’s towering claims for humanity in his later seminal work, Civilisation.\n",
      "[('100', ' King James Bible: The Authorised Version ', '1611', 'It is impossible to imagine the English-speaking world celebrated in this series without the King James Bible, which is as universal and influential as Shakespeare.')]\n",
      "28. The Hedgehog and the Fox by Isaiah Berlin (1953)The great historian of ideas starts with an animal parable and ends, via a dissection of Tolstoy’s work, in an existential system of thought.\n",
      "[('100', ' King James Bible: The Authorised Version ', '1611', 'It is impossible to imagine the English-speaking world celebrated in this series without the King James Bible, which is as universal and influential as Shakespeare.')]\n",
      "29. Waiting for Godot by Samuel Beckett (1952/53)\n",
      "  A bleakly hilarious, enigmatic watershed that changed the language of theatre and still sparks debate six decades on. An absurdist masterpiece.\n",
      "[('100', ' King James Bible: The Authorised Version ', '1611', 'It is impossible to imagine the English-speaking world celebrated in this series without the King James Bible, which is as universal and influential as Shakespeare.')]\n",
      "30. A Book of Mediterranean Food by Elizabeth David (1950)\n",
      "  This landmark recipe book, a horrified reaction to postwar rationing, introduced cooks to the food of southern Europe and readers to the art of food writing.\n",
      "[('100', ' King James Bible: The Authorised Version ', '1611', 'It is impossible to imagine the English-speaking world celebrated in this series without the King James Bible, which is as universal and influential as Shakespeare.')]\n",
      "31. The Great Tradition by FR Leavis (1948)\n",
      "  The controversial critic’s statement on English literature is an entertaining, often shocking, dissection of the novel, whose effects are still felt to this day.\n",
      "[('100', ' King James Bible: The Authorised Version ', '1611', 'It is impossible to imagine the English-speaking world celebrated in this series without the King James Bible, which is as universal and influential as Shakespeare.')]\n",
      "32. The Last Days of Hitler by Hugh Trevor-Roper (1947)\n",
      "  The historian’s vivid, terrifying account of the Führer’s demise, based on his postwar work for British intelligence, remains unsurpassed.\n",
      "[('100', ' King James Bible: The Authorised Version ', '1611', 'It is impossible to imagine the English-speaking world celebrated in this series without the King James Bible, which is as universal and influential as Shakespeare.')]\n",
      "33. The Common Sense Book of Baby and Child Care by Dr Benjamin Spock (1946) The groundbreaking manual urged parents to trust themselves, but was also accused of being the source of postwar “permissiveness”.\n",
      "[('100', ' King James Bible: The Authorised Version ', '1611', 'It is impossible to imagine the English-speaking world celebrated in this series without the King James Bible, which is as universal and influential as Shakespeare.')]\n",
      "34. Hiroshima by John Hersey (1946)\n",
      "  Hersey’s extraordinary, gripping book tells the personal stories of six people who endured the 1945 atom bomb attack.\n",
      "[('100', ' King James Bible: The Authorised Version ', '1611', 'It is impossible to imagine the English-speaking world celebrated in this series without the King James Bible, which is as universal and influential as Shakespeare.')]\n",
      "35. The Open Society and Its Enemies by Karl Popper (1945)\n",
      "  The Austrian-born philosopher’s postwar rallying cry for western liberal democracy was hugely influential in the 1960s.\n",
      "[('100', ' King James Bible: The Authorised Version ', '1611', 'It is impossible to imagine the English-speaking world celebrated in this series without the King James Bible, which is as universal and influential as Shakespeare.')]\n",
      "36. Black Boy: A Record of Childhood and Youth by Richard Wright (1945)\n",
      "  This influential memoir of a rebellious southern boyhood vividly evokes the struggle for African American identity in the decades before civil rights.\n",
      "[('100', ' King James Bible: The Authorised Version ', '1611', 'It is impossible to imagine the English-speaking world celebrated in this series without the King James Bible, which is as universal and influential as Shakespeare.')]\n",
      "37. How to Cook a Wolf by MFK Fisher (1942)The American culinary icon was one of the first writers to use food as a cultural metaphor, describing the sensual pleasures of the table with elegance and passion.\n",
      "[('100', ' King James Bible: The Authorised Version ', '1611', 'It is impossible to imagine the English-speaking world celebrated in this series without the King James Bible, which is as universal and influential as Shakespeare.')]\n",
      "38. Enemies of Promise by Cyril Connolly (1938)Connolly’s dissection of the art of writing and the perils of the literary life transformed the contemporary English scene.\n",
      "[('100', ' King James Bible: The Authorised Version ', '1611', 'It is impossible to imagine the English-speaking world celebrated in this series without the King James Bible, which is as universal and influential as Shakespeare.')]\n",
      "39. The Road to Wigan Pier by George Orwell (1937)Orwell’s unflinchingly honest account of three northern towns during the Great Depression was a milestone in the writer’s political development.\n",
      "[('100', ' King James Bible: The Authorised Version ', '1611', 'It is impossible to imagine the English-speaking world celebrated in this series without the King James Bible, which is as universal and influential as Shakespeare.')]\n",
      "40. The Road to Oxiana by Robert Byron (1937)\n",
      "  Much admired by Graham Greene and Evelyn Waugh, Byron’s dazzling, timeless account of a journey to Afghanistan is perhaps the greatest travel book of the 20th century.\n",
      "[('100', ' King James Bible: The Authorised Version ', '1611', 'It is impossible to imagine the English-speaking world celebrated in this series without the King James Bible, which is as universal and influential as Shakespeare.')]\n",
      "41. How to Win Friends and Influence People by Dale Carnegie (1936)\n",
      "  The original self-help manual on American life – with its influence stretching from the Great Depression to Donald Trump – has a lot to answer for.\n",
      "[('100', ' King James Bible: The Authorised Version ', '1611', 'It is impossible to imagine the English-speaking world celebrated in this series without the King James Bible, which is as universal and influential as Shakespeare.')]\n",
      "42. Testament of Youth by Vera Brittain (1933)\n",
      "  Brittain’s study of her experience of the first world war as a nurse and then victim of loss remains a powerful anti-war and feminist statement.\n",
      "[('100', ' King James Bible: The Authorised Version ', '1611', 'It is impossible to imagine the English-speaking world celebrated in this series without the King James Bible, which is as universal and influential as Shakespeare.')]\n",
      "43. My Early Life: A Roving Commission by Winston Churchill (1930)\n",
      "  Churchill delights with candid tales of childhood and boy’s own adventures in the Boer war that made him a tabloid hero.\n",
      "[('100', ' King James Bible: The Authorised Version ', '1611', 'It is impossible to imagine the English-speaking world celebrated in this series without the King James Bible, which is as universal and influential as Shakespeare.')]\n",
      "44. Goodbye to All That by Robert Graves (1929)Graves’s account of his experiences in the trenches of the first world war is a subversive tour de force.\n",
      "[('100', ' King James Bible: The Authorised Version ', '1611', 'It is impossible to imagine the English-speaking world celebrated in this series without the King James Bible, which is as universal and influential as Shakespeare.')]\n",
      "45. A Room of One’s Own by Virginia Woolf (1929)\n",
      "  Woolf’s essay on women’s struggle for independence and creative opportunity is a landmark of feminist thought.\n",
      "[('100', ' King James Bible: The Authorised Version ', '1611', 'It is impossible to imagine the English-speaking world celebrated in this series without the King James Bible, which is as universal and influential as Shakespeare.')]\n",
      "46. The Waste Land by TS Eliot (1922)Eliot’s long poem, written in extremis, came to embody the spirit of the years following the first world war.\n",
      "[('100', ' King James Bible: The Authorised Version ', '1611', 'It is impossible to imagine the English-speaking world celebrated in this series without the King James Bible, which is as universal and influential as Shakespeare.')]\n",
      "47. Ten Days That Shook the World by John Reed (1919)\n",
      "  The American socialist’s romantic account of the Russian revolution is a masterpiece of reportage.\n",
      "[('100', ' King James Bible: The Authorised Version ', '1611', 'It is impossible to imagine the English-speaking world celebrated in this series without the King James Bible, which is as universal and influential as Shakespeare.')]\n",
      "48. The Economic Consequences of the Peace by John Maynard Keynes (1919)\n",
      "  The great economist’s account of what went wrong at the Versailles conference after the first world war was polemical, passionate and prescient.\n",
      "[('100', ' King James Bible: The Authorised Version ', '1611', 'It is impossible to imagine the English-speaking world celebrated in this series without the King James Bible, which is as universal and influential as Shakespeare.')]\n",
      "49. The American Language by HL Mencken (1919)This declaration of linguistic independence by the renowned US journalist and commentator marked a crucial new chapter in American prose\n",
      "[('100', ' King James Bible: The Authorised Version ', '1611', 'It is impossible to imagine the English-speaking world celebrated in this series without the King James Bible, which is as universal and influential as Shakespeare.')]\n",
      "50. Eminent Victorians by Lytton Strachey (1918)Strachey’s partisan, often inaccurate but brilliant demolitions of four great 19th-century Britons illustrates life in the Victorian period from different perspectives.\n",
      "[('100', ' King James Bible: The Authorised Version ', '1611', 'It is impossible to imagine the English-speaking world celebrated in this series without the King James Bible, which is as universal and influential as Shakespeare.')]\n",
      "51. The Souls of Black Folk by WEB Du Bois (1903)\n",
      "  The great social activist’s collection of essays on the African American experience became a founding text of the civil rights movement.\n",
      "[('100', ' King James Bible: The Authorised Version ', '1611', 'It is impossible to imagine the English-speaking world celebrated in this series without the King James Bible, which is as universal and influential as Shakespeare.')]\n",
      "52. De Profundis by Oscar Wilde (1905)\n",
      "  There is a thrilling majesty to Oscar Wilde’s tormented tour de force written as he prepared for release from Reading jail.\n",
      "[('100', ' King James Bible: The Authorised Version ', '1611', 'It is impossible to imagine the English-speaking world celebrated in this series without the King James Bible, which is as universal and influential as Shakespeare.')]\n",
      "53. The Varieties of Religious Experience by William James (1902)\n",
      "  This revolutionary work written by Henry James’s less famous brother brought a democratising impulse to the realm of religious belief.\n",
      "[('100', ' King James Bible: The Authorised Version ', '1611', 'It is impossible to imagine the English-speaking world celebrated in this series without the King James Bible, which is as universal and influential as Shakespeare.')]\n",
      "54. Brief Lives by John Aubrey, edited by Andrew Clark (1898)\n",
      "  Truly ahead of his time, the 17th-century historian and gossip John Aubrey is rightly credited as the man who invented biography.\n",
      "[('100', ' King James Bible: The Authorised Version ', '1611', 'It is impossible to imagine the English-speaking world celebrated in this series without the King James Bible, which is as universal and influential as Shakespeare.')]\n",
      "55. Personal Memoirs by Ulysses S Grant (1885)\n",
      "  The civil war general turned president was a reluctant author, but set the gold standard for presidential memoirs, outlining his journey from boyhood onwards.\n",
      "[('100', ' King James Bible: The Authorised Version ', '1611', 'It is impossible to imagine the English-speaking world celebrated in this series without the King James Bible, which is as universal and influential as Shakespeare.')]\n",
      "56. Life on the Mississippi by Mark Twain (1883)\n",
      "  This memoir of Samuel Clemens’s time as a steamboat pilot provides insight into his best-known characters, as well as the writer he would become.\n",
      "[('100', ' King James Bible: The Authorised Version ', '1611', 'It is impossible to imagine the English-speaking world celebrated in this series without the King James Bible, which is as universal and influential as Shakespeare.')]\n",
      "57. Travels With a Donkey in the Cévennes by Robert Louis Stevenson (1879)The Scottish writer’s hike in the French mountains with a donkey is a pioneering classic in outdoor literature – and as influential as his fiction.\n",
      "[('100', ' King James Bible: The Authorised Version ', '1611', 'It is impossible to imagine the English-speaking world celebrated in this series without the King James Bible, which is as universal and influential as Shakespeare.')]\n",
      "58. Nonsense Songs by Edward Lear (1871)\n",
      "  The Victorians loved wordplay, and few could rival this compendium of verbal delirium by Britain’s “laureate of nonsense”.\n",
      "[('100', ' King James Bible: The Authorised Version ', '1611', 'It is impossible to imagine the English-speaking world celebrated in this series without the King James Bible, which is as universal and influential as Shakespeare.')]\n",
      "59. Culture and Anarchy by Matthew Arnold (1869)\n",
      "  Arnold caught the public mood with this high-minded but entertaining critique of Victorian society posing questions about the art of civilised living that still perplex us.\n",
      "[('100', ' King James Bible: The Authorised Version ', '1611', 'It is impossible to imagine the English-speaking world celebrated in this series without the King James Bible, which is as universal and influential as Shakespeare.')]\n",
      "60. On the Origin of Species by Charles Darwin (1859)\n",
      "  Darwin’s revolutionary, humane and highly readable introduction to his theory of evolution is arguably the most important book of the Victorian era.\n",
      "[('100', ' King James Bible: The Authorised Version ', '1611', 'It is impossible to imagine the English-speaking world celebrated in this series without the King James Bible, which is as universal and influential as Shakespeare.')]\n",
      "61. On Liberty by John Stuart Mill (1859)\n",
      "  This fine, lucid writer captured the mood of the time with this spirited assertion of the English individual’s rights.\n",
      "[('100', ' King James Bible: The Authorised Version ', '1611', 'It is impossible to imagine the English-speaking world celebrated in this series without the King James Bible, which is as universal and influential as Shakespeare.')]\n",
      "62. The Wonderful Adventures of Mrs Seacole in Many Lands by Mary Seacole (1857)A gloriously entertaining autobiography by the widely revered Victorian sometimes described as “the black Florence Nightingale”.\n",
      "[('100', ' King James Bible: The Authorised Version ', '1611', 'It is impossible to imagine the English-speaking world celebrated in this series without the King James Bible, which is as universal and influential as Shakespeare.')]\n",
      "63. The Life of Charlotte Brontë by Elizabeth Gaskell (1857)\n",
      "  Possibly Gaskell’s finest work – a bold portrait of a brilliant woman worn down by her father’s eccentricities and the death of her siblings.\n",
      "[('100', ' King James Bible: The Authorised Version ', '1611', 'It is impossible to imagine the English-speaking world celebrated in this series without the King James Bible, which is as universal and influential as Shakespeare.')]\n",
      "64. Walden by Henry David Thoreau (1854)\n",
      "  This account of one man’s rejection of American society has influenced generations of free thinkers.\n",
      "[('100', ' King James Bible: The Authorised Version ', '1611', 'It is impossible to imagine the English-speaking world celebrated in this series without the King James Bible, which is as universal and influential as Shakespeare.')]\n",
      "65. Thesaurus by Dr Peter Mark Roget (1852)\n",
      "  Born of a Victorian desire for order and harmony among nations, this guide to the English language is as unique as it is indispensable.\n",
      "[('100', ' King James Bible: The Authorised Version ', '1611', 'It is impossible to imagine the English-speaking world celebrated in this series without the King James Bible, which is as universal and influential as Shakespeare.')]\n",
      "66. London Labour and the London Poor by Henry Mayhew (1851)\n",
      "  The influence of the Victorian journalist’s detailed, dispassionate descriptions of London lower-class life is clear, right up to the present day.\n",
      "[('100', ' King James Bible: The Authorised Version ', '1611', 'It is impossible to imagine the English-speaking world celebrated in this series without the King James Bible, which is as universal and influential as Shakespeare.')]\n",
      "67. Household Education by Harriet Martineau (1848)\n",
      "  This protest at the lack of women’s education was as pioneering as its author was in Victorian literary circles.\n",
      "[('100', ' King James Bible: The Authorised Version ', '1611', 'It is impossible to imagine the English-speaking world celebrated in this series without the King James Bible, which is as universal and influential as Shakespeare.')]\n",
      "68. Narrative of the Life of Frederick Douglass, an American Slave by Frederick Douglass (1845)This vivid memoir was influential in the abolition of slavery, and its author would become one of the most influential African Americans of the 19th century.\n",
      "[('100', ' King James Bible: The Authorised Version ', '1611', 'It is impossible to imagine the English-speaking world celebrated in this series without the King James Bible, which is as universal and influential as Shakespeare.')]\n",
      "69. Essays by RW Emerson (1841)\n",
      "  New England’s inventor of “transcendentalism” is still revered for his high-minded thoughts on individuality, freedom and nature expressed in 12 essays.\n",
      "[('100', ' King James Bible: The Authorised Version ', '1611', 'It is impossible to imagine the English-speaking world celebrated in this series without the King James Bible, which is as universal and influential as Shakespeare.')]\n",
      "70. Domestic Manners of the Americans by Frances Trollope (1832)\n",
      "  Rich in detail and Old World snobbery, Trollope’s classic travelogue identifies aspects of America’s national character still visible today.\n",
      "[('100', ' King James Bible: The Authorised Version ', '1611', 'It is impossible to imagine the English-speaking world celebrated in this series without the King James Bible, which is as universal and influential as Shakespeare.')]\n",
      "71. An American Dictionary of the English Language by Noah Webster (1828) Though a lexicographical landmark to stand alongside Dr Johnson’s achievement, the original sold only 2,500 copies and left its author in debt.\n",
      "[('100', ' King James Bible: The Authorised Version ', '1611', 'It is impossible to imagine the English-speaking world celebrated in this series without the King James Bible, which is as universal and influential as Shakespeare.')]\n",
      "72. Confessions of an English Opium-Eater by Thomas De Quincey (1822)\n",
      "  An addiction memoir, by the celebrated and supremely talented contemporary of Coleridge and Wordsworth, outlining his life hooked on the the drug.\n",
      "[('100', ' King James Bible: The Authorised Version ', '1611', 'It is impossible to imagine the English-speaking world celebrated in this series without the King James Bible, which is as universal and influential as Shakespeare.')]\n",
      "73. Tales from Shakespeare by Charles and Mary Lamb (1807)\n",
      "  A troubled brother-and-sister team produced one of the 19th century’s bestselling volumes and simplified the complexity of Shakespeare’s plays for younger audiences.\n",
      "[('100', ' King James Bible: The Authorised Version ', '1611', 'It is impossible to imagine the English-speaking world celebrated in this series without the King James Bible, which is as universal and influential as Shakespeare.')]\n",
      "74. Travels in the Interior Districts of Africa by Mungo Park (1799)\n",
      "  The Scottish explorer’s account of his heroic one-man search for the river Niger was a contemporary bestseller and a huge influence on Conrad, Melville and Hemingway.\n",
      "[('100', ' King James Bible: The Authorised Version ', '1611', 'It is impossible to imagine the English-speaking world celebrated in this series without the King James Bible, which is as universal and influential as Shakespeare.')]\n",
      "75. The Autobiography of Benjamin Franklin by Benjamin Franklin (1793)\n",
      "  The US founding father’s life, drawn from four different manuscripts, combines the affairs of revolutionary America with his private struggles.\n",
      "[('100', ' King James Bible: The Authorised Version ', '1611', 'It is impossible to imagine the English-speaking world celebrated in this series without the King James Bible, which is as universal and influential as Shakespeare.')]\n",
      "76. A Vindication of the Rights of Woman by Mary Wollstonecraft (1792)\n",
      "  This radical text attacked the dominant male thinkers of the age and laid the foundations of feminism.\n",
      "[('100', ' King James Bible: The Authorised Version ', '1611', 'It is impossible to imagine the English-speaking world celebrated in this series without the King James Bible, which is as universal and influential as Shakespeare.')]\n",
      "77. The Life of Samuel Johnson LLD by James Boswell (1791)\n",
      "  This huge work is one of the greatest of all English biographies and a testament to one of the great literary friendships.\n",
      "[('100', ' King James Bible: The Authorised Version ', '1611', 'It is impossible to imagine the English-speaking world celebrated in this series without the King James Bible, which is as universal and influential as Shakespeare.')]\n",
      "78. Reflections on the Revolution in France by Edmund Burke (1790)\n",
      "  Motivated by the revolution across the Channel, this passionate defence of the aristocratic system is a landmark in conservative thinking.\n",
      "[('100', ' King James Bible: The Authorised Version ', '1611', 'It is impossible to imagine the English-speaking world celebrated in this series without the King James Bible, which is as universal and influential as Shakespeare.')]\n",
      "79. The Interesting Narrative of the Life of Olaudah Equiano by Olaudah Equiano (1789)The most famous slave memoir of the 18th century is a powerful and terrifying read, and established Equiano as a founding figure in black literary tradition.\n",
      "[('100', ' King James Bible: The Authorised Version ', '1611', 'It is impossible to imagine the English-speaking world celebrated in this series without the King James Bible, which is as universal and influential as Shakespeare.')]\n",
      "80. The Natural History and Antiquities of Selborne by Gilbert White (1789)\n",
      "  This curate’s beautiful and lucid observations on the wildlife of a Hampshire village inspired generations of naturalists.\n",
      "[('100', ' King James Bible: The Authorised Version ', '1611', 'It is impossible to imagine the English-speaking world celebrated in this series without the King James Bible, which is as universal and influential as Shakespeare.')]\n",
      "81. The Federalist Papers by ‘Publius’ (1788)\n",
      "  These wise essays clarified the aims of the American republic and rank alongside the Declaration of Independence as a cornerstone of US democracy.\n",
      "[('100', ' King James Bible: The Authorised Version ', '1611', 'It is impossible to imagine the English-speaking world celebrated in this series without the King James Bible, which is as universal and influential as Shakespeare.')]\n",
      "82. The Diary of Fanny Burney (1778)\n",
      "  Burney’s acutely observed memoirs open a window on the literary and courtly circles of late 18th-century England.\n",
      "[('100', ' King James Bible: The Authorised Version ', '1611', 'It is impossible to imagine the English-speaking world celebrated in this series without the King James Bible, which is as universal and influential as Shakespeare.')]\n",
      "83. The History of the Decline and Fall of the Roman Empire by Edward Gibbon (1776-1788)\n",
      "  Perhaps the greatest and certainly one of the most influential history books in the English language, in which Gibbon unfolds the narrative from the height of the Roman empire to the fall of Byzantium.\n",
      "[('100', ' King James Bible: The Authorised Version ', '1611', 'It is impossible to imagine the English-speaking world celebrated in this series without the King James Bible, which is as universal and influential as Shakespeare.')]\n",
      "84. The Wealth of Nations by Adam Smith (1776)\n",
      "  Blending history, philosophy, psychology and sociology, the Scottish intellectual single-handedly invented modern political economy.\n",
      "[('100', ' King James Bible: The Authorised Version ', '1611', 'It is impossible to imagine the English-speaking world celebrated in this series without the King James Bible, which is as universal and influential as Shakespeare.')]\n",
      "85. Common Sense by Tom Paine (1776)\n",
      "  This little book helped ignite revolutionary America against the British under George III.\n",
      "[('100', ' King James Bible: The Authorised Version ', '1611', 'It is impossible to imagine the English-speaking world celebrated in this series without the King James Bible, which is as universal and influential as Shakespeare.')]\n",
      "86. A Dictionary of the English Language by Samuel Johnson (1755)\n",
      "  Dr Johnson’s decade-long endeavour framed the English language for the coming centuries with clarity, intelligence and extraordinary wit.\n",
      "[('100', ' King James Bible: The Authorised Version ', '1611', 'It is impossible to imagine the English-speaking world celebrated in this series without the King James Bible, which is as universal and influential as Shakespeare.')]\n",
      "87. A Treatise of Human Nature by David Hume (1739)\n",
      "  This is widely seen as the philosopher’s most important work, but its first publication was a disaster.\n",
      "[('100', ' King James Bible: The Authorised Version ', '1611', 'It is impossible to imagine the English-speaking world celebrated in this series without the King James Bible, which is as universal and influential as Shakespeare.')]\n",
      "88. A Modest Proposal by Jonathan Swift (1729)\n",
      "  The satirist’s jaw-dropping solution to the plight of the Irish poor is among the most powerful tracts in the English language.\n",
      "[('100', ' King James Bible: The Authorised Version ', '1611', 'It is impossible to imagine the English-speaking world celebrated in this series without the King James Bible, which is as universal and influential as Shakespeare.')]\n",
      "89. A Tour Through the Whole Island of Great Britain by Daniel Defoe (1727) Readable, reliable, full of surprise and charm, Defoe’s Tour is an outstanding literary travel guide.\n",
      "[('100', ' King James Bible: The Authorised Version ', '1611', 'It is impossible to imagine the English-speaking world celebrated in this series without the King James Bible, which is as universal and influential as Shakespeare.')]\n",
      "90. An Essay Concerning Human Understanding by John Locke (1689)\n",
      "  Eloquent and influential, the Enlightenment philosopher’s most celebrated work embodies the English spirit and retains an enduring relevance.\n",
      "[('100', ' King James Bible: The Authorised Version ', '1611', 'It is impossible to imagine the English-speaking world celebrated in this series without the King James Bible, which is as universal and influential as Shakespeare.')]\n",
      "91. The Book of Common Prayer by Thomas Cranmer (1662)Cranmer’s book of vernacular English prayer is possibly the most widely read book in the English literary tradition.\n",
      "[('100', ' King James Bible: The Authorised Version ', '1611', 'It is impossible to imagine the English-speaking world celebrated in this series without the King James Bible, which is as universal and influential as Shakespeare.')]\n",
      "92. The Diary of Samuel Pepys by Samuel Pepys (1660)\n",
      "  A portrait of an extraordinary Englishman, whose scintillating firsthand accounts of Restoration England are recorded alongside his rampant sexual exploits.\n",
      "[('100', ' King James Bible: The Authorised Version ', '1611', 'It is impossible to imagine the English-speaking world celebrated in this series without the King James Bible, which is as universal and influential as Shakespeare.')]\n",
      "93. Hydriotaphia, Urn Burial, or A Brief Discourse of the Sepulchral Urns Lately Found in Norfolk by Sir Thomas Browne (1658)Browne earned his reputation as a “writer’s writer” with this dazzling short essay on burial customs.\n",
      "[('100', ' King James Bible: The Authorised Version ', '1611', 'It is impossible to imagine the English-speaking world celebrated in this series without the King James Bible, which is as universal and influential as Shakespeare.')]\n",
      "94. Leviathan by Thomas Hobbes (1651)Hobbes’s essay on the social contract is both a founding text of western thought and a masterpiece of wit and imagination.\n",
      "[('100', ' King James Bible: The Authorised Version ', '1611', 'It is impossible to imagine the English-speaking world celebrated in this series without the King James Bible, which is as universal and influential as Shakespeare.')]\n",
      "95. Areopagitica by John Milton (1644)Today, Milton is remembered as a great poet. But this fiery attack on censorship and call for a free press reveals a brilliant English radical.\n",
      "[('100', ' King James Bible: The Authorised Version ', '1611', 'It is impossible to imagine the English-speaking world celebrated in this series without the King James Bible, which is as universal and influential as Shakespeare.')]\n",
      "96. Devotions Upon Emergent Occasions by John Donne (1624)The poet’s intense meditation on the meaning of life and death is a dazzling work that contains some of his most memorable writing.\n",
      "[('100', ' King James Bible: The Authorised Version ', '1611', 'It is impossible to imagine the English-speaking world celebrated in this series without the King James Bible, which is as universal and influential as Shakespeare.')]\n",
      "97. The First Folio by William Shakespeare (1623)The first edition of his plays established the playwright for all time in a trove of 36 plays with an assembled cast of immortal characters.\n",
      "[('100', ' King James Bible: The Authorised Version ', '1611', 'It is impossible to imagine the English-speaking world celebrated in this series without the King James Bible, which is as universal and influential as Shakespeare.')]\n",
      "98. The Anatomy of Melancholy by Robert Burton (1621)Burton’s garrulous, repetitive masterpiece is a compendious study of melancholia, a sublime literary doorstop that explores humanity in all its aspects.\n",
      "[('100', ' King James Bible: The Authorised Version ', '1611', 'It is impossible to imagine the English-speaking world celebrated in this series without the King James Bible, which is as universal and influential as Shakespeare.')]\n",
      "99. The History of the World by Walter Raleigh (1614)Raleigh’s most important prose work, close to 1m words in total, used ancient history as a sly commentary on present-day issues.\n",
      "[('100', ' King James Bible: The Authorised Version ', '1611', 'It is impossible to imagine the English-speaking world celebrated in this series without the King James Bible, which is as universal and influential as Shakespeare.')]\n",
      "100. King James Bible: The Authorised Version (1611)It is impossible to imagine the English-speaking world celebrated in this series without the King James Bible, which is as universal and influential as Shakespeare.\n",
      "[('100', ' King James Bible: The Authorised Version ', '1611', 'It is impossible to imagine the English-speaking world celebrated in this series without the King James Bible, which is as universal and influential as Shakespeare.')]\n"
     ]
    }
   ],
   "source": [
    "all_entries=soup_doc.find_all('p')\n",
    "get_better_list = []\n",
    "for book in all_entries[1:-1]:\n",
    "    whole_line = book.text\n",
    "    print(whole_line)\n",
    "    #pattern=re.findall(r\"^\\d{1,3}[.].+[(][\\d]{4,}[)].+\",whole_line)##all_but 29 and 83\n",
    "    #pattern=re.findall(r\"^\\d{1,3}[.].+[(][\\d/]{4,}[)].+\",whole_line)#all but 83\n",
    "    pattern=re.findall(r\"^\\d{1,3}[.].+[(][\\d/-]{4,}[)].+\",whole_line)#ALL!!!!!!\n",
    "    #pattern_groups = re.findall(r\"^(\\d{1,3})[.](.+)[(]([\\d/-]{4,})[)](.+)\",whole_line)\n",
    "    print(pattern_groups)\n",
    "    get_better_list.append(pattern_groups)"
   ]
  },
  {
   "cell_type": "code",
   "execution_count": 81,
   "metadata": {},
   "outputs": [],
   "source": [
    "##MAKE SURE ALL ENTRIES ARE SPLIT INTO 4s!!!\n",
    "get_better_list\n",
    "for each in get_better_list:\n",
    "    if len(each[0]) != 4:\n",
    "        print(each[0])"
   ]
  },
  {
   "cell_type": "code",
   "execution_count": 89,
   "metadata": {},
   "outputs": [
    {
     "data": {
      "text/plain": [
       "('100',\n",
       " ' King James Bible: The Authorised Version ',\n",
       " '1611',\n",
       " 'It is impossible to imagine the English-speaking world celebrated in this series without the King James Bible, which is as universal and influential as Shakespeare.')"
      ]
     },
     "execution_count": 89,
     "metadata": {},
     "output_type": "execute_result"
    }
   ],
   "source": [
    "get_better_list[99][0]"
   ]
  },
  {
   "cell_type": "code",
   "execution_count": null,
   "metadata": {},
   "outputs": [],
   "source": []
  }
 ],
 "metadata": {
  "kernelspec": {
   "display_name": "Python 3",
   "language": "python",
   "name": "python3"
  },
  "language_info": {
   "codemirror_mode": {
    "name": "ipython",
    "version": 3
   },
   "file_extension": ".py",
   "mimetype": "text/x-python",
   "name": "python",
   "nbconvert_exporter": "python",
   "pygments_lexer": "ipython3",
   "version": "3.10.12"
  }
 },
 "nbformat": 4,
 "nbformat_minor": 4
}
