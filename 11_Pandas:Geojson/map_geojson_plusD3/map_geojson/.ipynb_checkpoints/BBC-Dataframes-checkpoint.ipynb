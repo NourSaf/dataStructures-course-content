{
 "cells": [
  {
   "cell_type": "markdown",
   "metadata": {},
   "source": [
    "### The curse of dimensionality: BBC\n",
    "Here is pathway toward aggregating, grouping and narrowing down your dataframe. (There is no right way--there are just ways that work better than others.)"
   ]
  },
  {
   "cell_type": "code",
   "execution_count": null,
   "metadata": {},
   "outputs": [],
   "source": [
    "sample_BBC = [\n",
    "[' Mulholland Drive ',  'David Lynch',  '2001',  '1',  'Simon Abrams',  'Freelance film critic',  'US'], \n",
    "[' In the Mood for Love ',  'Wong Kar-wai',  '2000',  '2',  'Simon Abrams',  'Freelance film critic',  'US'], \n",
    "[' The Tree of Life ',  'Terrence Malick',  '2011',  '3',  'Simon Abrams',  'Freelance film critic',  'US'], \n",
    "[' Yi Yi: A One and a Two ',  'Edward Yang',  '2000',  '4',  'Simon Abrams',  'Freelance film critic',  'US'], \n",
    "[' Goodbye to Language ',  'Jean-Luc Godard',  '2014',  '5',  'Simon Abrams',  'Freelance film critic',  'US'], \n",
    "[' The White Meadows ',  'Mohammad Rasoulof',  '2009',  '6',  'Simon Abrams',  'Freelance film critic',  'US'], \n",
    "[' Night Across the Street ',  'Raoul Ruiz',  '2012',  '7',  'Simon Abrams',  'Freelance film critic',  'US'], \n",
    "[' Certified Copy ',  'Abbas Kiarostami',  '2010',  '8',  'Simon Abrams',  'Freelance film critic',  'US'], \n",
    "[' Sparrow ',  'Johnnie To',  '2008',  '9',  'Simon Abrams',  'Freelance film critic',  'US'], \n",
    "[' Fados ',  'Carlos Saura',  '2007',  '10',  'Simon Abrams',  'Freelance film critic',  'US'], \n",
    "[' In the Mood for Love ',  'Wong Kar-wai',  '2000',  '1',  'Sam Adams',  'Freelance film critic',  'US'], \n",
    "[' Eternal Sunshine of the Spotless Mind ',  'Michel Gondry',  '2004',  '2',  'Sam Adams',  'Freelance film critic',  'US'], \n",
    "[' Syndromes and a Century ',  'Apichatpong Weerasethakul',  '2006',  '3',  'Sam Adams',  'Freelance film critic',  'US'], \n",
    "[' Spirited Away ',  'Hayao Miyazaki',  '2001',  '4',  'Sam Adams',  'Freelance film critic',  'US'], \n",
    "[' The Act of Killing ',  'Joshua Oppenheimer',  '2012',  '5',  'Sam Adams',  'Freelance film critic',  'US'], \n",
    "[' The Grand Budapest Hotel ',  'Wes Anderson',  '2014',  '6',  'Sam Adams',  'Freelance film critic',  'US'], \n",
    "[' The New World ',  'Terrence Malick',  '2004',  '7',  'Sam Adams',  'Freelance film critic',  'US'], \n",
    "[' Certified Copy ',  'Abbas Kiarostami',  '2010',  '8',  'Sam Adams',  'Freelance film critic',  'US'], \n",
    "[' The World ',  'Jia Zhangke',  '2004',  '9',  'Sam Adams',  'Freelance film critic',  'US'], \n",
    "[' Elephant ',  'Gus Van Sant',  '2003',  '10',  'Sam Adams',  'Freelance film critic',  'US'], \n",
    "[' Zero Dark Thirty ',  'Kathryn Bigelow',  '2012',  '1',  'Thelma Adams',  'Freelance film critic',  'US'], \n",
    "[' A History of Violence ',  'David Cronenberg',  '2005',  '2',  'Thelma Adams',  'Freelance film critic',  'US'], \n",
    "[' The Grand Budapest Hotel ',  'Wes Anderson',  '2014',  '3',  'Thelma Adams',  'Freelance film critic',  'US'], \n",
    "[' Stories We Tell ',  'Sarah Polley',  '2012',  '4',  'Thelma Adams',  'Freelance film critic',  'US'], \n",
    "[' Casino Royale ',  'Martin Campbell',  '2006',  '5',  'Thelma Adams',  'Freelance film critic',  'US'], \n",
    "[' Eternal Sunshine of the Spotless Mind ',  'Michel Gondry',  '2004',  '6',  'Thelma Adams',  'Freelance film critic',  'US'], \n",
    "[' Tabu ',  'Miguel Gomes',  '2012',  '7',  'Thelma Adams',  'Freelance film critic',  'US'], \n",
    "[' Snow White ',  'Pablo Berger',  '2012',  '8',  'Thelma Adams',  'Freelance film critic',  'US'], \n",
    "[' Frozen River ',  'Courtney Hunt',  '2008',  '9',  'Thelma Adams',  'Freelance film critic',  'US'], \n",
    "[' Gosford Park ',  'Robert Altman',  '2001',  '10',  'Thelma Adams',  'Freelance film critic',  'US'], \n",
    "[' In the Mood for Love ',  'Wong Kar-wai',  '2000',  '1',  'Arturo Aguilar',  'Rolling Stone Mexico',  'Mexico'], \n",
    "[' Mulholland Drive ',  'David Lynch',  '2001',  '2',  'Arturo Aguilar',  'Rolling Stone Mexico',  'Mexico'], \n",
    "[' Inception ',  'Christopher Nolan',  '2010',  '3',  'Arturo Aguilar',  'Rolling Stone Mexico',  'Mexico'], \n",
    "[\" Pan's Labyrinth \",  'Guillermo Del Toro',  '2006',  '4',  'Arturo Aguilar',  'Rolling Stone Mexico',  'Mexico'], \n",
    "[' Caché ',  'Michael Haneke',  '2005',  '5',  'Arturo Aguilar',  'Rolling Stone Mexico',  'Mexico'], \n",
    "[' Grizzly Man ',  'Werner Herzog',  '2005',  '6',  'Arturo Aguilar',  'Rolling Stone Mexico',  'Mexico'], \n",
    "[' 4 Months, 3 Weeks & 2 Days ',  'Cristian Mungiu',  '2007',  '7',  'Arturo Aguilar',  'Rolling Stone Mexico',  'Mexico'], \n",
    "[' Holy Motors ',  'Leos Carax',  '2012',  '8',  'Arturo Aguilar',  'Rolling Stone Mexico',  'Mexico'], \n",
    "[' The Last of the Unjust ',  'Claude Lanzmann',  '2013',  '9',  'Arturo Aguilar',  'Rolling Stone Mexico',  'Mexico'], \n",
    "[' There Will Be Blood ',  'Paul Thomas Anderson',  '2007',  '10',  'Arturo Aguilar',  'Rolling Stone Mexico',  'Mexico'], \n",
    "[' The Piano Teacher ',  'Michael Haneke',  '2001',  '1',  'Matthew Anderson',  'BBC Culture',  'UK'], \n",
    "[' Margaret ',  'Kenneth Lonergan',  '2011',  '2',  'Matthew Anderson',  'BBC Culture',  'UK'], \n",
    "[' American Psycho ',  'Mary Harron',  '2000',  '3',  'Matthew Anderson',  'BBC Culture',  'UK'], \n",
    "[' 4 Months, 3 Weeks & 2 Days ',  'Cristian Mungiu',  '2007',  '4',  'Matthew Anderson',  'BBC Culture',  'UK'], \n",
    "[' Caché ',  'Michael Haneke',  '2005',  '5',  'Matthew Anderson',  'BBC Culture',  'UK'], \n",
    "[' Mulholland Drive ',  'David Lynch',  '2001',  '6',  'Matthew Anderson',  'BBC Culture',  'UK'], \n",
    "[' Lourdes ',  'Jessica Hausner',  '2009',  '7',  'Matthew Anderson',  'BBC Culture',  'UK'], \n",
    "[' Red Road ',  'Andrea Arnold',  '2006',  '8',  'Matthew Anderson',  'BBC Culture',  'UK'], \n",
    "[' Boyhood ',  'Richard Linklater',  '2014',  '9',  'Matthew Anderson',  'BBC Culture',  'UK'], \n",
    "[' Tony Manero ',  'Pablo Larraín',  '2008',  '10',  'Matthew Anderson',  'BBC Culture',  'UK'], \n",
    "[' No Country For Old Men ',  'Joel and Ethan Coen',  '2007',  '1',  'Tim Appelo',  'The Wrap',  'US'], \n",
    "[' Spirited Away ',  'Hayao Miyazaki',  '2001',  '2',  'Tim Appelo',  'The Wrap',  'US'], \n",
    "[' A Separation ',  'Asghar Farhadi',  '2011',  '3',  'Tim Appelo',  'The Wrap',  'US'], \n",
    "[\" Pan's Labyrinth \",  'Guillermo Del Toro',  '2006',  '4',  'Tim Appelo',  'The Wrap',  'US'], \n",
    "[' Finding Nemo ',  'Andrew Stanton and Lee Unkrich',  '2003',  '5',  'Tim Appelo',  'The Wrap',  'US'], \n",
    "[' Hero ', 'Zhang Yimou', '2002', '6', 'Tim Appelo', 'The Wrap', 'US'], \n",
    "[' The Wolf of Wall Street ',  'Martin Scorsese',  '2013',  '7',  'Tim Appelo',  'The Wrap',  'US'], \n",
    "[' Mother ', 'Bong Joon-ho', '2009', '8', 'Tim Appelo', 'The Wrap', 'US'], \n",
    "[' The Bourne Ultimatum ',  'Paul Greengrass',  '2007',  '9',  'Tim Appelo',  'The Wrap',  'US'], \n",
    "[' Traffic ',  'Steven Soderbergh',  '2000',  '10',  'Tim Appelo',  'The Wrap',  'US'], \n",
    "[' These Encounters of Theirs ',  'Danièle Huillet and Jean-Marie Straub',  '2006',  '1',  'Adriano Aprà',  'Film historian',  'Italy'], \n",
    "[' Vincere ',  'Marco Bellocchio',  '2009',  '2',  'Adriano Aprà',  'Film historian',  'Italy'], \n",
    "[' Le quattro volte ',  'Michelangelo Frammartino',  '2010',  '3',  'Adriano Aprà',  'Film historian',  'Italy'], \n",
    "[' The Profession of Arms ',  'Ermanno Olmi',  '2001',  '4',  'Adriano Aprà',  'Film historian',  'Italy'], \n",
    "[' Gostanza da Libbiano ',  'Paolo Benvenuti',  '2000',  '5',  'Adriano Aprà',  'Film historian',  'Italy'], \n",
    "[' Storia di una donna amata e di un assassino gentile ',  'Luigi M. Faccini',  '2009',  '6',  'Adriano Aprà',  'Film historian',  'Italy'], \n",
    "[' At the First Breath of Wind ',  'Franco Piavoli',  '2003',  '7',  'Adriano Aprà',  'Film historian',  'Italy'], \n",
    "[' Sangue ',  'Pippo Delbono',  '2013',  '8',  'Adriano Aprà',  'Film historian',  'Italy'], \n",
    "[' Terra ',  'Marco De Angelis and Antonio Di Trapani',  '2015',  '9',  'Adriano Aprà',  'Film historian',  'Italy'], \n",
    "[' Oh! Man ',  'Yervant Gianikian and Angela Ricci Lucchi',  '2004',  '10',  'Adriano Aprà',  'Film historian',  'Italy']\n",
    "]"
   ]
  },
  {
   "cell_type": "markdown",
   "metadata": {
    "collapsed": true,
    "jupyter": {
     "outputs_hidden": true
    }
   },
   "source": [
    "Bring that into pandas"
   ]
  },
  {
   "cell_type": "code",
   "execution_count": null,
   "metadata": {},
   "outputs": [],
   "source": [
    "import numpy as np\n",
    "import pandas as pd\n",
    "col_names = ['movie', 'director', 'm_year', 'crit_rank','critic','crit_org','crit_cn']\n",
    "df = pd.DataFrame.from_records(sample_BBC, columns=col_names)\n"
   ]
  },
  {
   "cell_type": "code",
   "execution_count": null,
   "metadata": {},
   "outputs": [],
   "source": [
    "df.head(20)"
   ]
  },
  {
   "cell_type": "markdown",
   "metadata": {},
   "source": [
    "### SAVE IT: BACK UP YOUR DATAFRAMES!! \n",
    "\n",
    "Always backup your data frames (export as csv)!\n",
    "If you have reached this point you don't want to go back and re-scrape ever!!!!"
   ]
  },
  {
   "cell_type": "code",
   "execution_count": null,
   "metadata": {},
   "outputs": [],
   "source": [
    "df.to_csv(r'backup_BBC1.csv', index = False)"
   ]
  },
  {
   "cell_type": "markdown",
   "metadata": {},
   "source": [
    "### Okay, now to explore: \n",
    "\n",
    "Right now there's only one Field with the country--the critics country. Let's group by that."
   ]
  },
  {
   "cell_type": "code",
   "execution_count": null,
   "metadata": {},
   "outputs": [],
   "source": [
    "df.groupby('crit_cn')['critic'].nunique()"
   ]
  },
  {
   "cell_type": "code",
   "execution_count": null,
   "metadata": {},
   "outputs": [],
   "source": [
    "#Narrowing down my data into a smaller frame"
   ]
  },
  {
   "cell_type": "code",
   "execution_count": null,
   "metadata": {},
   "outputs": [],
   "source": [
    "df1 = df.groupby('crit_cn')['movie'].value_counts().reset_index(name='count')\n",
    "df1.tail(60)"
   ]
  },
  {
   "cell_type": "markdown",
   "metadata": {},
   "source": [
    "The cell above has the output I want,  but I need it to look nice and be combined in a single column.  This is how we build the **\"article:\"** field of our geojson doc. You need to combine columns of data into readable text."
   ]
  },
  {
   "cell_type": "code",
   "execution_count": null,
   "metadata": {
    "scrolled": true
   },
   "outputs": [],
   "source": [
    "#Moving the values from the two right columns into a new column\n",
    "#One that human readers can understand\n",
    "df1[\"string\"] = df1[\"movie\"] + \": \" + df1[\"count\"].astype(str) + np.where(df1[\"count\"]>1, ' votes', ' vote')\n",
    "df1.tail(40)"
   ]
  },
  {
   "cell_type": "markdown",
   "metadata": {},
   "source": [
    "This is nice but I need to I have only **one row per country**. I do another group, and combine everything together. And when I do that I throw some HTML into there."
   ]
  },
  {
   "cell_type": "code",
   "execution_count": null,
   "metadata": {
    "scrolled": true
   },
   "outputs": [],
   "source": [
    "#this is just two different ways to do this:\n",
    "#one using % as the wild card\n",
    "#and one using .format and {0} as the wild card\n",
    "\n",
    "#output = df1.groupby('crit_cn')['string'].apply(lambda x: \"<div id='movie'><h1><b>Top Movies</b></h1><P>%s</P></div>\" % '</p><p> '.join(x)).reset_index(name='properties.article')\n",
    "output = df1.groupby('crit_cn')['string'].apply(lambda x: \"<div class='movie_list'><h1><b>Top Movies</b></h1><P>{0}</P></div>\".format('</p><p> '.join(x))).reset_index(name='properties.article')\n",
    "output\n"
   ]
  },
  {
   "cell_type": "code",
   "execution_count": null,
   "metadata": {},
   "outputs": [],
   "source": []
  },
  {
   "cell_type": "code",
   "execution_count": null,
   "metadata": {},
   "outputs": [],
   "source": [
    "output.iloc[3]['properties.article']"
   ]
  },
  {
   "cell_type": "markdown",
   "metadata": {},
   "source": [
    "Now we need our **headline**:  I'm going to have it be the number of critics in the country. I make a mini dataframe That counts the number of critics, and I merge it with my output dataframe."
   ]
  },
  {
   "cell_type": "code",
   "execution_count": null,
   "metadata": {},
   "outputs": [],
   "source": [
    "crits = df.groupby('crit_cn')['critic'].nunique().reset_index(name='properties.headline')\n",
    "crits"
   ]
  },
  {
   "cell_type": "code",
   "execution_count": null,
   "metadata": {},
   "outputs": [],
   "source": [
    "output = output.merge(crits, how='left', on='crit_cn')"
   ]
  },
  {
   "cell_type": "code",
   "execution_count": null,
   "metadata": {},
   "outputs": [],
   "source": [
    "output\n"
   ]
  },
  {
   "cell_type": "code",
   "execution_count": null,
   "metadata": {},
   "outputs": [],
   "source": [
    "#Turn that number and into something readable.\n",
    "#Though here I don't pay any attention to the English language\n",
    "#output['properties.headline'] = output['properties.headline'].map(str) + \" critic\"\n",
    "output['properties.headline'] = output['properties.headline'].astype(str) + np.where(output[\"properties.headline\"]>1, ' critics', ' critic')"
   ]
  },
  {
   "cell_type": "code",
   "execution_count": null,
   "metadata": {},
   "outputs": [],
   "source": [
    "output"
   ]
  },
  {
   "cell_type": "code",
   "execution_count": null,
   "metadata": {},
   "outputs": [],
   "source": [
    "#Add some color (this not the way to do this!! but I'm just showing you the column.\n",
    "#the color #35476E is a hexadecimal code for colors 35 is the amount of Red, 47 Green, 6E Blue \n",
    "# #FFFFFF is white and #000000 is black\n",
    "output['properties.color'] = \"#35476E\"\n",
    "output"
   ]
  },
  {
   "cell_type": "markdown",
   "metadata": {},
   "source": [
    "Here's how you extract the directors from your data frame, to look for more info."
   ]
  },
  {
   "cell_type": "code",
   "execution_count": null,
   "metadata": {},
   "outputs": [],
   "source": [
    "#df.sort_values(by=('director'))\n",
    "d_list = list(df['director'].unique())\n",
    "d_list.sort()\n",
    "d_list"
   ]
  }
 ],
 "metadata": {
  "kernelspec": {
   "display_name": "Python 3 (ipykernel)",
   "language": "python",
   "name": "python3"
  },
  "language_info": {
   "codemirror_mode": {
    "name": "ipython",
    "version": 3
   },
   "file_extension": ".py",
   "mimetype": "text/x-python",
   "name": "python",
   "nbconvert_exporter": "python",
   "pygments_lexer": "ipython3",
   "version": "3.10.0"
  }
 },
 "nbformat": 4,
 "nbformat_minor": 4
}
