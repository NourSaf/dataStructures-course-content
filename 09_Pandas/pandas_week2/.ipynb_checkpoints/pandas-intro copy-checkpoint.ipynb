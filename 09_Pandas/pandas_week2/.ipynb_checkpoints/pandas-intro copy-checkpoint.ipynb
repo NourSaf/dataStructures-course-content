{
 "cells": [
  {
   "cell_type": "markdown",
   "metadata": {},
   "source": [
    "# Welcome to Pandas 🐼🐼🐼\n",
    "\n",
    "Pandas is the python dataframe library, it is like Excel but actually good, in fact it is particularly impressive in many ways.\n",
    "\n",
    "🐼🐼Pandas🐼🐼 is great for cleaning data frames, investigating data (grouping, aggregating), ploting, joining/merging, and prepping for output.\n",
    "\n",
    "It essentially brings a more computational (list/array-like) approach to tables, and allows you to very powerfully iterate through rows and columns.\n",
    "\n",
    "Today we will 🐼🐼🐼investigate/play with a particular data set.\n",
    "\n",
    "To install run this in your command line:🐼🐼🐼\n",
    "\n",
    "`pip install pandas`"
   ]
  },
  {
   "cell_type": "code",
   "execution_count": null,
   "metadata": {},
   "outputs": [],
   "source": [
    "#and then import...\n",
    "import pandas as pd"
   ]
  },
  {
   "cell_type": "markdown",
   "metadata": {},
   "source": [
    "For a little break from movies, let's do songs!\n",
    "\n",
    "This dataset is from Kaggle—Most Streamed Spotify Songs of 2023\n",
    "\n",
    "https://www.kaggle.com/datasets/nelgiriyewithana/top-spotify-songs-2023\n",
    "\n"
   ]
  },
  {
   "cell_type": "code",
   "execution_count": null,
   "metadata": {},
   "outputs": [],
   "source": [
    "#encoding can be tricky with pandas\n",
    "#It's default encoding is UTF-8. However this only opened with mac_roman...\n",
    "df = pd.read_csv(\"spotify-2023.csv\", encoding='mac_roman')"
   ]
  },
  {
   "cell_type": "markdown",
   "metadata": {},
   "source": [
    "## Looking at Rows"
   ]
  },
  {
   "cell_type": "code",
   "execution_count": null,
   "metadata": {},
   "outputs": [],
   "source": [
    "# You can set how many cols and rows it displays\n",
    "pd.set_option('display.max_rows', None)\n",
    "pd.set_option('display.max_columns', 20)\n",
    "df"
   ]
  },
  {
   "cell_type": "code",
   "execution_count": null,
   "metadata": {},
   "outputs": [],
   "source": [
    "#top rows...\n",
    "df.head()"
   ]
  },
  {
   "cell_type": "code",
   "execution_count": null,
   "metadata": {},
   "outputs": [],
   "source": [
    "# top 10\n",
    "df.head(10)"
   ]
  },
  {
   "cell_type": "code",
   "execution_count": null,
   "metadata": {},
   "outputs": [],
   "source": [
    "# rows at the end...\n",
    "df.tail(8)"
   ]
  },
  {
   "cell_type": "code",
   "execution_count": null,
   "metadata": {},
   "outputs": [],
   "source": [
    "# to look for specific ranges! (like loop, kinda)\n",
    "df[20:30]"
   ]
  },
  {
   "cell_type": "markdown",
   "metadata": {},
   "source": [
    "## Specifying columns\n"
   ]
  },
  {
   "cell_type": "code",
   "execution_count": null,
   "metadata": {},
   "outputs": [],
   "source": [
    "# to see all the col names\n",
    "df.columns.values"
   ]
  },
  {
   "cell_type": "code",
   "execution_count": null,
   "metadata": {},
   "outputs": [],
   "source": [
    "# three columns\n",
    "pick_columns = ['track_name', 'artist(s)_name','released_year']\n",
    "df[pick_columns]"
   ]
  },
  {
   "cell_type": "code",
   "execution_count": null,
   "metadata": {},
   "outputs": [],
   "source": [
    "df[pick_columns].head()\n",
    "#or\n",
    "#df['artist(s)_name'].head() #for a single col\n",
    "#df[['track_name', 'artist(s)_name','released_year']].head() #array within array for more than one col"
   ]
  },
  {
   "cell_type": "markdown",
   "metadata": {},
   "source": [
    "## Exploring the data"
   ]
  },
  {
   "cell_type": "code",
   "execution_count": null,
   "metadata": {},
   "outputs": [],
   "source": [
    "df.head()"
   ]
  },
  {
   "cell_type": "markdown",
   "metadata": {},
   "source": [
    "Who has the most songs?"
   ]
  },
  {
   "cell_type": "code",
   "execution_count": null,
   "metadata": {},
   "outputs": [],
   "source": [
    "df['artist(s)_name'].value_counts()"
   ]
  },
  {
   "cell_type": "code",
   "execution_count": null,
   "metadata": {},
   "outputs": [],
   "source": [
    "#most years?\n",
    "df['released_year'].value_counts()"
   ]
  },
  {
   "cell_type": "code",
   "execution_count": null,
   "metadata": {},
   "outputs": [],
   "source": [
    "# describe gets a stats-like breakdown\n",
    "df['danceability_%'].describe()"
   ]
  },
  {
   "cell_type": "code",
   "execution_count": null,
   "metadata": {},
   "outputs": [],
   "source": [
    "# describing a string (what keys are used)\n",
    "df['key'].describe()"
   ]
  },
  {
   "cell_type": "code",
   "execution_count": null,
   "metadata": {},
   "outputs": [],
   "source": [
    "df['energy_%'].describe()"
   ]
  },
  {
   "cell_type": "code",
   "execution_count": null,
   "metadata": {},
   "outputs": [],
   "source": [
    "\n",
    "#ok just describe everything...\n",
    "df.describe()"
   ]
  },
  {
   "cell_type": "markdown",
   "metadata": {},
   "source": [
    "## Developing and Sorting the data\n",
    "\n",
    "Let's make some new columns and clean things up a bit..."
   ]
  },
  {
   "cell_type": "code",
   "execution_count": null,
   "metadata": {},
   "outputs": [],
   "source": [
    "df.head()"
   ]
  },
  {
   "cell_type": "markdown",
   "metadata": {},
   "source": [
    "First, let's make the artists column name a little simpler..."
   ]
  },
  {
   "cell_type": "code",
   "execution_count": null,
   "metadata": {},
   "outputs": [],
   "source": [
    "df = df.rename(columns={'artist(s)_name': 'artists'})"
   ]
  },
  {
   "cell_type": "markdown",
   "metadata": {},
   "source": [
    "Let's make a new column!"
   ]
  },
  {
   "cell_type": "code",
   "execution_count": null,
   "metadata": {},
   "outputs": [],
   "source": [
    "#primary artist (first in the list)\n",
    "df['primary_artist'] = df['artists'].str.split(',').str[0]"
   ]
  },
  {
   "cell_type": "code",
   "execution_count": null,
   "metadata": {},
   "outputs": [],
   "source": [
    "df.head(4)"
   ]
  },
  {
   "cell_type": "code",
   "execution_count": null,
   "metadata": {},
   "outputs": [],
   "source": [
    "#dance to energy ratio!\n",
    "df['de_ratio'] = df['danceability_%']/df['energy_%']"
   ]
  },
  {
   "cell_type": "code",
   "execution_count": null,
   "metadata": {},
   "outputs": [],
   "source": [
    "#it will appear at the end\n",
    "df.head(4)"
   ]
  },
  {
   "cell_type": "markdown",
   "metadata": {},
   "source": [
    "Sorting by our new column, the songs with the highest dance to energy ratio (meaning very dancable but chill)"
   ]
  },
  {
   "cell_type": "code",
   "execution_count": null,
   "metadata": {},
   "outputs": [],
   "source": [
    "df.sort_values(by='de_ratio').head(3)\n",
    "# df[['track_name','artists','de_ratio']].sort_values(by='de_ratio').head(3)"
   ]
  },
  {
   "cell_type": "code",
   "execution_count": null,
   "metadata": {},
   "outputs": [],
   "source": [
    "df[['track_name','artists','de_ratio']].sort_values(by='de_ratio',ascending=False).head(6)"
   ]
  },
  {
   "cell_type": "markdown",
   "metadata": {},
   "source": [
    "What's in the most apple playlists..."
   ]
  },
  {
   "cell_type": "code",
   "execution_count": null,
   "metadata": {},
   "outputs": [],
   "source": [
    "df[['track_name','artists','in_apple_playlists']].sort_values(by='in_apple_playlists',ascending=False).head(20)"
   ]
  },
  {
   "cell_type": "markdown",
   "metadata": {},
   "source": [
    "## Building a complicated column!\n",
    "\n",
    "OK this is a bit out there, especially for an introduction, so just roll with it.\n",
    "\n",
    "I want to have a single date column for release date, and I need to change it into a date.\n",
    "\n",
    "Right now there are three separate columns for a year, month, and day which is not very convenient.\n",
    "\n"
   ]
  },
  {
   "cell_type": "markdown",
   "metadata": {},
   "source": [
    "**checking the data types**"
   ]
  },
  {
   "cell_type": "code",
   "execution_count": null,
   "metadata": {},
   "outputs": [],
   "source": [
    "df['released_year'].dtype"
   ]
  },
  {
   "cell_type": "markdown",
   "metadata": {},
   "source": [
    "**checking for null values**"
   ]
  },
  {
   "cell_type": "code",
   "execution_count": null,
   "metadata": {},
   "outputs": [],
   "source": [
    "df.isnull().values.any()\n",
    "# df[df['key'].isnull()]"
   ]
  },
  {
   "cell_type": "markdown",
   "metadata": {},
   "source": [
    "**going overboard**\n",
    "OK, so lambda functions are very confusing, and I will talk about them later. But basically what this is doing. Is it going through my three columns in joining them together and turning them into strings, so I get a string like this:\n",
    "\n",
    "YEAR-MONTH-DAY"
   ]
  },
  {
   "cell_type": "code",
   "execution_count": null,
   "metadata": {},
   "outputs": [],
   "source": [
    "#new column!\n",
    "df['full_date'] = df[df.columns[3:6]].apply(lambda x: '-'.join(x.astype(str)), axis=1)"
   ]
  },
  {
   "cell_type": "code",
   "execution_count": null,
   "metadata": {},
   "outputs": [],
   "source": [
    "df.head(10)"
   ]
  },
  {
   "cell_type": "code",
   "execution_count": null,
   "metadata": {},
   "outputs": [],
   "source": [
    "#this is still an object, but that's fine\n",
    "df['full_date'].dtype"
   ]
  },
  {
   "cell_type": "code",
   "execution_count": null,
   "metadata": {},
   "outputs": [],
   "source": [
    "#convert to datatime \n",
    "df['full_date'] = pd.to_datetime(df['full_date'].str.strip(), format='%Y-%m-%d')"
   ]
  },
  {
   "cell_type": "code",
   "execution_count": null,
   "metadata": {},
   "outputs": [],
   "source": [
    "df['full_date'].dtype"
   ]
  },
  {
   "cell_type": "code",
   "execution_count": null,
   "metadata": {},
   "outputs": [],
   "source": [
    "#oldest songs!\n",
    "# df[['track_name','artists','full_date']].sort_values(by='full_date',ascending=False).head(15)\n",
    "#newest:\n",
    "df[['track_name','artists','full_date']].sort_values(by='full_date',ascending=False).head(15)"
   ]
  },
  {
   "cell_type": "markdown",
   "metadata": {},
   "source": [
    "## Filtering"
   ]
  },
  {
   "cell_type": "code",
   "execution_count": null,
   "metadata": {},
   "outputs": [],
   "source": [
    "# This will iterate through the rows and give you True/False\n",
    "df['bpm'] > 200"
   ]
  },
  {
   "cell_type": "code",
   "execution_count": null,
   "metadata": {},
   "outputs": [],
   "source": [
    "# And we can aggregate that \n",
    "very_fast = df['bpm'] > 200\n",
    "very_fast.value_counts()"
   ]
  },
  {
   "cell_type": "code",
   "execution_count": null,
   "metadata": {},
   "outputs": [],
   "source": [
    "# Or we can embed this in the df and get the True rows\n",
    "df[df['bpm'] > 200]"
   ]
  },
  {
   "cell_type": "code",
   "execution_count": null,
   "metadata": {},
   "outputs": [],
   "source": [
    "# More interestingly lets find an artist\n",
    "df[df['artists'] == \"Taylor Swift\"]"
   ]
  },
  {
   "cell_type": "code",
   "execution_count": null,
   "metadata": {},
   "outputs": [],
   "source": [
    "#multiple conditions\n",
    "df[(df['artists'] == \"Taylor Swift\") & (df['released_year'] > 2021)]\n",
    "# df[(df['artists'] == \"Taylor Swift\") & (df['released_year'] > 2021)].sort_values(by='streams',ascending=False)"
   ]
  },
  {
   "cell_type": "code",
   "execution_count": null,
   "metadata": {},
   "outputs": [],
   "source": [
    "# Same thing but with variables...\n",
    "taylor = df['artists'] == \"Taylor Swift\"\n",
    "recent = df['released_year'] > 2021\n",
    "df[taylor & recent]\n"
   ]
  },
  {
   "cell_type": "markdown",
   "metadata": {},
   "source": [
    "# Cleaning!\n",
    "\n",
    "Did we notice those annoying characters??\n",
    "\n",
    "Let's find them."
   ]
  },
  {
   "cell_type": "code",
   "execution_count": null,
   "metadata": {},
   "outputs": [],
   "source": [
    "pattern = r'[øΩÔ]'#regex!!!\n",
    "df[df['artists'].str.contains(pattern)]"
   ]
  },
  {
   "cell_type": "markdown",
   "metadata": {},
   "source": [
    "Ok, so we are not going to clean everything but, **Beyoncé!!**\n",
    "\n",
    "Note, we update the column with the equal sign. It is automatically iterating..."
   ]
  },
  {
   "cell_type": "code",
   "execution_count": null,
   "metadata": {},
   "outputs": [],
   "source": [
    "\n",
    "df['artists'] = df['artists'].str.replace('BeyoncÔø','Beyoncé')\n",
    "df['primary_artist'] = df['primary_artist'].str.replace('BeyoncÔø','Beyoncé')\n"
   ]
  },
  {
   "cell_type": "code",
   "execution_count": null,
   "metadata": {},
   "outputs": [],
   "source": [
    "df[df['artists'] == \"Beyoncé\"]\n",
    "#df[df['primary_artist'] == \"Beyoncé\"]\n"
   ]
  },
  {
   "cell_type": "markdown",
   "metadata": {},
   "source": [
    "**Note:** we can use str.contains to find partial matches"
   ]
  },
  {
   "cell_type": "code",
   "execution_count": null,
   "metadata": {},
   "outputs": [],
   "source": [
    "df[df['artists'].str.contains(\"Beyoncé\")]"
   ]
  },
  {
   "cell_type": "markdown",
   "metadata": {},
   "source": [
    "**An issue I discovered**\n",
    "\n",
    "So the next step is to group things, but I'm most interested in grouping by streaming. And when I first tried to do that, I got some real issues because of this row:"
   ]
  },
  {
   "cell_type": "code",
   "execution_count": null,
   "metadata": {},
   "outputs": [],
   "source": [
    "df[df['artists'] == \"Edison Lighthouse\"]\n"
   ]
  },
  {
   "cell_type": "markdown",
   "metadata": {},
   "source": [
    "I want the streams column to be numbers so that I can count them up, but right now they're objects, and there's nothing I can do about that if there is this situtation"
   ]
  },
  {
   "cell_type": "code",
   "execution_count": null,
   "metadata": {},
   "outputs": [],
   "source": [
    "df['streams'].dtypes"
   ]
  },
  {
   "cell_type": "markdown",
   "metadata": {},
   "source": [
    "Let's use Regex to see if there are non-numbers anywhere else in that column."
   ]
  },
  {
   "cell_type": "code",
   "execution_count": null,
   "metadata": {},
   "outputs": [],
   "source": [
    "pattern = r'\\D'\n",
    "df[df['streams'].str.contains(pattern)]"
   ]
  },
  {
   "cell_type": "markdown",
   "metadata": {},
   "source": [
    "Yay! No. just that one. Let's delete it."
   ]
  },
  {
   "cell_type": "code",
   "execution_count": null,
   "metadata": {},
   "outputs": [],
   "source": [
    "i = df[df['artists'] == \"Edison Lighthouse\"].index\n",
    "i"
   ]
  },
  {
   "cell_type": "code",
   "execution_count": null,
   "metadata": {},
   "outputs": [],
   "source": [
    "df=df.drop(i)"
   ]
  },
  {
   "cell_type": "code",
   "execution_count": null,
   "metadata": {},
   "outputs": [],
   "source": [
    "#gone!!!\n",
    "df[df['artists'] == \"Edison Lighthouse\"]"
   ]
  },
  {
   "cell_type": "markdown",
   "metadata": {},
   "source": [
    "# Grouping\n"
   ]
  },
  {
   "cell_type": "code",
   "execution_count": null,
   "metadata": {},
   "outputs": [],
   "source": [
    "df[['artists','streams']].groupby('artists').sum()"
   ]
  },
  {
   "cell_type": "markdown",
   "metadata": {},
   "source": [
    "Yay! I mean, um what is up with Adele!! Did she really have trillions x trillions of streams?\n",
    "\n",
    "No, it is not adding numbers yet. We need to convert all of our streaming values to integers."
   ]
  },
  {
   "cell_type": "code",
   "execution_count": null,
   "metadata": {},
   "outputs": [],
   "source": [
    "df['streams'] = df['streams'].astype(int)"
   ]
  },
  {
   "cell_type": "code",
   "execution_count": null,
   "metadata": {},
   "outputs": [],
   "source": [
    "df[['artists','streams']].groupby('artists').sum()"
   ]
  },
  {
   "cell_type": "markdown",
   "metadata": {},
   "source": [
    "Yay! Better. Let's use that.\n",
    "\n",
    "**Note: we are making an entirely new data frame out of the group so we can use this**"
   ]
  },
  {
   "cell_type": "code",
   "execution_count": null,
   "metadata": {},
   "outputs": [],
   "source": [
    "df_group = df[['artists','streams']].groupby('artists').sum().reset_index()\n",
    "df_group"
   ]
  },
  {
   "cell_type": "code",
   "execution_count": null,
   "metadata": {},
   "outputs": [],
   "source": [
    "df_group.sort_values(by='streams',ascending=False).head(15)"
   ]
  },
  {
   "cell_type": "code",
   "execution_count": null,
   "metadata": {},
   "outputs": [],
   "source": [
    "#make another dataframe just of the top 20!!\n",
    "#to plot this\n",
    "forplot = df_group.sort_values(by='streams',ascending=False).head(20)"
   ]
  },
  {
   "cell_type": "code",
   "execution_count": null,
   "metadata": {},
   "outputs": [],
   "source": [
    "#if you haven't!\n",
    "#!pip install matplotlib"
   ]
  },
  {
   "cell_type": "code",
   "execution_count": null,
   "metadata": {},
   "outputs": [],
   "source": [
    "forplot.sort_values(by='streams').plot(\n",
    "        x='artists',\n",
    "        y='streams',\n",
    "        kind='barh'\n",
    "    )"
   ]
  },
  {
   "cell_type": "code",
   "execution_count": null,
   "metadata": {},
   "outputs": [],
   "source": []
  }
 ],
 "metadata": {
  "kernelspec": {
   "display_name": "Python 3 (ipykernel)",
   "language": "python",
   "name": "python3"
  },
  "language_info": {
   "codemirror_mode": {
    "name": "ipython",
    "version": 3
   },
   "file_extension": ".py",
   "mimetype": "text/x-python",
   "name": "python",
   "nbconvert_exporter": "python",
   "pygments_lexer": "ipython3",
   "version": "3.11.6"
  }
 },
 "nbformat": 4,
 "nbformat_minor": 4
}
