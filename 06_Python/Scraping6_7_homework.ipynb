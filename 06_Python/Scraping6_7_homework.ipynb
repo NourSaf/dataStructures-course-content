{
 "cells": [
  {
   "cell_type": "markdown",
   "metadata": {},
   "source": [
    "## Homework 6.0 and 7.0: Scraping\n",
    "\n",
    "**Part One:** scraping the dialogue from one act in Shakespeare, and a table of Supreme Court decisions.\n",
    "\n",
    "**Part Two:** scrape listings of short films on the Tribeca film festival's website—ending with a multiple page scrape across the site.\n",
    "\n",
    "**Extra-Credit:** scraping a real Shakespeare HTML example from the Folger library.\n",
    "\n",
    "Please follow the instructions and do the best you can. With the exception of the first cell that imports the request and the beautiful soup library, I have not pre-written any code for you. Do not be afraid--you should certainly look at the beautiful soup tutorial for examples. The Beautiful Soup documentation could help (though it's not super clear), and any other Python resource (such a Stack overflow/ChatGTP) might help, though from a coding standpoint most of these question are pretty straightforward. \n",
    "\n",
    "If you can, you might want to get started on Tribecca for this week, but what is due next week is part one."
   ]
  },
  {
   "cell_type": "code",
   "execution_count": 1,
   "metadata": {},
   "outputs": [],
   "source": [
    "import requests\n",
    "from bs4 import BeautifulSoup"
   ]
  },
  {
   "cell_type": "markdown",
   "metadata": {},
   "source": [
    "## Shakespeare (warm-up)\n",
    "I've posted some relatively simple HTML of the first act of William Shakespeare's The Tempest here: http://floatingmedia.com/columbia/tempest.html please use that URL to download the HTML and put it through Beautiful Soup. (It also may be very helpful for you to go to that page in chrome and inspect elements why you do this.) \n",
    "**Please note: there are 2 scenes in Act 1**\n",
    "\n"
   ]
  },
  {
   "cell_type": "markdown",
   "metadata": {},
   "source": [
    "In the cells below you should you make two lines--a variable that requests and reads the HTML from the URL (http://floatingmedia.com/columbia/tempest.html), and a second variable that passes the raw HTML into Beautiful Soup. You will use that beautiful soup variable to search the HTML."
   ]
  },
  {
   "cell_type": "code",
   "execution_count": null,
   "metadata": {},
   "outputs": [],
   "source": []
  },
  {
   "cell_type": "code",
   "execution_count": null,
   "metadata": {},
   "outputs": [],
   "source": []
  },
  {
   "cell_type": "markdown",
   "metadata": {},
   "source": [
    "Get the title of the play:\n",
    "\n"
   ]
  },
  {
   "cell_type": "code",
   "execution_count": null,
   "metadata": {},
   "outputs": [],
   "source": []
  },
  {
   "cell_type": "markdown",
   "metadata": {},
   "source": [
    "Get the HTML that contains the setting of Act One Scene 1:"
   ]
  },
  {
   "cell_type": "code",
   "execution_count": null,
   "metadata": {},
   "outputs": [],
   "source": []
  },
  {
   "cell_type": "raw",
   "metadata": {},
   "source": [
    "Get the setting of Act One Scene 1 (without HTML tags):"
   ]
  },
  {
   "cell_type": "code",
   "execution_count": null,
   "metadata": {},
   "outputs": [],
   "source": []
  },
  {
   "cell_type": "markdown",
   "metadata": {},
   "source": [
    "Get the setting of scene 2"
   ]
  },
  {
   "cell_type": "code",
   "execution_count": null,
   "metadata": {},
   "outputs": [],
   "source": []
  },
  {
   "cell_type": "markdown",
   "metadata": {},
   "source": [
    "Get the name of the first character in Scene 1"
   ]
  },
  {
   "cell_type": "code",
   "execution_count": null,
   "metadata": {},
   "outputs": [],
   "source": []
  },
  {
   "cell_type": "markdown",
   "metadata": {},
   "source": [
    "Get a \"list\" of all of characters in Scene 1 (repeats are fine, you need a loop here)"
   ]
  },
  {
   "cell_type": "code",
   "execution_count": null,
   "metadata": {},
   "outputs": [],
   "source": []
  },
  {
   "cell_type": "markdown",
   "metadata": {},
   "source": [
    "**Bonus:** write a script that takes all the duplicates out of the list. (This is a python thing, not a beautiful soup thing.)"
   ]
  },
  {
   "cell_type": "code",
   "execution_count": null,
   "metadata": {},
   "outputs": [],
   "source": []
  },
  {
   "cell_type": "markdown",
   "metadata": {},
   "source": [
    "Display every stage direction in _scene 2_\n",
    "(Be careful there are actually over 20 stage direction, see if you can get all of them)"
   ]
  },
  {
   "cell_type": "code",
   "execution_count": null,
   "metadata": {},
   "outputs": [],
   "source": []
  },
  {
   "cell_type": "markdown",
   "metadata": {},
   "source": [
    "Get the HTML containing Miranda's first speech in Scene 2"
   ]
  },
  {
   "cell_type": "code",
   "execution_count": null,
   "metadata": {},
   "outputs": [],
   "source": []
  },
  {
   "cell_type": "markdown",
   "metadata": {},
   "source": [
    "Now display those **same lines without the speaker's name, and no HTML.**\n",
    "\n",
    "This is a bit tricky, try to get as close to this result as you can. (Note: I didn't get the numbers out of there, but it's fine if you want to get them out too):\n",
    "\n",
    "`If by your art, my dearest father, you have\n",
    " \n",
    "85\n",
    "Put the wild waters in this roar, allay them.\n",
    "\n",
    "The sky, it seems, would pour down stinking pitch,\n",
    "\n",
    "But that the sea, mounting to the welkin's cheek,\n",
    "\n",
    "Dashes the fire out. O, I have suffered\n",
    "\n",
    "With those that I saw suffer: a brave vessel,\n",
    " \n",
    "90\n",
    "Who had, no doubt, some noble creature in her,\n",
    "\n",
    "Dash'd all to pieces. O, the cry did knock\n",
    "\n",
    "Against my very heart. Poor souls, they perish'd.\n",
    "\n",
    "Had I been any god of power, I would\n",
    "\n",
    "Have sunk the sea within the earth or ere\n",
    " \n",
    "95\n",
    "It should the good ship so have swallow'd and\n",
    "\n",
    "The fraughting souls within her.`"
   ]
  },
  {
   "cell_type": "code",
   "execution_count": null,
   "metadata": {},
   "outputs": [],
   "source": []
  },
  {
   "cell_type": "code",
   "execution_count": null,
   "metadata": {},
   "outputs": [],
   "source": []
  },
  {
   "cell_type": "markdown",
   "metadata": {},
   "source": [
    "Get the HTML containing the speech after Miranda's"
   ]
  },
  {
   "cell_type": "code",
   "execution_count": null,
   "metadata": {},
   "outputs": [],
   "source": []
  },
  {
   "cell_type": "markdown",
   "metadata": {
    "collapsed": true,
    "jupyter": {
     "outputs_hidden": true
    }
   },
   "source": [
    "All done!"
   ]
  },
  {
   "cell_type": "code",
   "execution_count": null,
   "metadata": {},
   "outputs": [],
   "source": []
  },
  {
   "cell_type": "markdown",
   "metadata": {},
   "source": [
    "## Supreme Court Decisions 2023\n",
    "Now it's time to scrape from something more real. The Supreme Court posts its decisions in a format that is not immediately data friendly. They have a simple HTML table with some information about the decision, including a link to a PDF that contains the written decision. We won't mess with those PDFs this week, but we do want to transform their tables into something useful to us. \n",
    "\n",
    "We will be scraping this page: \n",
    "https://www.supremecourt.gov/opinions/slipopinion/23\n",
    "\n",
    "*Note:* While you won't see all of the tables for all the months when you go to the page, they are all there in the HTML that you will download and in the HTML source you view (which is the same thing). Definitely do a view source, and study the structure of the HTML tables before you start coding.\n",
    "\n",
    "You eventually want to end up with a list of lists (rows and then columns) for every decision from the 2023. Follow the process, and see how far you get.\n"
   ]
  },
  {
   "cell_type": "markdown",
   "metadata": {},
   "source": [
    "Write your lines that use requests to get the page, and a second variable that passes the raw HTML into Beautiful Soup for parsing. Include a third line that prints the HTML in the prettify() way."
   ]
  },
  {
   "cell_type": "code",
   "execution_count": null,
   "metadata": {},
   "outputs": [],
   "source": []
  },
  {
   "cell_type": "markdown",
   "metadata": {},
   "source": [
    "Isolate the HTML row with the first row of information for the case 303 Creative LLC v. Elenis"
   ]
  },
  {
   "cell_type": "code",
   "execution_count": null,
   "metadata": {},
   "outputs": [],
   "source": []
  },
  {
   "cell_type": "markdown",
   "metadata": {},
   "source": [
    "Print out each cell of information from that first row. Your output should look like this:\n",
    "\n",
    "\n",
    "```\n",
    "60\n",
    "8/16/24\n",
    "24A78\n",
    "Department of Education v. Louisiana\n",
    "PC\n",
    "603/1\n",
    "```"
   ]
  },
  {
   "cell_type": "code",
   "execution_count": null,
   "metadata": {},
   "outputs": [],
   "source": []
  },
  {
   "cell_type": "markdown",
   "metadata": {},
   "source": [
    "But wait, there is more information hidden inside the tags! Find it and print it out like this (still just for this first row):\n",
    "```\n",
    "/opinions/23pdf/24a78_d18f.pdf\n",
    " ```"
   ]
  },
  {
   "cell_type": "code",
   "execution_count": null,
   "metadata": {},
   "outputs": [],
   "source": []
  },
  {
   "cell_type": "markdown",
   "metadata": {},
   "source": [
    "And!! Even more important buried within those links is a description of the case itself:\n",
    "\n",
    "```\n",
    "The Government's applications for a partial stay of the preliminary injunctions issued by District Courts in Louisiana and Kentucky against the enforcement of the Department of Education's new rule implementing Title IX of the Education Amendments of 1972 are denied, as the Government has not provided the Court a sufficient basis to disturb the lower courts' interim conclusions.\n",
    "```"
   ]
  },
  {
   "cell_type": "code",
   "execution_count": null,
   "metadata": {},
   "outputs": [],
   "source": []
  },
  {
   "cell_type": "markdown",
   "metadata": {},
   "source": [
    "Okay, time to make this useful. Take the information you printed in the last three cells, and combine them all into a list. Output the list, it should look like this:\n",
    "```\n",
    "['60',\n",
    " '8/16/24',\n",
    " '24A78',\n",
    " 'Department of Education v. Louisiana',\n",
    " 'PC',\n",
    " '603/1',\n",
    " '/opinions/23pdf/24a78_d18f.pdf',\n",
    " \"The Government's applications for a partial stay of the preliminary injunctions issued by District Courts in Louisiana and Kentucky against the enforcement of the Department of Education's new rule implementing Title IX of the Education Amendments of 1972 are denied, as the Government has not provided the Court a sufficient basis to disturb the lower courts' interim conclusions.\"]\n",
    " ```\n",
    " "
   ]
  },
  {
   "cell_type": "code",
   "execution_count": null,
   "metadata": {},
   "outputs": [],
   "source": []
  },
  {
   "cell_type": "markdown",
   "metadata": {},
   "source": [
    "Now, run the exact same code, but for the first row in the second \"hidden\" table. The output should look like this:\n",
    "```\n",
    "['50',\n",
    " '6/27/24',\n",
    " '22-859',\n",
    " None,\n",
    " 'R',\n",
    " '603/1',\n",
    " '/opinions/23pdf/22-859new_kjfm.pdf',\n",
    " 'When the Securities and Exchange Commission seeks civil penalties against a defendant for securities fraud, the Seventh Amendment entitles the defendant to a jury trial.']\n",
    "```\n"
   ]
  },
  {
   "cell_type": "code",
   "execution_count": null,
   "metadata": {},
   "outputs": [],
   "source": []
  },
  {
   "cell_type": "markdown",
   "metadata": {},
   "source": [
    "Great! Finally, you want to go through all of the rows in both tables, and get a list of lists with the information for every case in that row. \n",
    "\n",
    "Note, that the code here should be similar to the code above, but you will need to loop through all of the rows in both tables, and collect the info for each row with a new list that will then be appended to a larger list each to time the loop finishes (before looping back to the next row).\n",
    "\n",
    "Your output should look like this:\n",
    "\n",
    "```\n",
    "[['60',\n",
    "  '8/16/24',\n",
    "  '24A78',\n",
    "  'Department of Education v. Louisiana',\n",
    "  'PC',\n",
    "  '603/1',\n",
    "  <td><a href=\"/opinions/23pdf/24a78_d18f.pdf\" target=\"_blank\" title=\"The Government's applications for a partial stay of the preliminary injunctions issued by District Courts in Louisiana and Kentucky against the enforcement of the Department of Education's new rule implementing Title IX of the Education Amendments of 1972 are denied, as the Government has not provided the Court a sufficient basis to disturb the lower courts' interim conclusions.\">Department of Education v. Louisiana</a></td>],\n",
    " ['59',\n",
    "  '7/01/24',\n",
    "  '22-1008',\n",
    "  None,\n",
    "  'AB',\n",
    "  '603/1',\n",
    "  <td><a href=\"/opinions/23pdf/22-1008new_8n5a.pdf\" target=\"_blank\" title=\"An Administrative Procedures Act claim does not accrue for purposes of 28 U. S. C. §2401(a)—the default 6-year statute of limitations applicable to suits against the United States—until the plaintiff is injured by final agency action.\">Corner Post, Inc. v. Board of Governors</a><br/><br/>\n",
    "  <b>Revisions</b>: <a href=\"/opinions/23pdf/22-1008_diff_fdhk.pdf\" target=\"_blank\">7/09/24</a><br/>\n",
    "  </td>],\n",
    " ['58',\n",
    "  '7/01/24',\n",
    "  '22-277',\n",
    "  None,\n",
    "  'EK',\n",
    "  '603/1',\n",
    "  <td><a href=\"/opinions/23pdf/22-277new_8mjp.pdf\" target=\"_blank\" title=\"The judgments are vacated, and the cases are remanded, because neither the Eleventh Circuit nor the Fifth Circuit conducted a proper analysis of the facial First Amendment challenges to the Florida and Texas laws regulating large internet platforms.\">Moody v. NetChoice, LLC</a><br/><br/>\n",
    "  <b>Revisions</b>: <a href=\"/opinions/23pdf/22-277diff_3e04.pdf\" target=\"_blank\">7/11/24</a><br/>\n",
    "  </td>],\n",
    " ['57',\n",
    "  '7/01/24',\n",
    "  '23-939',\n",
    "  'Trump v. United States',\n",
    "  'R',\n",
    "  '603/1',\n",
    "  <td><a href=\"/opinions/23pdf/23-939_e2pg.pdf\" target=\"_blank\" title=\"The nature of Presidential power entitles a former President to absolute immunity from criminal prosecution for actions within his conclusive and preclusive constitutional authority; he is also entitled to at least presumptive immunity from prosecution for all his official acts; there is no immunity for unofficial acts.\">Trump v. United States</a></td>],\n",
    " ['56',\n",
    "  '6/28/24',\n",
    "  '23-175',\n",
    "  'City of Grants Pass v. Johnson',\n",
    "  'NG',\n",
    "  '603/1',\n",
    "  <td><a href=\"/opinions/23pdf/23-175_19m2.pdf\" target=\"_blank\" title=\"The enforcement of generally applicable laws regulating camping on public property does not constitute “cruel and unusual punishment” prohibited by the Eighth Amendment.\">City of Grants Pass v. Johnson</a></td>],\n",
    " ['55',\n",
    "  '6/28/24',\n",
    "  '23-5572',\n",
    "  'Fischer v. United States',\n",
    "  'R',\n",
    "  '603/1',\n",
    "  <td><a href=\"/opinions/23pdf/23-5572_l6hn.pdf\" target=\"_blank\" title=\"To prove a violation of 18 U. S. C. §1512(c)(2)—a provision of the Sarbanes-Oxley Act—the Government must establish that the defendant impaired the availability or integrity for use in an official proceeding of records, documents, objects, or other things used in an official proceeding, or attempted to do so.\">Fischer v. United States</a></td>],\n",
    " ['54',\n",
    "  '6/28/24',\n",
    "  '22-451',\n",
    "  'Loper Bright Enterprises v. Raimondo',\n",
    "  'R',\n",
    "  '603/1',\n",
    "  <td><a href=\"/opinions/23pdf/22-451_7m58.pdf\" target=\"_blank\" title=\"The Administrative Procedure Act requires courts to exercise their independent judgment in deciding whether an agency has acted within its statutory authority, and courts may not defer to an agency interpretation of the law simply because a statute is ambiguous; Chevron U. S. A. Inc. v. Natural Resources Defense Council, Inc., 467 U. S. 837, is overruled.\">Loper Bright Enterprises v. Raimondo</a></td>],\n",
    " ['53',\n",
    "  '6/27/24',\n",
    "  '23-726',\n",
    "  'Moyle v. United States',\n",
    "  'PC',\n",
    "  '603/1',\n",
    "  <td><a href=\"/opinions/23pdf/23-726_6jgm.pdf\" target=\"_blank\" title=\"Certiorari dismissed as improvidently granted.\">Moyle v. United States</a></td>],\n",
    " ['52',\n",
    "  '6/27/24',\n",
    "  '23A349',\n",
    "  None,\n",
    "  'NG',\n",
    "  '603/1',\n",
    "  <td><a href=\"/opinions/23pdf/23a349new_h3ci.pdf\" target=\"_blank\" title=\"The enforcement of the Environmental Protection Agency’s Federal Implementation Plan against the applicant States—whose own State Implementation Plans were determined by EPA to be inadequate because they failed to adequately address certain obligations under the Good Neighbor Provision—shall be stayed pending disposition of the applicants’ petition for review in the D. C. Circuit and any petition for writ of certiorari, timely sought.\">Ohio v. Environmental Protection Agency</a><br/><br/>\n",
    "  <b>Revisions</b>: <a href=\"/opinions/23pdf/23a349diff_lkhn.pdf\" target=\"_blank\">6/27/24</a><br/>\n",
    "  </td>],\n",
    "\n",
    "... truncated because so long! you will have 51-11 here\n",
    "\n",
    " ['10',\n",
    "  '3/19/24',\n",
    "  '22-666',\n",
    "  'Wilkinson v. Garland',\n",
    "  'SS',\n",
    "  '601 U.S. 209',\n",
    "  <td><a href=\"/opinions/23pdf/601us1r10_k5fm.pdf\" target=\"_blank\" title=\"The Immigration Judge’s discretionary decision that Mr. Wilkinson failed to satisfy 8 U. S. C. §1229b(b)(1)(D)’s “exceptional and extremely unusual” hardship standard for determining eligibility for cancellation of removal is a mixed question of law and fact, reviewable under §1252(a)(2)(D)’s jurisdiction restoring exception for “questions of law”; the Third Circuit’s holding that the IJ’s decision was unreviewable under §1252(a)(2)(B)(i) was in error.\">Wilkinson v. Garland</a></td>],\n",
    " ['9',\n",
    "  '3/15/24',\n",
    "  '22-324',\n",
    "  'O’Connor-Ratcliff v. Garnier',\n",
    "  'PC',\n",
    "  '601 U.S. 205',\n",
    "  <td><a href=\"/opinions/23pdf/601us1r09_hgci.pdf\" target=\"_blank\" title=\"The Ninth Circuit’s judgment—that 42 U. S. C. §1983’s state-action requirement was satisfied because of the “close nexus” between petitioners’ social media pages and their positions as public officials—is vacated, and the case is remanded in light of Lindke v. Freed, 601 U. S. ___.\">O’Connor-Ratcliff v. Garnier</a></td>],\n",
    " ['8',\n",
    "  '3/15/24',\n",
    "  '22-611',\n",
    "  'Lindke v. Freed',\n",
    "  'AB',\n",
    "  '601 U.S. 187',\n",
    "  <td><a href=\"/opinions/23pdf/601us1r08_a8cf.pdf\" target=\"_blank\" title=\"A public official who prevents someone from commenting on the official’s social-media page engages in state action under 42  U. S. C. §1983 only if the official both (1) possessed actual authority to speak on the State’s behalf on a particular matter, and (2) purported to exercise that authority when speaking in the relevant social-media posts.\">Lindke v. Freed</a></td>],\n",
    " ['7',\n",
    "  '3/15/24',\n",
    "  '22-340',\n",
    "  'Pulsifer v. United States',\n",
    "  'EK',\n",
    "  '601 U.S. 124',\n",
    "  <td><a href=\"/opinions/23pdf/601us1r07_19m1.pdf\" target=\"_blank\" title=\"A criminal defendant facing a mandatory minimum sentence is eligible for safety-valve relief under 18 U. S. C. §3553(f)(1) only if the defendant satisfies each of the provision’s three conditions.\">Pulsifer v. United States</a></td>],\n",
    " ['6',\n",
    "  '3/04/24',\n",
    "  '23-719',\n",
    "  'Trump v. Anderson',\n",
    "  'PC',\n",
    "  '601 U.S. 100',\n",
    "  <td><a href=\"/opinions/23pdf/601us1r06_a86c.pdf\" target=\"_blank\" title=\"Because the Constitution makes Congress, rather than the States, responsible for enforcing Section 3 of the Fourteenth Amendment against federal officeholders and candidates, the Colorado Supreme Court erred in ordering former President Trump excluded from the 2024 Presidential primary ballot.\">Trump v. Anderson</a></td>],\n",
    " ['5',\n",
    "  '2/21/24',\n",
    "  '22-721',\n",
    "  'McElrath v. Georgia',\n",
    "  'KJ',\n",
    "  '601 U.S. 87',\n",
    "  <td><a href=\"/opinions/23pdf/601us1r05_1qm2.pdf\" target=\"_blank\" title=\"The jury’s verdict that the defendant was not guilty by reason of insanity of malice murder constituted an acquittal for double jeopardy purposes notwithstanding any inconsistency with the jury’s other verdicts.\">McElrath v. Georgia</a></td>],\n",
    " ['4',\n",
    "  '2/21/24',\n",
    "  '22-500',\n",
    "  'Great Lakes Ins. SE v. Raiders Retreat Realty Co.',\n",
    "  'BK',\n",
    "  '601 U.S. 65',\n",
    "  <td><a href=\"/opinions/23pdf/601us1r04_4g15.pdf\" target=\"_blank\" title=\"Choice-of-law provisions in maritime contracts are presumptively enforceable under federal maritime law, with narrow exceptions not applicable in this case.\">Great Lakes Ins. SE v. Raiders Retreat Realty Co.</a></td>],\n",
    " ['3',\n",
    "  '2/08/24',\n",
    "  '22-846',\n",
    "  'Department of Agriculture Rural Development Rural Housing Service v. Kirtz',\n",
    "  'NG',\n",
    "  '601 U.S. 42',\n",
    "  <td><a href=\"/opinions/23pdf/601us1r03_4gcj.pdf\" target=\"_blank\" title=\"A consumer may sue a federal agency under 15 U. S. C. §§1681n and 1681o for defying the terms of the Fair Credit Reporting Act.\">Department of Agriculture Rural Development Rural Housing Service v. Kirtz</a></td>],\n",
    " ['2',\n",
    "  '2/08/24',\n",
    "  '22-660',\n",
    "  'Murray v. UBS Securities, LLC',\n",
    "  'SS',\n",
    "  '601 U.S. 23',\n",
    "  <td><a href=\"/opinions/23pdf/601us1r02_c07d.pdf\" target=\"_blank\" title=\"A whistleblower seeking to invoke the protections of the Sarbanes-Oxley Act—18 U. S. C. §1514A(a)—must prove that their protected activity was a contributing factor in the employer’s unfavorable personnel action, but need not prove that the employer acted with “retaliatory intent.”\">Murray v. UBS Securities, LLC</a></td>],\n",
    " ['1',\n",
    "  '12/05/23',\n",
    "  '22-429',\n",
    "  'Acheson Hotels, LLC v. Laufer',\n",
    "  'AB',\n",
    "  '601 U.S. 1',\n",
    "  <td><a href=\"/opinions/23pdf/601us1r01_q86b.pdf\" target=\"_blank\" title=\"Because Laufer voluntarily dismissed her pending suits under the Americans with Disabilities Act of 1990, Laufer’s case against Acheson is moot.\">Acheson Hotels, LLC v. Laufer</a></td>]]\n",
    "\n",
    "\n",
    "```"
   ]
  },
  {
   "cell_type": "code",
   "execution_count": null,
   "metadata": {},
   "outputs": [],
   "source": []
  },
  {
   "cell_type": "markdown",
   "metadata": {},
   "source": [
    "## Tribeca Film Festival Short Films!!\n",
    "\n",
    "Ok, so we are now going to scrape a live site.\n",
    "\n",
    "**VERY IMPORTANT!!! use requests as few times as possible**. Do not run your requests over and over and over. Be careful about running all cells, once you run the request to download the source code of the page, it will be saved in a variable. Just use that variable. **Because this is a live site, there is always a chance that if you run your request too many times (i.e. ping their site again and again) they will block your IP address.**\n",
    "\n",
    "Please take a look at the page that we will be scraping:\n",
    "\n",
    "https://tribecafilm.com/festival/film/shorts\n",
    "\n",
    "While there is a lot going on on this page, do you note that the HTML is structured very consistently, and the classes inside the tag are extremely helpful! Look at the source code, and use inspect to look for good patterns to search for.\n",
    "\n",
    "Then begin by using requests to download the HTML and parse it through Beautiful Soup.\n",
    "\n",
    "\n"
   ]
  },
  {
   "cell_type": "code",
   "execution_count": null,
   "metadata": {},
   "outputs": [],
   "source": []
  },
  {
   "cell_type": "code",
   "execution_count": null,
   "metadata": {},
   "outputs": [],
   "source": []
  },
  {
   "cell_type": "markdown",
   "metadata": {},
   "source": [
    "This is the trickiest part. You want to find a constistent container for all and/or each of the films. \n",
    "\n",
    "Do a find_all, and you should have a list with the html for each film. \n",
    "\n",
    "The [0] element will contain all of the html and text for the first movie.\n",
    "\n",
    "Print the html for all of Alarms in the cell below."
   ]
  },
  {
   "cell_type": "code",
   "execution_count": null,
   "metadata": {},
   "outputs": [],
   "source": []
  },
  {
   "cell_type": "code",
   "execution_count": null,
   "metadata": {},
   "outputs": [],
   "source": []
  },
  {
   "cell_type": "markdown",
   "metadata": {},
   "source": [
    "Now, use that html to get the title of the first film:\n",
    "\n",
    "```\n",
    "Alarms\n",
    "\n",
    "```"
   ]
  },
  {
   "cell_type": "code",
   "execution_count": null,
   "metadata": {},
   "outputs": [],
   "source": []
  },
  {
   "cell_type": "markdown",
   "metadata": {},
   "source": [
    "Then get the link to that movie's details page:\n",
    "\n",
    "```\n",
    "/films/alarms-2024\n",
    "```"
   ]
  },
  {
   "cell_type": "code",
   "execution_count": null,
   "metadata": {},
   "outputs": [],
   "source": []
  },
  {
   "cell_type": "markdown",
   "metadata": {},
   "source": [
    "Finally, extract the description for the film:\n",
    "\n",
    "```\n",
    "Pierre is diligently overseeing the completion of the tumultuous construction site under his responsibility, ensuring that prog...\n",
    "```"
   ]
  },
  {
   "cell_type": "code",
   "execution_count": null,
   "metadata": {
    "scrolled": true
   },
   "outputs": [],
   "source": []
  },
  {
   "cell_type": "markdown",
   "metadata": {},
   "source": [
    "Take the info you extracted above and put it into list format, like this:\n",
    "\n",
    "```\n",
    "['Alarms',\n",
    " '/films/alarms-2024',\n",
    " 'Pierre is diligently overseeing the completion of the tumultuous construction site under his responsibility, ensuring that prog...']\n",
    "\n",
    "```"
   ]
  },
  {
   "cell_type": "code",
   "execution_count": null,
   "metadata": {},
   "outputs": [],
   "source": []
  },
  {
   "cell_type": "markdown",
   "metadata": {},
   "source": [
    "Now do the same things to get the same info the last movie in identical list format:\n",
    "\n",
    "```\n",
    "['The White Rabbit',\n",
    " '/films/white-rabbit-2024',\n",
    " 'Rachel and Travis move to New Jersey for peace but end up beside a mobster. After a murder, Rachel takes drastic steps to safeg...']\n",
    "\n",
    "\n",
    "```"
   ]
  },
  {
   "cell_type": "code",
   "execution_count": null,
   "metadata": {},
   "outputs": [],
   "source": []
  },
  {
   "cell_type": "code",
   "execution_count": null,
   "metadata": {},
   "outputs": [],
   "source": []
  },
  {
   "cell_type": "markdown",
   "metadata": {},
   "source": [
    "Now (way more challenging) loop through every single film on the page and print out the same info, with a \"-----------------\" separator:\n",
    "\n",
    "```\n",
    "Alarms\n",
    "/films/alarms-2024\n",
    "Pierre is diligently overseeing the completion of the tumultuous construction site under his responsibility, ensuring that prog...\n",
    "All Things Metal\n",
    "/films/all-things-metal-2024\n",
    "Three brothers run an iron forge together where they smith and also make heavy metal music. Their creative impulses come from a...\n",
    "À toi les oreilles\n",
    "/films/a-toi-les-oreilles-2024\n",
    "While the townsfolk are celebrating the village's anniversary parade, Étienne tries the impossible: to show them how beautiful ...\n",
    "¡Beso de lengua!\n",
    "/films/beso-de-lengua-2024\n",
    "Itzcóatl and Moisés are on their first date. After a couple of hours of getting to know each other, they “play” an unusual and ...\n",
    "\n",
    "....THE LIST WILL BE LONG!! I'M TRUNCATING ....\n",
    "\n",
    "Some Kind of Paradise\n",
    "/films/some-kind-of-paradise-2024\n",
    "When a reclusive barman connects with a charismatic Hollywood actor via Grindr, the intensity of their connection pushes him to...\n",
    "Swollen\n",
    "/films/swollen-2024\n",
    "Roxy and Lily survive the night after botched plastic surgery.\n",
    "Veo Veo A Family\n",
    "/films/veo-veo-a-family-2024\n",
    "A Latina nanny and a Manhattan mother challenge the definition of family with a profound bond; one that is tested by a reminder...\n",
    "The White Rabbit\n",
    "/films/white-rabbit-2024\n",
    "Rachel and Travis move to New Jersey for peace but end up beside a mobster. After a murder, Rachel takes drastic steps to safeg...\n",
    "```"
   ]
  },
  {
   "cell_type": "code",
   "execution_count": null,
   "metadata": {},
   "outputs": [],
   "source": []
  },
  {
   "cell_type": "markdown",
   "metadata": {},
   "source": [
    "Finally, get this in beautiful list of lists format (array or arrays)! Like so (also truncated):\n",
    "```\n",
    "[['Alarms',\n",
    "  '/films/alarms-2024',\n",
    "  'Pierre is diligently overseeing the completion of the tumultuous construction site under his responsibility, ensuring that prog...'],\n",
    " ['All Things Metal',\n",
    "  '/films/all-things-metal-2024',\n",
    "  'Three brothers run an iron forge together where they smith and also make heavy metal music. Their creative impulses come from a...'],\n",
    " ['À toi les oreilles',\n",
    "  '/films/a-toi-les-oreilles-2024',\n",
    "  \"While the townsfolk are celebrating the village's anniversary parade, Étienne tries the impossible: to show them how beautiful ...\"],\n",
    " ['¡Beso de lengua!',\n",
    "  '/films/beso-de-lengua-2024',\n",
    "  'Itzcóatl and Moisés are on their first date. After a couple of hours of getting to know each other, they “play” an unusual and ...'],\n",
    "\n",
    "... and so forth to ...\n",
    "\n",
    "['Veo Veo A Family',\n",
    "  '/films/veo-veo-a-family-2024',\n",
    "  'A Latina nanny and a Manhattan mother challenge the definition of family with a profound bond; one that is tested by a reminder...'],\n",
    " ['The White Rabbit',\n",
    "  '/films/white-rabbit-2024',\n",
    "  'Rachel and Travis move to New Jersey for peace but end up beside a mobster. After a murder, Rachel takes drastic steps to safeg...']]"
   ]
  },
  {
   "cell_type": "code",
   "execution_count": null,
   "metadata": {},
   "outputs": [],
   "source": []
  },
  {
   "cell_type": "markdown",
   "metadata": {},
   "source": [
    "Now go to the \"View Details\" page for the last movie, White Rabbit.\n",
    "\n",
    "Download and parse that page through Beautiful Soup.\n",
    "\n"
   ]
  },
  {
   "cell_type": "code",
   "execution_count": null,
   "metadata": {},
   "outputs": [],
   "source": []
  },
  {
   "cell_type": "code",
   "execution_count": null,
   "metadata": {},
   "outputs": [],
   "source": []
  },
  {
   "cell_type": "markdown",
   "metadata": {},
   "source": [
    "Get the film info:\n",
    "\n",
    "```\n",
    "'\\nShort\\n  | United States\\n  | 12 MINUTES\\n  | English \\n'\n",
    "```"
   ]
  },
  {
   "cell_type": "code",
   "execution_count": null,
   "metadata": {},
   "outputs": [],
   "source": []
  },
  {
   "cell_type": "markdown",
   "metadata": {},
   "source": [
    "Print out the keywords:\n",
    "\n",
    "```\n",
    "'Comedy, Drama, Thriller'\n",
    "```"
   ]
  },
  {
   "cell_type": "code",
   "execution_count": null,
   "metadata": {},
   "outputs": [],
   "source": []
  },
  {
   "cell_type": "markdown",
   "metadata": {},
   "source": [
    "Get the full description\n",
    "\n",
    "```\n",
    "Rachel and Travis move to New Jersey for peace but end up beside a mobster. After a murder, Rachel takes drastic steps to safeguard her family.\n",
    "```"
   ]
  },
  {
   "cell_type": "code",
   "execution_count": null,
   "metadata": {},
   "outputs": [],
   "source": []
  },
  {
   "cell_type": "markdown",
   "metadata": {},
   "source": [
    "Print all of the credit information, the output should look like this:\n",
    "\n",
    "```\n",
    "'\\n\\nDirector\\nMichael Marantz\\n\\n\\nProducer\\nStephanie Bargas, Michael Marantz\\n\\n\\nScreenwriter\\nMichael Marantz\\n\\n\\nCinematographer\\nTim Sessler\\n\\n\\nEditor\\nScott Morris\\n\\n\\nComposer\\nMichael Marantz\\n\\n\\nExecutive Producer\\nTravis Batzer, Stephanie Bargas, Matt Dattilio, Jane Marantz, Chuck Marantz\\n\\n\\nAssociate Producer\\nBecky Di Lallo\\n\\n\\nCast\\nKate Arrington, Danny Burstein, Max Casella\\n\\n'\n",
    "\n",
    "```"
   ]
  },
  {
   "cell_type": "code",
   "execution_count": null,
   "metadata": {
    "scrolled": true
   },
   "outputs": [],
   "source": []
  },
  {
   "cell_type": "markdown",
   "metadata": {},
   "source": [
    "Print all of the credit information, but with each credit in list format:\n",
    "\n",
    "```\n",
    "['Director', 'Michael Marantz']\n",
    "['Producer', 'Stephanie Bargas, Michael Marantz']\n",
    "['Screenwriter', 'Michael Marantz']\n",
    "['Cinematographer', 'Tim Sessler']\n",
    "['Editor', 'Scott Morris']\n",
    "['Composer', 'Michael Marantz']\n",
    "['Executive Producer', 'Travis Batzer, Stephanie Bargas, Matt Dattilio, Jane Marantz, Chuck Marantz']\n",
    "['Associate Producer', 'Becky Di Lallo']\n",
    "['Cast', 'Kate Arrington, Danny Burstein, Max Casella']\n",
    "\n",
    "```"
   ]
  },
  {
   "cell_type": "code",
   "execution_count": null,
   "metadata": {},
   "outputs": [],
   "source": []
  },
  {
   "cell_type": "markdown",
   "metadata": {},
   "source": [
    "Now do the same thing for the details page for the first movie \"Alarms\".\n",
    "\n",
    "Download and parse the the details page and scrape the following.\n"
   ]
  },
  {
   "cell_type": "code",
   "execution_count": null,
   "metadata": {},
   "outputs": [],
   "source": []
  },
  {
   "cell_type": "markdown",
   "metadata": {},
   "source": [
    "Get the film info\n",
    "```\n",
    "\\nShort\\n  | France\\n  | 17 MINUTES\\n  | French \\n  | English subtitles\\n\n",
    "```"
   ]
  },
  {
   "cell_type": "code",
   "execution_count": null,
   "metadata": {},
   "outputs": [],
   "source": []
  },
  {
   "cell_type": "markdown",
   "metadata": {},
   "source": [
    "Get the keyword info:\n",
    "\n",
    "```\n",
    "'Drama'\n",
    "\n",
    "\n",
    "```"
   ]
  },
  {
   "cell_type": "code",
   "execution_count": null,
   "metadata": {},
   "outputs": [],
   "source": []
  },
  {
   "cell_type": "markdown",
   "metadata": {},
   "source": [
    "Get the full description\n",
    "\n",
    "```\n",
    "Pierre is diligently overseeing the completion of the tumultuous construction site under his responsibility, ensuring that progress doesn't come at the cost of safety.\n",
    "```"
   ]
  },
  {
   "cell_type": "code",
   "execution_count": null,
   "metadata": {},
   "outputs": [],
   "source": []
  },
  {
   "cell_type": "markdown",
   "metadata": {},
   "source": [
    "Now print out all of the credit information, the output should look like this:\n",
    "\n",
    "```\n",
    "\\n\\nDirector\\nNicolas Panay\\n\\n\\nProducer\\nNoëlle Levenez\\n\\n\\nScreenwriter\\nNicolas Panay\\n\\n\\nCinematographer\\nGiovanni C. Lorusso\\n\\n\\nEditor\\nAntoine Flandre\\n\\n\\nExecutive Producer\\nMalya Bouchareb\\n\\n\\nAssociate Producer\\nMarine Lepaulmier, Noël Fuzellier\\n\\n\\nCast\\nThomas Coumans, \\nLaurence Côte\\n, Eminé Meyrem\\n\\n\n",
    "\n",
    "```"
   ]
  },
  {
   "cell_type": "code",
   "execution_count": null,
   "metadata": {},
   "outputs": [],
   "source": []
  },
  {
   "cell_type": "markdown",
   "metadata": {},
   "source": [
    "Do the same thing, but get each credit line in list format:\n",
    "\n",
    "```\n",
    "['Director', 'Nicolas Panay']\n",
    "['Producer', 'Noëlle Levenez']\n",
    "['Screenwriter', 'Nicolas Panay']\n",
    "['Cinematographer', 'Giovanni C. Lorusso']\n",
    "['Editor', 'Antoine Flandre']\n",
    "['Executive Producer', 'Malya Bouchareb']\n",
    "['Associate Producer', 'Marine Lepaulmier, Noël Fuzellier']\n",
    "['Cast', 'Thomas Coumans, \\nLaurence Côte\\n, Eminé Meyrem']\n",
    "\n",
    "```"
   ]
  },
  {
   "cell_type": "code",
   "execution_count": null,
   "metadata": {},
   "outputs": [],
   "source": []
  },
  {
   "cell_type": "markdown",
   "metadata": {},
   "source": [
    "**Finally** Deep Breath!!!—bring all of this together in three cells:\n",
    "\n",
    "In the first cell: the main page and building a list of dictionaries for each film.\n",
    "\n",
    "In the second cell: loop through that list of dictionaries using the URL key from the main page, and scrape every single details page for every single movie. And that's creepy add dictionary keys to the dictionary you're looping through, and get all of the information that you extracted from the details pages earlier in this assignment.\n",
    "\n",
    "In the third: display the list of dictionaries for each film. It should look like this:\n",
    "\n",
    "\n",
    "```\n",
    "[{'name': 'Alarms',\n",
    "  'url': '/films/alarms-2024',\n",
    "  'shortdes': 'Pierre is diligently overseeing the completion of the tumultuous construction site under his responsibility, ensuring that prog...',\n",
    "  'info': '\\nShort\\n  | France\\n  | 17 MINUTES\\n  | French \\n  | English subtitles\\n',\n",
    "  'genres': 'Drama',\n",
    "  'description': \"Pierre is diligently overseeing the completion of the tumultuous construction site under his responsibility, ensuring that progress doesn't come at the cost of safety.\",\n",
    "  'Director': 'Nicolas Panay',\n",
    "  'Producer': 'Noëlle Levenez',\n",
    "  'Screenwriter': 'Nicolas Panay',\n",
    "  'Cinematographer': 'Giovanni C. Lorusso',\n",
    "  'Editor': 'Antoine Flandre',\n",
    "  'Executive_Producer': 'Malya Bouchareb',\n",
    "  'Associate_Producer': 'Marine Lepaulmier, Noël Fuzellier',\n",
    "  'Cast': 'Thomas Coumans, \\nLaurence Côte\\n, Eminé Meyrem'},\n",
    " {'name': 'All Things Metal',\n",
    "  'url': '/films/all-things-metal-2024',\n",
    "  'shortdes': 'Three brothers run an iron forge together where they smith and also make heavy metal music. Their creative impulses come from a...',\n",
    "  'info': '\\nShort\\n  | United States\\n  | 18 MINUTES\\n  | English \\n',\n",
    "  'genres': 'Documentary, Music, Art, Biography, Disability',\n",
    "  'description': 'Three brothers run an iron forge together where they smith and also make heavy metal music. Their creative impulses come from a unique childhood marked by a shared disability.',\n",
    "  'Director': 'Motoki Otsuka',\n",
    "  'Producer': 'Lucy Sexton',\n",
    "  'Cinematographer': 'Nick Ramey',\n",
    "  'Editor': 'Marc Vives, Adam Thomas',\n",
    "  'Composer': 'Rafter Roberts',\n",
    "  'Executive_Producer': 'Jenna M. Kelly, Beth Aala, Dee Snider, Karen Jorgensen',\n",
    "  'Contributing_Producers': 'Chris Temple, Zach Ingrasci',\n",
    "  'Additional_Camera': 'Ryan Rude'},\n",
    " {'name': 'À toi les oreilles',\n",
    "  'url': '/films/a-toi-les-oreilles-2024',\n",
    "  'shortdes': \"While the townsfolk are celebrating the village's anniversary parade, Étienne tries the impossible: to show them how beautiful ...\",\n",
    "  'info': '\\nShort\\n  | Canada\\n  | 14 MINUTES\\n  | French \\n  | English subtitles\\n',\n",
    "  'genres': 'Music, Narrative',\n",
    "  'description': \"While the townsfolk are celebrating the village's anniversary parade, Étienne tries the impossible: to show them how beautiful his family’s cacophony really is.\",\n",
    "  'Director': 'Alexandre Isabelle',\n",
    "  'Producer': 'Alexandre Isabelle',\n",
    "  'Screenwriter': 'Alexandre Isabelle',\n",
    "  'Cinematographer': 'Isabelle Stachtchenko',\n",
    "  'Editor': 'Myriam Magassouba',\n",
    "  'Composer': 'Mathieu Robineau, Dâvi Simard',\n",
    "  'Executive_Producer': 'Catherine Leblanc',\n",
    "  'Associate_Producer': 'Catherine Kirouac ',\n",
    "  'Cast': ' Bruno Bouchard, Gaston Lepage, Marie-Ginette Guay, Dâvi Simard, Gabrielle Bouthillier, Jean-François Berthiaume'},\n",
    " {'name': '¡Beso de lengua!',\n",
    "  'url': '/films/beso-de-lengua-2024',\n",
    "  'shortdes': 'Itzcóatl and Moisés are on their first date. After a couple of hours of getting to know each other, they “play” an unusual and ...',\n",
    "  'info': '\\nShort\\n  | Mexico\\n  | 15 MINUTES\\n  | Spanish \\n  | English subtitles\\n',\n",
    "  'genres': 'Experimental, Comedy, Drama, LGBTQIA+, Romance, Latinx/Latin American',\n",
    "  'description': 'Itzcóatl and Moisés are on their first date. After a couple of hours of getting to know each other, they “play” an unusual and riveting game.',\n",
    "  'Director': 'José Luis Zorrero',\n",
    "  'Producer': 'Irving Serrano',\n",
    "  'Screenwriter': 'José Luis Zorrero',\n",
    "  'Cinematographer': 'Constanza Moctezuma',\n",
    "  'Editor': 'Fernando Siller',\n",
    "  'Production_Designer': 'Ariana Pérez',\n",
    "  'Sound_Design': 'Joel Arguelles',\n",
    "  'Cast': 'Dante Ureta, Francisco-Jácome García\\n'},\n",
    " {'name': 'BITE',\n",
    "  'url': '/films/bite-2024',\n",
    "  'shortdes': \"A woman who loses her identity to PTSD sets out to regain her identity by overcoming her trauma. Based on the writer/director's...\",\n",
    "  'info': '\\nShort\\n  | United States\\n  | 14 MINUTES\\n  | English \\n',\n",
    "  'genres': 'Action, Women, Comedy, Drama, Thriller, Biography, Disability, Narrative',\n",
    "  'description': \"A woman who loses her identity to PTSD sets out to regain her identity by overcoming her trauma. Based on the writer/director's personal experience. Post Traumatic Stress Disorder: a disability.\",\n",
    "  'Director': 'Jorey Worb',\n",
    "  'Producer': 'Jorey Worb, Alex Raiman, Katie White, Chelsea Eisen, Genevieve Kertesz',\n",
    "  'Screenwriter': 'Jorey Worb, Alex Raiman',\n",
    "  'Cinematographer': \"Garrett O'Brien\",\n",
    "  'Composer': 'Hal Rosenfeld',\n",
    "  'Editor': 'Anjoum Agrama ',\n",
    "  'Production_Designer': 'Caia Dipenbrock',\n",
    "  'Costume_Designer': 'Roxy Sorkin',\n",
    "  'Music_Supervisor': 'Tim Bickford',\n",
    "  'Music_Editor': 'Leah Dennis',\n",
    "  'Colorist': 'Bryan Smoller',\n",
    "  'Cast': 'Troian Bellisario, Evan Arnold, Arjun Gupta, Charlie Korman, Lesley Wolman, Jorey Worb'},\n",
    " {'name': 'Black Hercules',\n",
    "  'url': '/films/black-hercules-2024',\n",
    "  'shortdes': 'Black Hercules is a soulfully candid pilgrimage into the life and times of street bodybuilder, Craig Monson—and the social dich...',\n",
    "  'info': '\\nShort\\n  | United States\\n  | 9 MINUTES\\n  | English \\n',\n",
    "  'genres': 'Documentary, Expressions of Black Freedom',\n",
    "  'description': 'Black Hercules is a soulfully candid pilgrimage into the life and times of street bodybuilder, Craig Monson—and the social dichotomy of Black LA that made him into a legend.',\n",
    "  'Director': 'Rodney Lucas',\n",
    "  'Producer': 'Sari Thayer, Rhea Scott, Justin Lacob',\n",
    "  'Cinematographer': 'Kassim Norris',\n",
    "  'Editor': 'David Brodie',\n",
    "  'Cast': 'Craig Monson, Hasani Gomez, Ronald Gordon '},\n",
    " {'name': 'Bright White Light',\n",
    "  'url': '/films/bright-white-light-2024',\n",
    "  'shortdes': 'Bright White Light explores near-death experiences through real audio recordings, unveiling the boundaries of life and the myst...',\n",
    "  'info': '\\nShort\\n  | Finland\\n  | 13 MINUTES\\n  | Dutch, English, Finnish \\n  | English subtitles\\n',\n",
    "  'genres': 'Animation, Experimental, Documentary, Art',\n",
    "  'description': 'Bright White Light explores near-death experiences through real audio recordings, unveiling the boundaries of life and the mysteries of the afterlife.',\n",
    "  'Director': 'Henna Välkky, Eesu Lehtola',\n",
    "  'Producer': 'Henna Välkky ',\n",
    "  'Screenwriter': 'Henna Välkky',\n",
    "  'Cinematographer': 'Eesu Lehtola',\n",
    "  'Editor': 'Henna Välkky',\n",
    "  'Composer': 'Simo Pitkänen',\n",
    "  'Co-Producer': 'Ville Sivonen, Eesu Lehtola, Samuel Häkkinen'},\n",
    " {'name': 'The Brown Dog',\n",
    "  'url': '/films/brown-dog-2024',\n",
    "  'shortdes': 'Night after night, a watchman clocks into his lonely booth and spends hours composing endless security logs to stay awake, as h...',\n",
    "  'info': '\\nShort\\n  | United States\\n  | 14 MINUTES\\n  | English \\n  | English subtitles\\n',\n",
    "  'genres': 'Animation',\n",
    "  'description': 'Night after night, a watchman clocks into his lonely booth and spends hours composing endless security logs to stay awake, as he slowly descends into darkness.',\n",
    "  'Director': 'Jamie-James Medina',\n",
    "  'Producer': 'Nadia Hallgren, Jamie-James Medina, Mikey Stirton',\n",
    "  'Screenwriter': 'Willis Earl Beal',\n",
    "  'Cinematographer': 'Fons Schiedon (animation by)',\n",
    "  'Animation': 'Fons Schiedon',\n",
    "  'Composer': 'Tyshawn Sorey',\n",
    "  'Editor': 'Spencer Campbell',\n",
    "  'Executive_Producer': 'Holly Fraser, Damian Bradfield, Alex Mattinson, Phil van der Krogt, Wren Artur, Steve Buscemi',\n",
    "  'Associate_Producer': 'Ben Pobjoy, Spencer Campbell',\n",
    "  'Sound_Designer': 'Michalis Anthis',\n",
    "  '3D_Artist': 'Kurt Drubbel',\n",
    "  'Cast': 'Michael K. Williams, Steve Buscemi'},\n",
    " {'name': 'Budd, Sweat & Tearz',\n",
    "  'url': '/films/budd-sweat-tearz-2024',\n",
    "  'shortdes': \"After serving two decades for drug charges, Craig Sweat launches Uncle Budd, New York's first black-owned cannabis brand in the...\",\n",
    "  'info': '\\nShort\\n  | UK\\n  | 22 MINUTES\\n  | English \\n  | English subtitles\\n',\n",
    "  'genres': 'New York, Animation, Experimental, Documentary, Politics, Expressions of Black Freedom',\n",
    "  'description': \"After serving two decades for drug charges, Craig Sweat launches Uncle Budd, New York's first black-owned cannabis brand in the legal market, but faces obstacles raised by his past.\",\n",
    "  'Director': 'Jamie Perault',\n",
    "  'Producer': 'Jamie Perault, Cody Updegrave ',\n",
    "  'Cinematographer': 'Rufai Ajala',\n",
    "  'Composer': 'Hannah Barnett',\n",
    "  'Editor': 'Irfan Van Tuijl',\n",
    "  'Cast': 'Craig Sweat\\n, Jeanette Sweat\\n, Miguel Frito Lopez, \\nShane Breen, \\nBrandi Dais, \\nDavid ‘ Dr Dave’ J Ores, MD\\nLeslee Schwartz, Esq\\nMichael \\nRosco\\n'},\n",
    "\n",
    "... long so truncated ... \n",
    "\n",
    "{'name': 'Sol Beni',\n",
    "  'url': '/films/sol-beni-2024',\n",
    "  'shortdes': 'Confronted with the prospect of an imminent farewell, two friends reunite on the football field they grew up in.',\n",
    "  'info': '\\nShort\\n  | Ivory Coast\\n  | 11 MINUTES\\n  | French \\n  | English subtitles\\n',\n",
    "  'genres': 'Documentary',\n",
    "  'description': 'Confronted with the prospect of an imminent farewell, two friends reunite on the football field they grew up in.',\n",
    "  'Director': 'Tristan Feres &  Maky Margaridis',\n",
    "  'Producer': 'jak - jonathan ram',\n",
    "  'Screenwriter': 'Tristan Feres &  Maky Margaridis',\n",
    "  'Cinematographer': 'Louis Diettert-Muller',\n",
    "  'Editor': 'Rémy Monti',\n",
    "  'Executive_Producer': 'jak - jonathan ram ',\n",
    "  'Cast': 'ANDRÉ CEDRIC, KONE INZA, KOUAMÉ MICHAEL, DIABATE SIAKA, COULIBALY AHMED, BRAYAN GAYEGO, SAMUEL DODO, BINI QUATTARA ABDOULAYE, TAPE ODETTE, DIANDA ELODIE, SANGARE ADAMA, ROBET FRANCOISE,\\nKOUASSI ULRICH LANDRY, DONWAHI LAGO EZÉCHIEL, PARE KOUDOUSS, FOFANA IBRAHIM JR, YEO CHIGATA, KOFFI JEAN ARIEL, COULIBALY IBRAHIM JR AND YAO KOUADIO KEVIN'},\n",
    " {'name': 'Some Kind of Paradise',\n",
    "  'url': '/films/some-kind-of-paradise-2024',\n",
    "  'shortdes': 'When a reclusive barman connects with a charismatic Hollywood actor via Grindr, the intensity of their connection pushes him to...',\n",
    "  'info': '\\nShort\\n  | United States\\n  | 21 MINUTES\\n  | English \\n  | English subtitles\\n',\n",
    "  'genres': 'Drama, LGBTQIA+, Romance',\n",
    "  'description': 'When a reclusive barman connects with a charismatic Hollywood actor via Grindr, the intensity of their connection pushes him to question the isolated life he has built for himself.',\n",
    "  'Director': 'Nicholas Finegan',\n",
    "  'Producer': 'Tianyu Yang',\n",
    "  'Screenwriter': 'Nicholas Finegan & Talisha Elger',\n",
    "  'Cinematographer': 'Sharon Pulwer',\n",
    "  'Editor': 'Richard Bai',\n",
    "  'Composer': 'Natasha Frank',\n",
    "  'Associate_Producer': 'Luca Norcen',\n",
    "  'Cast': 'John Brodsky, Gabriel Leyva, Chloe Ibanez'},\n",
    " {'name': 'Swollen',\n",
    "  'url': '/films/swollen-2024',\n",
    "  'shortdes': 'Roxy and Lily survive the night after botched plastic surgery.',\n",
    "  'info': '\\nShort\\n  | United States\\n  | 13 MINUTES\\n  | English \\n',\n",
    "  'genres': 'Horror, Women, Comedy, Thriller',\n",
    "  'description': 'Roxy and Lily survive the night after botched plastic surgery.',\n",
    "  'Director': 'Roxy Sophie Sorkin',\n",
    "  'Producer': 'Brian Niles, Lily Rosenthal, Chelsea Eisen',\n",
    "  'Screenwriter': 'Roxy Sophie Sorkin',\n",
    "  'Cinematographer': 'Shane Bagwell',\n",
    "  'Editor': 'Anjoum Agrama',\n",
    "  'Composer': 'Isaac Freidenberg',\n",
    "  'Executive_Producer': 'Will Noyce',\n",
    "  'Cast': 'Roxy Sorkin, Lily Rosenthal, Miles Fowler, Buck Andrews, Leaf Lieber, Miles Elliotm'},\n",
    " {'name': 'Veo Veo A Family',\n",
    "  'url': '/films/veo-veo-a-family-2024',\n",
    "  'shortdes': 'A Latina nanny and a Manhattan mother challenge the definition of family with a profound bond; one that is tested by a reminder...',\n",
    "  'info': '\\nShort\\n  | United States\\n  | 12 MINUTES\\n  | English \\n',\n",
    "  'genres': 'New York, Women, Drama, Politics',\n",
    "  'description': \"A Latina nanny and a Manhattan mother challenge the definition of family with a profound bond; one that is tested by a reminder of the nanny's past family tragedy.\",\n",
    "  'Director': 'Laura Kosann',\n",
    "  'Producer': 'Laura Kosann, Stephanie Roush, Cecilia Delgado',\n",
    "  'Screenwriter': 'Laura Kosann',\n",
    "  'Cinematographer': 'Sonja Tsypin',\n",
    "  'Editor': 'Cecilia Delgado',\n",
    "  'Composer': 'Emily Rice',\n",
    "  'Cast': 'KO, Carla Gugino, Sawyer Gacka, Benjamin Thys'},\n",
    " {'name': 'The White Rabbit',\n",
    "  'url': '/films/white-rabbit-2024',\n",
    "  'shortdes': 'Rachel and Travis move to New Jersey for peace but end up beside a mobster. After a murder, Rachel takes drastic steps to safeg...',\n",
    "  'info': '\\nShort\\n  | United States\\n  | 12 MINUTES\\n  | English \\n',\n",
    "  'genres': 'Comedy, Drama, Thriller',\n",
    "  'description': 'Rachel and Travis move to New Jersey for peace but end up beside a mobster. After a murder, Rachel takes drastic steps to safeguard her family.',\n",
    "  'Director': 'Michael Marantz',\n",
    "  'Producer': 'Stephanie Bargas, Michael Marantz',\n",
    "  'Screenwriter': 'Michael Marantz',\n",
    "  'Cinematographer': 'Tim Sessler',\n",
    "  'Editor': 'Scott Morris',\n",
    "  'Composer': 'Michael Marantz',\n",
    "  'Executive_Producer': 'Travis Batzer, Stephanie Bargas, Matt Dattilio, Jane Marantz, Chuck Marantz',\n",
    "  'Associate_Producer': 'Becky Di Lallo',\n",
    "  'Cast': 'Kate Arrington, Danny Burstein, Max Casella'}]\n"
   ]
  },
  {
   "cell_type": "code",
   "execution_count": null,
   "metadata": {},
   "outputs": [],
   "source": []
  },
  {
   "cell_type": "code",
   "execution_count": null,
   "metadata": {},
   "outputs": [],
   "source": []
  },
  {
   "cell_type": "code",
   "execution_count": null,
   "metadata": {},
   "outputs": [],
   "source": []
  },
  {
   "cell_type": "code",
   "execution_count": null,
   "metadata": {},
   "outputs": [],
   "source": []
  },
  {
   "cell_type": "markdown",
   "metadata": {},
   "source": [
    "## Real Shakespeare: Extra Credit\n",
    "Haven't done enough scraping, you're in luck!!!\n",
    "\n",
    "The Folger  Shakespeare Library has HTML versions of their Shakespeare publicly available, but in terrible HTML format. If you want to challenge yourself try pulling out the first 100 lines of Twelfth Night, available here:\n",
    "\n",
    "http://floatingmedia.com/columbia/FolgerShakes/TN.html\n",
    "\n",
    "The final output should resemble what you see below. Each of these lines contains three elements:\n",
    "\n",
    "1) a code for act.scene.line along with whether is the stage direction \n",
    "2) the speaker or the last person who spoke prior to the stage direction\n",
    "3) a line or stage direction.\n",
    "\n",
    "`\n",
    "line-SD 1.1.0\tNOSPEAKER\tEnter Orsino, Duke of Illyria, Curio, and other Lords,\n",
    "line-SD 1.1.0\tNOSPEAKER\twith\n",
    "line-SD 1.1.0\tNOSPEAKER\t Musicians playing.\n",
    "line-1.1.1\tORSINO\tIf music be the food of love, play on.\n",
    "line-1.1.2\tORSINO\tGive me excess of it, that, surfeiting,\n",
    "line-1.1.3\tORSINO\tThe appetite may sicken and so die.\n",
    "line-1.1.4\tORSINO\tThat strain again! It had a dying fall.\n",
    "line-1.1.5\tORSINO\tO, it came o’er my ear like the sweet sound\n",
    "line-1.1.6\tORSINO\tThat breathes upon a bank of violets,\n",
    "line-1.1.7\tORSINO\tStealing and giving odor. Enough; no more.\n",
    "line-1.1.8\tORSINO\t’Tis not so sweet now as it was before.\n",
    "line-1.1.9\tORSINO\tO spirit of love, how quick and fresh art thou,\n",
    "line-1.1.10\tORSINO\tThat, notwithstanding thy capacity\n",
    "line-1.1.11\tORSINO\tReceiveth as the sea, naught enters there,\n",
    "line-1.1.12\tORSINO\tOf what validity and pitch soe’er,\n",
    "line-1.1.13\tORSINO\tBut falls into abatement and low price\n",
    "line-1.1.14\tORSINO\tEven in a minute. So full of shapes is fancy\n",
    "line-1.1.15\tORSINO\tThat it alone is high fantastical.\n",
    "line-1.1.16\tCURIO\tWill you go hunt, my lord?\n",
    "line-1.1.17\tORSINO\tWhat, Curio?\n",
    "line-1.1.18\tCURIO\tThe hart.\n",
    "line-1.1.19\tORSINO\tWhy, so I do, the noblest that I have.\n",
    "line-1.1.20\tORSINO\tO, when mine eyes did see Olivia first,\n",
    "line-1.1.21\tORSINO\tMethought she purged the air of pestilence.\n",
    "line-1.1.22\tORSINO\tThat instant was I turned into a hart,\n",
    "line-1.1.23\tORSINO\tAnd my desires, like fell and cruel hounds,\n",
    "line-1.1.24\tORSINO\tE’er since pursue me.\n",
    "line-SD 1.1.24.1\tORSINO\tEnter Valentine.\n",
    "line-1.1.25\tORSINO\tHow now, what news from her?\n",
    "line-1.1.26\tVALENTINE\tSo please my lord, I might not be admitted,\n",
    "line-1.1.27\tVALENTINE\tBut from her handmaid do return this answer:\n",
    "line-1.1.28\tVALENTINE\tThe element itself, till seven years’ heat,\n",
    "line-1.1.29\tVALENTINE\tShall not behold her face at ample view,\n",
    "line-1.1.30\tVALENTINE\tBut like a cloistress she will veilèd walk,\n",
    "line-1.1.31\tVALENTINE\tAnd water once a day her chamber round\n",
    "line-1.1.32\tVALENTINE\tWith eye-offending brine—all this to season\n",
    "line-1.1.33\tVALENTINE\tA brother’s dead love, which she would keep fresh\n",
    "line-1.1.34\tVALENTINE\tAnd lasting in her sad remembrance.\n",
    "line-1.1.35\tORSINO\tO, she that hath a heart of that fine frame\n",
    "line-1.1.36\tORSINO\tTo pay this debt of love but to a brother,\n",
    "line-1.1.37\tORSINO\tHow will she love when the rich golden shaft\n",
    "line-1.1.38\tORSINO\tHath killed the flock of all affections else\n",
    "line-1.1.39\tORSINO\tThat live in her; when liver, brain, and heart,\n",
    "line-1.1.40\tORSINO\tThese sovereign thrones, are all supplied, and filled\n",
    "line-1.1.41\tORSINO\tHer sweet perfections with one self king!\n",
    "line-1.1.42\tORSINO\tAway before me to sweet beds of flowers!\n",
    "line-1.1.43\tORSINO\tLove thoughts lie rich when canopied with bowers.\n",
    "line-SD 1.1.43.1\tORSINO\tThey exit.\n",
    "line-SD 1.2.0\tORSINO\tEnter Viola, a Captain, and Sailors.\n",
    "line-1.2.1\tVIOLA\tWhat country, friends, is this?\n",
    "line-1.2.2\tCAPTAIN\tThis is Illyria, lady.\n",
    "line-1.2.3\tVIOLA\tAnd what should I do in Illyria?\n",
    "line-1.2.4\tVIOLA\tMy brother he is in Elysium.\n",
    "line-1.2.5\tVIOLA\tPerchance he is not drowned.—What think you,\n",
    "line-1.2.6\tVIOLA\tsailors?\n",
    "line-1.2.7\tCAPTAIN\tIt is perchance that you yourself were saved.\n",
    "line-1.2.8\tVIOLA\tO, my poor brother! And so perchance may he be.\n",
    "line-1.2.9\tCAPTAIN\tTrue, madam. And to comfort you with chance,\n",
    "line-1.2.10\tCAPTAIN\tAssure yourself, after our ship did split,\n",
    "line-1.2.11\tCAPTAIN\tWhen you and those poor number saved with you\n",
    "line-1.2.12\tCAPTAIN\tHung on our driving boat, I saw your brother,\n",
    "line-1.2.13\tCAPTAIN\tMost provident in peril, bind himself\n",
    "line-1.2.14\tCAPTAIN\t(Courage and hope both teaching him the practice)\n",
    "line-1.2.15\tCAPTAIN\tTo a strong mast that lived upon the sea,\n",
    "line-1.2.16\tCAPTAIN\tWhere, like Arion\n",
    "line-1.2.16\tCAPTAIN\t on the dolphin’s back,\n",
    "line-1.2.17\tCAPTAIN\tI saw him hold acquaintance with the waves\n",
    "line-1.2.18\tCAPTAIN\tSo long as I could see.\n",
    "line-SD 1.2.19\tVIOLA\t, giving\n",
    "line-SD 1.2.19\tVIOLA\t him money\n",
    "line-1.2.19\tVIOLA\tFor saying so, there’s gold.\n",
    "line-1.2.20\tVIOLA\tMine own escape unfoldeth to my hope,\n",
    "line-1.2.21\tVIOLA\tWhereto thy speech serves for authority,\n",
    "line-1.2.22\tVIOLA\tThe like of him. Know’st thou this country?\n",
    "line-1.2.23\tCAPTAIN\tAy, madam, well, for I was bred and born\n",
    "line-1.2.24\tCAPTAIN\tNot three hours’ travel from this very place.\n",
    "line-1.2.25\tVIOLA\tWho governs here?\n",
    "line-1.2.26\tCAPTAIN\tA noble duke, in nature as in name.\n",
    "line-1.2.27\tVIOLA\tWhat is his name?\n",
    "line-1.2.28\tCAPTAIN\tOrsino.\n",
    "line-1.2.29\tVIOLA\tOrsino. I have heard my father name him.\n",
    "line-1.2.30\tVIOLA\tHe was a bachelor then.\n",
    "line-1.2.31\tCAPTAIN\tAnd so is now, or was so very late;\n",
    "line-1.2.32\tCAPTAIN\tFor but a month ago I went from hence,\n",
    "line-1.2.33\tCAPTAIN\tAnd then ’twas fresh in murmur (as, you know,\n",
    "line-1.2.34\tCAPTAIN\tWhat great ones do the less will prattle of)\n",
    "line-1.2.35\tCAPTAIN\tThat he did seek the love of fair Olivia.\n",
    "line-1.2.36\tVIOLA\tWhat’s she?\n",
    "line-1.2.37\tCAPTAIN\tA virtuous maid, the daughter of a count\n",
    "line-1.2.38\tCAPTAIN\tThat died some twelvemonth since, then leaving her\n",
    "line-1.2.39\tCAPTAIN\tIn the protection of his son, her brother,\n",
    "line-1.2.40\tCAPTAIN\tWho shortly also died, for whose dear love,\n",
    "line-1.2.41\tCAPTAIN\tThey say, she hath abjured the sight\n",
    "line-1.2.42\tCAPTAIN\tAnd company of men.\n",
    "line-1.2.43\tVIOLA\tO, that I served that lady,\n",
    "line-1.2.44\tVIOLA\tAnd might not be delivered to the world\n",
    "line-1.2.45\tVIOLA\tTill I had made mine own occasion mellow,\n",
    "line-1.2.46\tVIOLA\tWhat my estate is.\n",
    "line-1.2.47\tCAPTAIN\tThat were hard to compass\n",
    "line-1.2.48\tCAPTAIN\tBecause she will admit no kind of suit,\n",
    "`"
   ]
  },
  {
   "cell_type": "markdown",
   "metadata": {},
   "source": [
    "Request and parse the HTML, and give it a shot!"
   ]
  },
  {
   "cell_type": "code",
   "execution_count": null,
   "metadata": {},
   "outputs": [],
   "source": []
  },
  {
   "cell_type": "code",
   "execution_count": null,
   "metadata": {},
   "outputs": [],
   "source": []
  },
  {
   "cell_type": "code",
   "execution_count": null,
   "metadata": {},
   "outputs": [],
   "source": []
  },
  {
   "cell_type": "code",
   "execution_count": null,
   "metadata": {},
   "outputs": [],
   "source": []
  },
  {
   "cell_type": "code",
   "execution_count": null,
   "metadata": {},
   "outputs": [],
   "source": []
  },
  {
   "cell_type": "code",
   "execution_count": null,
   "metadata": {},
   "outputs": [],
   "source": []
  },
  {
   "cell_type": "code",
   "execution_count": null,
   "metadata": {},
   "outputs": [],
   "source": []
  }
 ],
 "metadata": {
  "kernelspec": {
   "display_name": "Python 3 (ipykernel)",
   "language": "python",
   "name": "python3"
  },
  "language_info": {
   "codemirror_mode": {
    "name": "ipython",
    "version": 3
   },
   "file_extension": ".py",
   "mimetype": "text/x-python",
   "name": "python",
   "nbconvert_exporter": "python",
   "pygments_lexer": "ipython3",
   "version": "3.11.6"
  }
 },
 "nbformat": 4,
 "nbformat_minor": 4
}
