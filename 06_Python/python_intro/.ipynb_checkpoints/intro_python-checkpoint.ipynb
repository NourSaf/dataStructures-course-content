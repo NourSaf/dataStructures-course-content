{
 "cells": [
  {
   "cell_type": "markdown",
   "metadata": {},
   "source": [
    "## Using Python \n",
    "Welcome to Python! Python is a programming language that is particularly powerful for dealing with multiple text documents, running statistics, and running machine learning algorithms (and much much more!). There are many libraries and extensions of Python that make it a very effective and useful language.\n",
    "\n",
    "**Books:** There are two very good books for learning python. \n",
    "\n",
    "*Introducing Python* by Bill Lubanovic is the rare good, clear introduction to the language and to programming in general.\n",
    "\n",
    "*Python Crash Course* by Eric Matthes gives you a project based introduction, I have heard good things from those who have used this book.\n",
    "\n",
    "Googling, ChatBots, and tutorials can be helpful too!"
   ]
  },
  {
   "cell_type": "markdown",
   "metadata": {},
   "source": [
    "## Using Jupyter Notebook\n",
    "This is Jupyter Notebook, we are coding in it. It is an excellent, very manageable runtime enviroment.\n",
    "\n",
    "It even allows us to use Mark Down Language in specific cells (like this one) to write text and even include images, in order to make the notebook more readable.\n",
    "\n",
    "To run cells in Jupyter you can click the menu at the top: Run>Run Selected Cell (you can even run a bunch of cells, though be VERY careful about that...). But the best way is to select a cell and press **shift+enter**"
   ]
  },
  {
   "cell_type": "markdown",
   "metadata": {},
   "source": [
    "## Some Python Basics!!\n",
    "**variables:**  A variable is a named container--it can hold a variety of data.\n",
    "\n",
    "When we make a variable in Python we just type\n",
    "\n",
    "`variable_name = \"Something\"`\n",
    "\n",
    "The `=` assigns that value to the variable name. The variable name will contain the value, which could be one of the number of data types.\n",
    "\n",
    "The primary data types include\n",
    "\n",
    "**Strings:** Any string of text/numbers/symbols. They are enclosed in either double quotes \"my string\" or single quotes 'my string'. (If your string contains quotation marks you can cancel them out using a backslash \\ like so: 'Jon\\\\'s name is Jon')\n",
    "\n",
    "Strings, like all data types have many built-in properties and methods for accessing its characters. For example len(string) gets you the number of characters in the string.\n",
    "\n",
    "**Numbers:** Numerical values such as 93, -92, 1000000000, 443.232 and so on.\n",
    "\n",
    "These can be added, subtracted, multiplied, divided using the following operators respectively:\n",
    "\n",
    "`+ - * /`\n",
    "\n",
    "\n",
    "**Binary/Boolean:** `True` and `False` are recognized as values. They are not strings, so they're not put in quotation marks.\n",
    "\n",
    "**Lists:** These are ordered lists (they are called \"arrays\" in other languages)--they can contain strings, numbers, true/false, they can even contain simple variables, arrays and more!\n",
    "\n",
    "**Dictionaries:** These are essentially unordered lists that contain key value pairs, a key, stating what kind of information is in a value of any data type. These are called objects in JavaScript\n",
    "\n",
    "\n",
    "Each of these are demoed below!!"
   ]
  },
  {
   "cell_type": "code",
   "execution_count": null,
   "metadata": {},
   "outputs": [],
   "source": [
    "name = \"Dr. Python\"\n",
    "print(name + \" is my name!\")\n",
    "number = 9\n",
    "number\n",
    "print(name + str(number)) #this is bad, and will break things"
   ]
  },
  {
   "cell_type": "code",
   "execution_count": null,
   "metadata": {},
   "outputs": [],
   "source": [
    "realName = \"Jon\"\n",
    "realName"
   ]
  },
  {
   "cell_type": "markdown",
   "metadata": {},
   "source": [
    "**strings**\n"
   ]
  },
  {
   "cell_type": "code",
   "execution_count": null,
   "metadata": {},
   "outputs": [],
   "source": [
    "mystring = \"Welcome to Python\"\n",
    "# mystring\n",
    "mystring[-2] #first character in the string\n",
    "mystring[0:9] #first 8 characters in the string\n",
    "mystring.upper() #makes it uppercase\n",
    "mystring = mystring.upper()\n",
    "len(mystring) #get the length\n",
    "mystring"
   ]
  },
  {
   "cell_type": "markdown",
   "metadata": {},
   "source": [
    "**numbers**"
   ]
  },
  {
   "cell_type": "code",
   "execution_count": null,
   "metadata": {},
   "outputs": [],
   "source": [
    "age = 26\n",
    "age + 26\n",
    "age/2\n",
    "age +=1 # adds one to the variable and the var remembers it!\n",
    "age * 40\n",
    "age = age + 1"
   ]
  },
  {
   "cell_type": "markdown",
   "metadata": {},
   "source": [
    "**boolean and conditionals**\n",
    "\n",
    "True/False values are the most basic and simple values in the computation.\n",
    "\n",
    "Relatedly, conditional structures (aka if statements) are the most basic way that computers make choices based on an evaluations of whether a statement is true or false.\n",
    "\n",
    "The `:` is a key syntatical structure, and `indents` are crutial!! If you indent incorrectly it will break.\n"
   ]
  },
  {
   "cell_type": "code",
   "execution_count": null,
   "metadata": {},
   "outputs": [],
   "source": [
    "iexist = True\n",
    "if iexist:\n",
    "    print(\"Good for you!!\")\n",
    "else:\n",
    "    print(\"That's okay too!!\")"
   ]
  },
  {
   "cell_type": "code",
   "execution_count": null,
   "metadata": {},
   "outputs": [],
   "source": [
    "#more conditionals, test values\n",
    "age = 17\n",
    "# if age >= 18:\n",
    "#     print(\"you can vote!!\")\n",
    "# else:\n",
    "#     print(\"enjoy your youth!!\")\n",
    "\n",
    "city = \"New Orleans\"\n",
    "if age >= 21:\n",
    "    print(\"you can drink alcohol...\")\n",
    "elif age >= 18 and city == \"New Orleans\":\n",
    "    print(\"you can drink alcohol...\")\n",
    "else:\n",
    "    print(\"you cannot legally drink in the US\")\n",
    "    "
   ]
  },
  {
   "cell_type": "markdown",
   "metadata": {},
   "source": [
    "**lists:** I might call these arrays from time to time, cuz that's what every other language calls them. \n",
    "\n",
    "Python likes to make names more familiar but this can cause confusion because \"list\" is very common word\n",
    "\n",
    "These are extremely important to understand, they are the backbone of all computation because you often ITERATE through lists with **loops** (see below!!)"
   ]
  },
  {
   "cell_type": "code",
   "execution_count": null,
   "metadata": {},
   "outputs": [],
   "source": [
    "cats = [\"Popcorn\",\"Summer\",\"Lightning\"]\n",
    "len(cats) #how many cats??\n",
    "cats[-1] #first cat\n",
    "#0 is always the first index number of a list, we use these numbers to get the elements in the list\n",
    "cats.append(\"Mittens\") #append() adds new elements to the end\n",
    "cats[-1] #last element in the list"
   ]
  },
  {
   "cell_type": "markdown",
   "metadata": {},
   "source": [
    "**loops** \n",
    "\n",
    "These are a big difference from JavaScript. \n",
    "\n",
    "**Loops in python try to hide index numbers as much as possible.**\n",
    "\n",
    "Most often we loop through every element in a list!"
   ]
  },
  {
   "cell_type": "code",
   "execution_count": null,
   "metadata": {},
   "outputs": [],
   "source": [
    "for catName in cats:\n",
    "    print(catName)\n",
    "\n",
    "#That is the most basic loop, it is creating a loop specific variable called cat that will contain each element loop through."
   ]
  },
  {
   "cell_type": "code",
   "execution_count": null,
   "metadata": {},
   "outputs": [],
   "source": [
    "#every other cat\n",
    "for catName in cats[::2]:\n",
    "    print(catName)"
   ]
  },
  {
   "cell_type": "code",
   "execution_count": null,
   "metadata": {},
   "outputs": [],
   "source": [
    "#a little more going on in this loop\n",
    "for cat in cats:\n",
    "    if cat == \"Popcorn\":\n",
    "        print(cat + \" is my favorite!\")\n",
    "    else: \n",
    "        print(cat + \" is wonderful!\")\n",
    "#NOTE: indents are extremely important in python. They have to be perfect\n",
    "#Juypter will try to automatically indent for you"
   ]
  },
  {
   "cell_type": "code",
   "execution_count": null,
   "metadata": {},
   "outputs": [],
   "source": [
    "# a numerical loop\n",
    "for x in range(5,9):\n",
    "    print(x)"
   ]
  },
  {
   "cell_type": "markdown",
   "metadata": {},
   "source": [
    "**dictionaries:** these are objects in javascript, this is important because JSON (JavaScript object notation) it's one of the most common forms of data.\n",
    "\n"
   ]
  },
  {
   "cell_type": "code",
   "execution_count": null,
   "metadata": {},
   "outputs": [],
   "source": [
    "onecat = {\n",
    "    \"name\":\"Summer\",\n",
    "    \"color\":\"gray\",\n",
    "    \"personality\":\"sweet\"\n",
    "}\n",
    "onecat[\"name\"] #you cannot use .personality in Python (if you're a JavaScripter)\n",
    "#add a new key\n",
    "onecat[\"age\"] = 7\n",
    "onecat#if you put a variable name at the end of a cell it will display the variable."
   ]
  },
  {
   "cell_type": "code",
   "execution_count": null,
   "metadata": {},
   "outputs": [],
   "source": [
    "# conditional using dictionary keys\n",
    "if onecat[\"age\"] < 8:\n",
    "    print(onecat[\"name\"] + \" is still young\")\n",
    "elif onecat[\"age\"] == 8:\n",
    "    print(onecat[\"name\"] + \" is getting older\")\n",
    "else:\n",
    "    print(onecat[\"name\"] + \" is on the older side\")"
   ]
  },
  {
   "cell_type": "markdown",
   "metadata": {},
   "source": [
    "**Dealing with JSON**\n",
    "JSON in Python is a list of dictionaries.\n",
    "\n",
    "Here we are importing a JSON doc of Hamlet"
   ]
  },
  {
   "cell_type": "code",
   "execution_count": null,
   "metadata": {},
   "outputs": [],
   "source": [
    "# importing built-in json the module\n",
    "import json\n",
    " \n",
    "# Opening the file and interpreting it as json/dictionary\n",
    "\n",
    "with open('hamlet.json') as json_file:\n",
    "    hamlet = json.load(json_file)"
   ]
  },
  {
   "cell_type": "code",
   "execution_count": null,
   "metadata": {},
   "outputs": [],
   "source": [
    "print(hamlet[1])\n",
    "#print(hamlet[1212][\"speaker\"] + hamlet[1212][\"text_entry\"])\n",
    "# for line in hamlet[3:13]: #printing lines 4 through 13\n",
    "#     print(line)"
   ]
  },
  {
   "cell_type": "markdown",
   "metadata": {},
   "source": [
    "Print all lines spoken by Hamlet (you need an if statement inside the loop)"
   ]
  },
  {
   "cell_type": "code",
   "execution_count": null,
   "metadata": {},
   "outputs": [],
   "source": [
    "#Write code here"
   ]
  },
  {
   "cell_type": "markdown",
   "metadata": {},
   "source": [
    "Print all lines spoken by Ophelia (super similar)"
   ]
  },
  {
   "cell_type": "code",
   "execution_count": null,
   "metadata": {},
   "outputs": [],
   "source": [
    "#Write code here"
   ]
  },
  {
   "cell_type": "markdown",
   "metadata": {},
   "source": [
    "Print the first 10 lines spoken by Queen Gertrude (super similar, but you need to set up a counting variable and whenever you find a line add one to the counter, and use `break` to stop the loop when your counting variable reaches 10!)"
   ]
  },
  {
   "cell_type": "code",
   "execution_count": null,
   "metadata": {},
   "outputs": [],
   "source": [
    "#Write code here"
   ]
  },
  {
   "cell_type": "markdown",
   "metadata": {},
   "source": [
    "Print the last 10 lines of the play"
   ]
  },
  {
   "cell_type": "code",
   "execution_count": null,
   "metadata": {},
   "outputs": [],
   "source": [
    "#Write code here"
   ]
  },
  {
   "cell_type": "markdown",
   "metadata": {},
   "source": [
    "Print all lines that are shorter than 12 characters and who speaks them"
   ]
  },
  {
   "cell_type": "code",
   "execution_count": 3,
   "metadata": {},
   "outputs": [],
   "source": [
    "#Write code here"
   ]
  },
  {
   "cell_type": "markdown",
   "metadata": {},
   "source": [
    "Make a list of dictionaries"
   ]
  },
  {
   "cell_type": "code",
   "execution_count": null,
   "metadata": {},
   "outputs": [],
   "source": []
  }
 ],
 "metadata": {
  "kernelspec": {
   "display_name": "Python 3 (ipykernel)",
   "language": "python",
   "name": "python3"
  },
  "language_info": {
   "codemirror_mode": {
    "name": "ipython",
    "version": 3
   },
   "file_extension": ".py",
   "mimetype": "text/x-python",
   "name": "python",
   "nbconvert_exporter": "python",
   "pygments_lexer": "ipython3",
   "version": "3.12.2"
  }
 },
 "nbformat": 4,
 "nbformat_minor": 4
}
